{
 "cells": [
  {
   "cell_type": "markdown",
   "id": "ca4c4299-d3b8-48c2-88cb-18eae3fcd872",
   "metadata": {
    "vscode": {
     "languageId": "plaintext"
    }
   },
   "source": [
    "# **Data Cleaning**"
   ]
  },
  {
   "cell_type": "markdown",
   "id": "39505dde-5951-4ce7-afce-a4eaced04ee5",
   "metadata": {},
   "source": [
    "## **0. Import Libraries**"
   ]
  },
  {
   "cell_type": "code",
   "execution_count": 471,
   "id": "de785eab-f32a-4377-a261-53a3b25a4600",
   "metadata": {},
   "outputs": [],
   "source": [
    "import pandas as pd\n",
    "import numpy as np\n",
    "import matplotlib.pyplot as plt\n",
    "import seaborn as sns\n",
    "%matplotlib inline\n",
    "import math"
   ]
  },
  {
   "cell_type": "markdown",
   "id": "e7f82364-a68b-4a41-83e4-187d445acb9d",
   "metadata": {},
   "source": [
    "---\n",
    "## **1. Import Data**"
   ]
  },
  {
   "cell_type": "code",
   "execution_count": 472,
   "id": "39670a27-36c3-4bbd-a5e7-4aaf77f5f267",
   "metadata": {},
   "outputs": [],
   "source": [
    "orders = pd.read_csv('../data/raw/train/df_Orders.csv')\n",
    "order_items = pd.read_csv('../data/raw/train/df_OrderItems.csv')\n",
    "customers = pd.read_csv('../data/raw/train/df_Customers.csv')\n",
    "payments = pd.read_csv('../data/raw/train/df_Payments.csv')\n",
    "products = pd.read_csv('../data/raw/train/df_Products.csv')"
   ]
  },
  {
   "cell_type": "markdown",
   "id": "97086746-29df-4b11-87eb-3e15d3a04e33",
   "metadata": {},
   "source": [
    "## **2. Data Type Conversion**"
   ]
  },
  {
   "cell_type": "markdown",
   "id": "274a6795-bf0b-466b-80ee-f0e9f7d3fcd7",
   "metadata": {},
   "source": [
    "### Orders Data (df_Orders.csv)\n",
    "\n",
    "**🧼 Data Cleaning Summary — Orders File**\n",
    "- Changed data types for all timestamp columns.\n",
    "- Removed 2016 data (insignificant and noisy).\n",
    "- Removed rows where order_status = 'canceled' but had non-null delivery timestamp.\n",
    "- Dropped delivered rows with missing delivery timestamp.\n",
    "- Calculated `delivery_time_gap_hrs` and removed extreme outliers using KDE and CDF plots.\n",
    "- Added new features: `delivery_time_gap`, `delivery_time_gap_hrs`, `purchase_to_approval_hours`, `approval_to_delivery_hours`."
   ]
  },
  {
   "cell_type": "code",
   "execution_count": 502,
   "id": "7034d33b-989c-4464-b643-bc2b13c3618d",
   "metadata": {},
   "outputs": [],
   "source": [
    "orders['order_id'] = orders['order_id'].astype('string')\n",
    "orders['customer_id'] = orders['customer_id'].astype('string')\n",
    "orders['order_status'] = orders['order_status'].astype('category')\n",
    "\n",
    "orders['order_purchase_timestamp'] = pd.to_datetime(orders['order_purchase_timestamp'])\n",
    "orders['order_approved_at'] = pd.to_datetime(orders['order_approved_at'])\n",
    "orders['order_delivered_timestamp'] = pd.to_datetime(orders['order_delivered_timestamp'])\n",
    "orders['order_estimated_delivery_date'] = pd.to_datetime(orders['order_estimated_delivery_date'])"
   ]
  },
  {
   "cell_type": "code",
   "execution_count": 474,
   "id": "debcda1d-b55e-4c2a-a14b-4133477d0b39",
   "metadata": {},
   "outputs": [
    {
     "name": "stdout",
     "output_type": "stream",
     "text": [
      "<class 'pandas.core.frame.DataFrame'>\n",
      "RangeIndex: 89316 entries, 0 to 89315\n",
      "Data columns (total 7 columns):\n",
      " #   Column                         Non-Null Count  Dtype         \n",
      "---  ------                         --------------  -----         \n",
      " 0   order_id                       89316 non-null  string        \n",
      " 1   customer_id                    89316 non-null  string        \n",
      " 2   order_status                   89316 non-null  category      \n",
      " 3   order_purchase_timestamp       89316 non-null  datetime64[ns]\n",
      " 4   order_approved_at              89307 non-null  datetime64[ns]\n",
      " 5   order_delivered_timestamp      87427 non-null  datetime64[ns]\n",
      " 6   order_estimated_delivery_date  89316 non-null  datetime64[ns]\n",
      "dtypes: category(1), datetime64[ns](4), string(2)\n",
      "memory usage: 4.2 MB\n"
     ]
    }
   ],
   "source": [
    "orders.info()"
   ]
  },
  {
   "cell_type": "markdown",
   "id": "a5e58fff-fd4c-42cf-9103-ef4c0db9039c",
   "metadata": {},
   "source": [
    "---\n",
    "#### Removing the insignificant 2016 order data.\n",
    "Removing 2016 data from all tables which contain order_id for 2016 orders."
   ]
  },
  {
   "cell_type": "code",
   "execution_count": 475,
   "id": "1ef495b5-8b0c-4c5d-b104-a9433515cc9b",
   "metadata": {},
   "outputs": [],
   "source": [
    "# Remove 2016 orders in the orders dataframe\n",
    "orders = orders[orders['order_purchase_timestamp'].dt.year != 2016]\n",
    "\n",
    "# Now filter related tables (e.g., order_items, payments) by order_id\n",
    "order_items = order_items[order_items['order_id'].isin(orders['order_id'])]\n",
    "payments = payments[payments['order_id'].isin(orders['order_id'])]"
   ]
  },
  {
   "cell_type": "markdown",
   "id": "7a49c581-2c34-429c-aa6b-80cb5f139c90",
   "metadata": {},
   "source": [
    "### Handling Missing <span style='color: gray;'>*order_approved_at*</span> Values\n",
    "\n",
    "- There are 9 rows where order_approved_at is missing, but the order_status is 'delivered', and all other timestamps (purchase, delivery, etc.) are present.\n",
    "- These are complete orders, so the missing approval timestamp is probably due to some issues in logging.\n",
    "- **Action Taken:** No rows were removed. As these entries/rows are complete and valid for sales and delivery analysis.\n",
    "- Going further, if approval analysis is required a flag column for this will be added."
   ]
  },
  {
   "cell_type": "code",
   "execution_count": 476,
   "id": "36e31580-a883-419b-ac75-8600c62d7f05",
   "metadata": {},
   "outputs": [
    {
     "data": {
      "text/html": [
       "<div>\n",
       "<style scoped>\n",
       "    .dataframe tbody tr th:only-of-type {\n",
       "        vertical-align: middle;\n",
       "    }\n",
       "\n",
       "    .dataframe tbody tr th {\n",
       "        vertical-align: top;\n",
       "    }\n",
       "\n",
       "    .dataframe thead th {\n",
       "        text-align: right;\n",
       "    }\n",
       "</style>\n",
       "<table border=\"1\" class=\"dataframe\">\n",
       "  <thead>\n",
       "    <tr style=\"text-align: right;\">\n",
       "      <th></th>\n",
       "      <th>order_id</th>\n",
       "      <th>customer_id</th>\n",
       "      <th>order_status</th>\n",
       "      <th>order_purchase_timestamp</th>\n",
       "      <th>order_approved_at</th>\n",
       "      <th>order_delivered_timestamp</th>\n",
       "      <th>order_estimated_delivery_date</th>\n",
       "    </tr>\n",
       "  </thead>\n",
       "  <tbody>\n",
       "    <tr>\n",
       "      <th>10788</th>\n",
       "      <td>4Itts2TBUQzs</td>\n",
       "      <td>Z3dI7uRBfJOD</td>\n",
       "      <td>delivered</td>\n",
       "      <td>2017-02-17 13:05:55</td>\n",
       "      <td>NaT</td>\n",
       "      <td>2017-03-02 11:09:19</td>\n",
       "      <td>2017-03-20</td>\n",
       "    </tr>\n",
       "    <tr>\n",
       "      <th>16137</th>\n",
       "      <td>6MPB830Ufh0n</td>\n",
       "      <td>SOtqXN1MqcLj</td>\n",
       "      <td>delivered</td>\n",
       "      <td>2017-02-17 17:21:55</td>\n",
       "      <td>NaT</td>\n",
       "      <td>2017-03-03 12:16:03</td>\n",
       "      <td>2017-03-20</td>\n",
       "    </tr>\n",
       "    <tr>\n",
       "      <th>28951</th>\n",
       "      <td>lqW95yj4n1Qd</td>\n",
       "      <td>jCPmhkcyVR1z</td>\n",
       "      <td>delivered</td>\n",
       "      <td>2017-02-18 15:52:27</td>\n",
       "      <td>NaT</td>\n",
       "      <td>2017-03-07 13:57:47</td>\n",
       "      <td>2017-03-29</td>\n",
       "    </tr>\n",
       "    <tr>\n",
       "      <th>30494</th>\n",
       "      <td>dn1i9D4DFVZ2</td>\n",
       "      <td>Es95IGZCDDXy</td>\n",
       "      <td>delivered</td>\n",
       "      <td>2017-02-17 15:53:27</td>\n",
       "      <td>NaT</td>\n",
       "      <td>2017-03-03 11:47:47</td>\n",
       "      <td>2017-03-23</td>\n",
       "    </tr>\n",
       "    <tr>\n",
       "      <th>41752</th>\n",
       "      <td>vBZCEuCG9Hf1</td>\n",
       "      <td>zHEH7vdeO6UZ</td>\n",
       "      <td>delivered</td>\n",
       "      <td>2017-02-18 11:04:19</td>\n",
       "      <td>NaT</td>\n",
       "      <td>2017-03-02 16:15:23</td>\n",
       "      <td>2017-03-22</td>\n",
       "    </tr>\n",
       "    <tr>\n",
       "      <th>42772</th>\n",
       "      <td>PXwPIjmXCehX</td>\n",
       "      <td>gjKhFw8AFnW1</td>\n",
       "      <td>delivered</td>\n",
       "      <td>2017-02-18 16:48:35</td>\n",
       "      <td>NaT</td>\n",
       "      <td>2017-03-09 07:28:47</td>\n",
       "      <td>2017-03-31</td>\n",
       "    </tr>\n",
       "    <tr>\n",
       "      <th>47768</th>\n",
       "      <td>Yg9HDkWtA3Q3</td>\n",
       "      <td>GFg4QWN26cLs</td>\n",
       "      <td>delivered</td>\n",
       "      <td>2017-02-19 01:28:47</td>\n",
       "      <td>NaT</td>\n",
       "      <td>2017-03-02 03:41:58</td>\n",
       "      <td>2017-03-27</td>\n",
       "    </tr>\n",
       "    <tr>\n",
       "      <th>59434</th>\n",
       "      <td>hynO4uEubWbe</td>\n",
       "      <td>QdQBjy8APVMg</td>\n",
       "      <td>delivered</td>\n",
       "      <td>2017-02-18 14:40:00</td>\n",
       "      <td>NaT</td>\n",
       "      <td>2017-03-01 13:25:33</td>\n",
       "      <td>2017-03-17</td>\n",
       "    </tr>\n",
       "    <tr>\n",
       "      <th>65247</th>\n",
       "      <td>Uso7EoEPMrLU</td>\n",
       "      <td>rKJOxQc2PTfc</td>\n",
       "      <td>delivered</td>\n",
       "      <td>2017-01-19 22:26:59</td>\n",
       "      <td>NaT</td>\n",
       "      <td>2017-02-06 14:22:19</td>\n",
       "      <td>2017-03-16</td>\n",
       "    </tr>\n",
       "  </tbody>\n",
       "</table>\n",
       "</div>"
      ],
      "text/plain": [
       "           order_id   customer_id order_status order_purchase_timestamp  \\\n",
       "10788  4Itts2TBUQzs  Z3dI7uRBfJOD    delivered      2017-02-17 13:05:55   \n",
       "16137  6MPB830Ufh0n  SOtqXN1MqcLj    delivered      2017-02-17 17:21:55   \n",
       "28951  lqW95yj4n1Qd  jCPmhkcyVR1z    delivered      2017-02-18 15:52:27   \n",
       "30494  dn1i9D4DFVZ2  Es95IGZCDDXy    delivered      2017-02-17 15:53:27   \n",
       "41752  vBZCEuCG9Hf1  zHEH7vdeO6UZ    delivered      2017-02-18 11:04:19   \n",
       "42772  PXwPIjmXCehX  gjKhFw8AFnW1    delivered      2017-02-18 16:48:35   \n",
       "47768  Yg9HDkWtA3Q3  GFg4QWN26cLs    delivered      2017-02-19 01:28:47   \n",
       "59434  hynO4uEubWbe  QdQBjy8APVMg    delivered      2017-02-18 14:40:00   \n",
       "65247  Uso7EoEPMrLU  rKJOxQc2PTfc    delivered      2017-01-19 22:26:59   \n",
       "\n",
       "      order_approved_at order_delivered_timestamp  \\\n",
       "10788               NaT       2017-03-02 11:09:19   \n",
       "16137               NaT       2017-03-03 12:16:03   \n",
       "28951               NaT       2017-03-07 13:57:47   \n",
       "30494               NaT       2017-03-03 11:47:47   \n",
       "41752               NaT       2017-03-02 16:15:23   \n",
       "42772               NaT       2017-03-09 07:28:47   \n",
       "47768               NaT       2017-03-02 03:41:58   \n",
       "59434               NaT       2017-03-01 13:25:33   \n",
       "65247               NaT       2017-02-06 14:22:19   \n",
       "\n",
       "      order_estimated_delivery_date  \n",
       "10788                    2017-03-20  \n",
       "16137                    2017-03-20  \n",
       "28951                    2017-03-29  \n",
       "30494                    2017-03-23  \n",
       "41752                    2017-03-22  \n",
       "42772                    2017-03-31  \n",
       "47768                    2017-03-27  \n",
       "59434                    2017-03-17  \n",
       "65247                    2017-03-16  "
      ]
     },
     "execution_count": 476,
     "metadata": {},
     "output_type": "execute_result"
    }
   ],
   "source": [
    "orders[orders['order_approved_at'].isna()]"
   ]
  },
  {
   "cell_type": "markdown",
   "id": "aa19fd11-3d93-49bb-bf86-f2903ca96037",
   "metadata": {},
   "source": [
    "### Handling Missing <span style='color: gray;'>*order_delivered_timestamp*</span> Values\n",
    "\n",
    "- There are 1889 rows where order_delivered_timestamp is missing.\n",
    "- **Action Taken:** Removed canceled orders with delivered timestamp. Other rows were not removed. As these entries/rows are complete and valid for sales and delivery analysis.\n",
    "- Going further, if approval analysis is required a flag column for this will be added."
   ]
  },
  {
   "cell_type": "code",
   "execution_count": 477,
   "id": "30172f3a-92bf-4b4a-ad9f-9a4c8b6a10cd",
   "metadata": {},
   "outputs": [
    {
     "data": {
      "text/html": [
       "<div>\n",
       "<style scoped>\n",
       "    .dataframe tbody tr th:only-of-type {\n",
       "        vertical-align: middle;\n",
       "    }\n",
       "\n",
       "    .dataframe tbody tr th {\n",
       "        vertical-align: top;\n",
       "    }\n",
       "\n",
       "    .dataframe thead th {\n",
       "        text-align: right;\n",
       "    }\n",
       "</style>\n",
       "<table border=\"1\" class=\"dataframe\">\n",
       "  <thead>\n",
       "    <tr style=\"text-align: right;\">\n",
       "      <th></th>\n",
       "      <th>order_id</th>\n",
       "      <th>customer_id</th>\n",
       "      <th>order_status</th>\n",
       "      <th>order_purchase_timestamp</th>\n",
       "      <th>order_approved_at</th>\n",
       "      <th>order_delivered_timestamp</th>\n",
       "      <th>order_estimated_delivery_date</th>\n",
       "    </tr>\n",
       "  </thead>\n",
       "  <tbody>\n",
       "    <tr>\n",
       "      <th>15</th>\n",
       "      <td>P5R6jr1qZdh4</td>\n",
       "      <td>FrEvnEiMKGpr</td>\n",
       "      <td>canceled</td>\n",
       "      <td>2017-07-24 11:38:43</td>\n",
       "      <td>2017-07-24 11:50:18</td>\n",
       "      <td>NaT</td>\n",
       "      <td>2017-08-07</td>\n",
       "    </tr>\n",
       "    <tr>\n",
       "      <th>41</th>\n",
       "      <td>C21fWds5zL0W</td>\n",
       "      <td>iFsAJRrzVaTS</td>\n",
       "      <td>shipped</td>\n",
       "      <td>2017-02-04 12:58:55</td>\n",
       "      <td>2017-02-04 13:10:38</td>\n",
       "      <td>NaT</td>\n",
       "      <td>2017-03-15</td>\n",
       "    </tr>\n",
       "    <tr>\n",
       "      <th>86</th>\n",
       "      <td>vSug5AqRo9gE</td>\n",
       "      <td>oWBBqGwqpx4m</td>\n",
       "      <td>shipped</td>\n",
       "      <td>2017-05-07 10:22:58</td>\n",
       "      <td>2017-05-09 09:35:20</td>\n",
       "      <td>NaT</td>\n",
       "      <td>2017-06-12</td>\n",
       "    </tr>\n",
       "    <tr>\n",
       "      <th>89</th>\n",
       "      <td>2HQ26ShSPhCA</td>\n",
       "      <td>uvuFFZDOAlU7</td>\n",
       "      <td>canceled</td>\n",
       "      <td>2017-07-29 12:56:17</td>\n",
       "      <td>2017-07-29 13:05:18</td>\n",
       "      <td>NaT</td>\n",
       "      <td>2017-08-18</td>\n",
       "    </tr>\n",
       "    <tr>\n",
       "      <th>133</th>\n",
       "      <td>1By8LOosrvF2</td>\n",
       "      <td>grsbZ5L1H5ty</td>\n",
       "      <td>canceled</td>\n",
       "      <td>2017-11-06 15:47:20</td>\n",
       "      <td>2017-11-07 07:30:29</td>\n",
       "      <td>NaT</td>\n",
       "      <td>2017-11-28</td>\n",
       "    </tr>\n",
       "    <tr>\n",
       "      <th>...</th>\n",
       "      <td>...</td>\n",
       "      <td>...</td>\n",
       "      <td>...</td>\n",
       "      <td>...</td>\n",
       "      <td>...</td>\n",
       "      <td>...</td>\n",
       "      <td>...</td>\n",
       "    </tr>\n",
       "    <tr>\n",
       "      <th>89196</th>\n",
       "      <td>VP3EBMExdh7K</td>\n",
       "      <td>acB2XNtto2SX</td>\n",
       "      <td>shipped</td>\n",
       "      <td>2018-01-24 18:19:18</td>\n",
       "      <td>2018-01-24 18:37:41</td>\n",
       "      <td>NaT</td>\n",
       "      <td>2018-03-01</td>\n",
       "    </tr>\n",
       "    <tr>\n",
       "      <th>89226</th>\n",
       "      <td>0jPFvDPItbRN</td>\n",
       "      <td>Hb5m8q1YZEfv</td>\n",
       "      <td>canceled</td>\n",
       "      <td>2017-08-02 14:08:18</td>\n",
       "      <td>2017-08-02 14:23:13</td>\n",
       "      <td>NaT</td>\n",
       "      <td>2017-08-24</td>\n",
       "    </tr>\n",
       "    <tr>\n",
       "      <th>89234</th>\n",
       "      <td>QzxMjvdMpOEI</td>\n",
       "      <td>yCbzy1m4tTUA</td>\n",
       "      <td>shipped</td>\n",
       "      <td>2017-09-15 09:05:41</td>\n",
       "      <td>2017-09-15 09:15:13</td>\n",
       "      <td>NaT</td>\n",
       "      <td>2017-10-05</td>\n",
       "    </tr>\n",
       "    <tr>\n",
       "      <th>89262</th>\n",
       "      <td>rnnNWGgyHsA5</td>\n",
       "      <td>6LYRxLvrUzNy</td>\n",
       "      <td>canceled</td>\n",
       "      <td>2017-12-13 12:55:38</td>\n",
       "      <td>2017-12-13 13:11:58</td>\n",
       "      <td>NaT</td>\n",
       "      <td>2018-01-02</td>\n",
       "    </tr>\n",
       "    <tr>\n",
       "      <th>89281</th>\n",
       "      <td>YCJoeAvBWkpq</td>\n",
       "      <td>BaZgf4zWhXSS</td>\n",
       "      <td>shipped</td>\n",
       "      <td>2018-03-06 11:13:39</td>\n",
       "      <td>2018-03-06 11:30:38</td>\n",
       "      <td>NaT</td>\n",
       "      <td>2018-03-16</td>\n",
       "    </tr>\n",
       "  </tbody>\n",
       "</table>\n",
       "<p>1857 rows × 7 columns</p>\n",
       "</div>"
      ],
      "text/plain": [
       "           order_id   customer_id order_status order_purchase_timestamp  \\\n",
       "15     P5R6jr1qZdh4  FrEvnEiMKGpr     canceled      2017-07-24 11:38:43   \n",
       "41     C21fWds5zL0W  iFsAJRrzVaTS      shipped      2017-02-04 12:58:55   \n",
       "86     vSug5AqRo9gE  oWBBqGwqpx4m      shipped      2017-05-07 10:22:58   \n",
       "89     2HQ26ShSPhCA  uvuFFZDOAlU7     canceled      2017-07-29 12:56:17   \n",
       "133    1By8LOosrvF2  grsbZ5L1H5ty     canceled      2017-11-06 15:47:20   \n",
       "...             ...           ...          ...                      ...   \n",
       "89196  VP3EBMExdh7K  acB2XNtto2SX      shipped      2018-01-24 18:19:18   \n",
       "89226  0jPFvDPItbRN  Hb5m8q1YZEfv     canceled      2017-08-02 14:08:18   \n",
       "89234  QzxMjvdMpOEI  yCbzy1m4tTUA      shipped      2017-09-15 09:05:41   \n",
       "89262  rnnNWGgyHsA5  6LYRxLvrUzNy     canceled      2017-12-13 12:55:38   \n",
       "89281  YCJoeAvBWkpq  BaZgf4zWhXSS      shipped      2018-03-06 11:13:39   \n",
       "\n",
       "        order_approved_at order_delivered_timestamp  \\\n",
       "15    2017-07-24 11:50:18                       NaT   \n",
       "41    2017-02-04 13:10:38                       NaT   \n",
       "86    2017-05-09 09:35:20                       NaT   \n",
       "89    2017-07-29 13:05:18                       NaT   \n",
       "133   2017-11-07 07:30:29                       NaT   \n",
       "...                   ...                       ...   \n",
       "89196 2018-01-24 18:37:41                       NaT   \n",
       "89226 2017-08-02 14:23:13                       NaT   \n",
       "89234 2017-09-15 09:15:13                       NaT   \n",
       "89262 2017-12-13 13:11:58                       NaT   \n",
       "89281 2018-03-06 11:30:38                       NaT   \n",
       "\n",
       "      order_estimated_delivery_date  \n",
       "15                       2017-08-07  \n",
       "41                       2017-03-15  \n",
       "86                       2017-06-12  \n",
       "89                       2017-08-18  \n",
       "133                      2017-11-28  \n",
       "...                             ...  \n",
       "89196                    2018-03-01  \n",
       "89226                    2017-08-24  \n",
       "89234                    2017-10-05  \n",
       "89262                    2018-01-02  \n",
       "89281                    2018-03-16  \n",
       "\n",
       "[1857 rows x 7 columns]"
      ]
     },
     "execution_count": 477,
     "metadata": {},
     "output_type": "execute_result"
    }
   ],
   "source": [
    "orders[orders['order_delivered_timestamp'].isna()]"
   ]
  },
  {
   "cell_type": "markdown",
   "id": "21a14f25-871c-41bb-a94a-53441f5e679c",
   "metadata": {},
   "source": [
    "#### Canceled orders with Non-null delivered timestamps\n",
    "Canceled orders should not have delivered timestamps. These are removed."
   ]
  },
  {
   "cell_type": "code",
   "execution_count": 478,
   "id": "d785949b-601d-45cf-b914-db6f14bfe637",
   "metadata": {},
   "outputs": [
    {
     "data": {
      "text/html": [
       "<div>\n",
       "<style scoped>\n",
       "    .dataframe tbody tr th:only-of-type {\n",
       "        vertical-align: middle;\n",
       "    }\n",
       "\n",
       "    .dataframe tbody tr th {\n",
       "        vertical-align: top;\n",
       "    }\n",
       "\n",
       "    .dataframe thead th {\n",
       "        text-align: right;\n",
       "    }\n",
       "</style>\n",
       "<table border=\"1\" class=\"dataframe\">\n",
       "  <thead>\n",
       "    <tr style=\"text-align: right;\">\n",
       "      <th></th>\n",
       "      <th>order_id</th>\n",
       "      <th>customer_id</th>\n",
       "      <th>order_status</th>\n",
       "      <th>order_purchase_timestamp</th>\n",
       "      <th>order_approved_at</th>\n",
       "      <th>order_delivered_timestamp</th>\n",
       "      <th>order_estimated_delivery_date</th>\n",
       "    </tr>\n",
       "  </thead>\n",
       "  <tbody>\n",
       "    <tr>\n",
       "      <th>45856</th>\n",
       "      <td>STGODjAZ1w0n</td>\n",
       "      <td>SOg6P6UXk8Nu</td>\n",
       "      <td>canceled</td>\n",
       "      <td>2018-02-19 19:48:52</td>\n",
       "      <td>2018-02-19 20:56:05</td>\n",
       "      <td>2018-03-21 22:03:51</td>\n",
       "      <td>2018-03-09</td>\n",
       "    </tr>\n",
       "  </tbody>\n",
       "</table>\n",
       "</div>"
      ],
      "text/plain": [
       "           order_id   customer_id order_status order_purchase_timestamp  \\\n",
       "45856  STGODjAZ1w0n  SOg6P6UXk8Nu     canceled      2018-02-19 19:48:52   \n",
       "\n",
       "        order_approved_at order_delivered_timestamp  \\\n",
       "45856 2018-02-19 20:56:05       2018-03-21 22:03:51   \n",
       "\n",
       "      order_estimated_delivery_date  \n",
       "45856                    2018-03-09  "
      ]
     },
     "execution_count": 478,
     "metadata": {},
     "output_type": "execute_result"
    }
   ],
   "source": [
    "orders[(orders['order_status'] == 'canceled') & (orders['order_delivered_timestamp'].notna())]"
   ]
  },
  {
   "cell_type": "code",
   "execution_count": 479,
   "id": "b3396b42-ded4-4e86-bcac-335564005994",
   "metadata": {},
   "outputs": [],
   "source": [
    "# removing canceled order with non-null delivered timestamp\n",
    "orders = orders[~((orders['order_status'] == 'canceled') & orders['order_delivered_timestamp'].notna())]"
   ]
  },
  {
   "cell_type": "code",
   "execution_count": 480,
   "id": "2ea6cdda-2fa6-4021-8649-66f27a8f5d2b",
   "metadata": {},
   "outputs": [
    {
     "data": {
      "text/html": [
       "<div>\n",
       "<style scoped>\n",
       "    .dataframe tbody tr th:only-of-type {\n",
       "        vertical-align: middle;\n",
       "    }\n",
       "\n",
       "    .dataframe tbody tr th {\n",
       "        vertical-align: top;\n",
       "    }\n",
       "\n",
       "    .dataframe thead th {\n",
       "        text-align: right;\n",
       "    }\n",
       "</style>\n",
       "<table border=\"1\" class=\"dataframe\">\n",
       "  <thead>\n",
       "    <tr style=\"text-align: right;\">\n",
       "      <th></th>\n",
       "      <th>order_id</th>\n",
       "      <th>customer_id</th>\n",
       "      <th>order_status</th>\n",
       "      <th>order_purchase_timestamp</th>\n",
       "      <th>order_approved_at</th>\n",
       "      <th>order_delivered_timestamp</th>\n",
       "      <th>order_estimated_delivery_date</th>\n",
       "    </tr>\n",
       "  </thead>\n",
       "  <tbody>\n",
       "    <tr>\n",
       "      <th>15</th>\n",
       "      <td>P5R6jr1qZdh4</td>\n",
       "      <td>FrEvnEiMKGpr</td>\n",
       "      <td>canceled</td>\n",
       "      <td>2017-07-24 11:38:43</td>\n",
       "      <td>2017-07-24 11:50:18</td>\n",
       "      <td>NaT</td>\n",
       "      <td>2017-08-07</td>\n",
       "    </tr>\n",
       "    <tr>\n",
       "      <th>89</th>\n",
       "      <td>2HQ26ShSPhCA</td>\n",
       "      <td>uvuFFZDOAlU7</td>\n",
       "      <td>canceled</td>\n",
       "      <td>2017-07-29 12:56:17</td>\n",
       "      <td>2017-07-29 13:05:18</td>\n",
       "      <td>NaT</td>\n",
       "      <td>2017-08-18</td>\n",
       "    </tr>\n",
       "    <tr>\n",
       "      <th>133</th>\n",
       "      <td>1By8LOosrvF2</td>\n",
       "      <td>grsbZ5L1H5ty</td>\n",
       "      <td>canceled</td>\n",
       "      <td>2017-11-06 15:47:20</td>\n",
       "      <td>2017-11-07 07:30:29</td>\n",
       "      <td>NaT</td>\n",
       "      <td>2017-11-28</td>\n",
       "    </tr>\n",
       "    <tr>\n",
       "      <th>139</th>\n",
       "      <td>70G4cTVwm38h</td>\n",
       "      <td>WnCydkx96ul3</td>\n",
       "      <td>canceled</td>\n",
       "      <td>2018-07-04 16:05:56</td>\n",
       "      <td>2018-07-06 02:55:16</td>\n",
       "      <td>NaT</td>\n",
       "      <td>2018-08-22</td>\n",
       "    </tr>\n",
       "    <tr>\n",
       "      <th>146</th>\n",
       "      <td>aDxB5SgA7C4q</td>\n",
       "      <td>ejNZQ7X7x2T3</td>\n",
       "      <td>canceled</td>\n",
       "      <td>2018-02-05 16:30:33</td>\n",
       "      <td>2018-02-05 16:52:11</td>\n",
       "      <td>NaT</td>\n",
       "      <td>2018-03-12</td>\n",
       "    </tr>\n",
       "    <tr>\n",
       "      <th>...</th>\n",
       "      <td>...</td>\n",
       "      <td>...</td>\n",
       "      <td>...</td>\n",
       "      <td>...</td>\n",
       "      <td>...</td>\n",
       "      <td>...</td>\n",
       "      <td>...</td>\n",
       "    </tr>\n",
       "    <tr>\n",
       "      <th>89082</th>\n",
       "      <td>aG78pToOaDfa</td>\n",
       "      <td>1dd6SEHhWkP0</td>\n",
       "      <td>canceled</td>\n",
       "      <td>2017-08-16 16:15:31</td>\n",
       "      <td>2017-08-18 02:16:03</td>\n",
       "      <td>NaT</td>\n",
       "      <td>2017-08-29</td>\n",
       "    </tr>\n",
       "    <tr>\n",
       "      <th>89136</th>\n",
       "      <td>21GpVhZQJGfP</td>\n",
       "      <td>RcOEzkum8F9x</td>\n",
       "      <td>canceled</td>\n",
       "      <td>2017-09-15 09:29:20</td>\n",
       "      <td>2017-09-19 03:37:51</td>\n",
       "      <td>NaT</td>\n",
       "      <td>2017-10-05</td>\n",
       "    </tr>\n",
       "    <tr>\n",
       "      <th>89165</th>\n",
       "      <td>sjtJ9gzepMyS</td>\n",
       "      <td>W66KjtqQwS7L</td>\n",
       "      <td>canceled</td>\n",
       "      <td>2017-11-14 21:58:32</td>\n",
       "      <td>2017-11-16 22:31:07</td>\n",
       "      <td>NaT</td>\n",
       "      <td>2017-11-28</td>\n",
       "    </tr>\n",
       "    <tr>\n",
       "      <th>89226</th>\n",
       "      <td>0jPFvDPItbRN</td>\n",
       "      <td>Hb5m8q1YZEfv</td>\n",
       "      <td>canceled</td>\n",
       "      <td>2017-08-02 14:08:18</td>\n",
       "      <td>2017-08-02 14:23:13</td>\n",
       "      <td>NaT</td>\n",
       "      <td>2017-08-24</td>\n",
       "    </tr>\n",
       "    <tr>\n",
       "      <th>89262</th>\n",
       "      <td>rnnNWGgyHsA5</td>\n",
       "      <td>6LYRxLvrUzNy</td>\n",
       "      <td>canceled</td>\n",
       "      <td>2017-12-13 12:55:38</td>\n",
       "      <td>2017-12-13 13:11:58</td>\n",
       "      <td>NaT</td>\n",
       "      <td>2018-01-02</td>\n",
       "    </tr>\n",
       "  </tbody>\n",
       "</table>\n",
       "<p>398 rows × 7 columns</p>\n",
       "</div>"
      ],
      "text/plain": [
       "           order_id   customer_id order_status order_purchase_timestamp  \\\n",
       "15     P5R6jr1qZdh4  FrEvnEiMKGpr     canceled      2017-07-24 11:38:43   \n",
       "89     2HQ26ShSPhCA  uvuFFZDOAlU7     canceled      2017-07-29 12:56:17   \n",
       "133    1By8LOosrvF2  grsbZ5L1H5ty     canceled      2017-11-06 15:47:20   \n",
       "139    70G4cTVwm38h  WnCydkx96ul3     canceled      2018-07-04 16:05:56   \n",
       "146    aDxB5SgA7C4q  ejNZQ7X7x2T3     canceled      2018-02-05 16:30:33   \n",
       "...             ...           ...          ...                      ...   \n",
       "89082  aG78pToOaDfa  1dd6SEHhWkP0     canceled      2017-08-16 16:15:31   \n",
       "89136  21GpVhZQJGfP  RcOEzkum8F9x     canceled      2017-09-15 09:29:20   \n",
       "89165  sjtJ9gzepMyS  W66KjtqQwS7L     canceled      2017-11-14 21:58:32   \n",
       "89226  0jPFvDPItbRN  Hb5m8q1YZEfv     canceled      2017-08-02 14:08:18   \n",
       "89262  rnnNWGgyHsA5  6LYRxLvrUzNy     canceled      2017-12-13 12:55:38   \n",
       "\n",
       "        order_approved_at order_delivered_timestamp  \\\n",
       "15    2017-07-24 11:50:18                       NaT   \n",
       "89    2017-07-29 13:05:18                       NaT   \n",
       "133   2017-11-07 07:30:29                       NaT   \n",
       "139   2018-07-06 02:55:16                       NaT   \n",
       "146   2018-02-05 16:52:11                       NaT   \n",
       "...                   ...                       ...   \n",
       "89082 2017-08-18 02:16:03                       NaT   \n",
       "89136 2017-09-19 03:37:51                       NaT   \n",
       "89165 2017-11-16 22:31:07                       NaT   \n",
       "89226 2017-08-02 14:23:13                       NaT   \n",
       "89262 2017-12-13 13:11:58                       NaT   \n",
       "\n",
       "      order_estimated_delivery_date  \n",
       "15                       2017-08-07  \n",
       "89                       2017-08-18  \n",
       "133                      2017-11-28  \n",
       "139                      2018-08-22  \n",
       "146                      2018-03-12  \n",
       "...                             ...  \n",
       "89082                    2017-08-29  \n",
       "89136                    2017-10-05  \n",
       "89165                    2017-11-28  \n",
       "89226                    2017-08-24  \n",
       "89262                    2018-01-02  \n",
       "\n",
       "[398 rows x 7 columns]"
      ]
     },
     "execution_count": 480,
     "metadata": {},
     "output_type": "execute_result"
    }
   ],
   "source": [
    "orders[(orders['order_status'] == 'canceled') & (orders['order_delivered_timestamp'].isna())]"
   ]
  },
  {
   "cell_type": "markdown",
   "id": "cbfdd6fe-1d1e-4b43-985f-d2ef94ee5c64",
   "metadata": {},
   "source": [
    "#### Delivered orders with no delivery timestamp.\n",
    "Exist in very small numbers, so its best to remove these."
   ]
  },
  {
   "cell_type": "code",
   "execution_count": 481,
   "id": "5941d0d0-7964-475c-8d33-1710d9ca5e36",
   "metadata": {},
   "outputs": [
    {
     "data": {
      "text/html": [
       "<div>\n",
       "<style scoped>\n",
       "    .dataframe tbody tr th:only-of-type {\n",
       "        vertical-align: middle;\n",
       "    }\n",
       "\n",
       "    .dataframe tbody tr th {\n",
       "        vertical-align: top;\n",
       "    }\n",
       "\n",
       "    .dataframe thead th {\n",
       "        text-align: right;\n",
       "    }\n",
       "</style>\n",
       "<table border=\"1\" class=\"dataframe\">\n",
       "  <thead>\n",
       "    <tr style=\"text-align: right;\">\n",
       "      <th></th>\n",
       "      <th>order_id</th>\n",
       "      <th>customer_id</th>\n",
       "      <th>order_status</th>\n",
       "      <th>order_purchase_timestamp</th>\n",
       "      <th>order_approved_at</th>\n",
       "      <th>order_delivered_timestamp</th>\n",
       "      <th>order_estimated_delivery_date</th>\n",
       "    </tr>\n",
       "  </thead>\n",
       "  <tbody>\n",
       "    <tr>\n",
       "      <th>4254</th>\n",
       "      <td>t5kBjEdw3z8t</td>\n",
       "      <td>ZeIXZ7BBF5PP</td>\n",
       "      <td>delivered</td>\n",
       "      <td>2017-11-28 17:44:07</td>\n",
       "      <td>2017-11-28 17:56:40</td>\n",
       "      <td>NaT</td>\n",
       "      <td>2017-12-18</td>\n",
       "    </tr>\n",
       "    <tr>\n",
       "      <th>13268</th>\n",
       "      <td>BxxG20QRNt7K</td>\n",
       "      <td>RWhfv6bIMVsQ</td>\n",
       "      <td>delivered</td>\n",
       "      <td>2018-06-20 06:58:43</td>\n",
       "      <td>2018-06-20 07:19:05</td>\n",
       "      <td>NaT</td>\n",
       "      <td>2018-07-16</td>\n",
       "    </tr>\n",
       "    <tr>\n",
       "      <th>30892</th>\n",
       "      <td>yRSiD6TjWuMp</td>\n",
       "      <td>WrJg7MJuozgD</td>\n",
       "      <td>delivered</td>\n",
       "      <td>2018-07-01 22:05:55</td>\n",
       "      <td>2018-07-01 22:15:14</td>\n",
       "      <td>NaT</td>\n",
       "      <td>2018-07-30</td>\n",
       "    </tr>\n",
       "    <tr>\n",
       "      <th>65263</th>\n",
       "      <td>1XWJAxXBtYuW</td>\n",
       "      <td>Z5AHwQM14J3A</td>\n",
       "      <td>delivered</td>\n",
       "      <td>2018-06-08 12:09:39</td>\n",
       "      <td>2018-06-08 12:36:39</td>\n",
       "      <td>NaT</td>\n",
       "      <td>2018-06-26</td>\n",
       "    </tr>\n",
       "    <tr>\n",
       "      <th>65525</th>\n",
       "      <td>H6OIR9EVCoos</td>\n",
       "      <td>53rYCxN5t4tp</td>\n",
       "      <td>delivered</td>\n",
       "      <td>2018-06-27 16:09:12</td>\n",
       "      <td>2018-06-27 16:29:30</td>\n",
       "      <td>NaT</td>\n",
       "      <td>2018-07-19</td>\n",
       "    </tr>\n",
       "    <tr>\n",
       "      <th>67317</th>\n",
       "      <td>EznMwXRSIZcm</td>\n",
       "      <td>RMR2x4OEJS2K</td>\n",
       "      <td>delivered</td>\n",
       "      <td>2018-07-01 17:05:11</td>\n",
       "      <td>2018-07-01 17:15:12</td>\n",
       "      <td>NaT</td>\n",
       "      <td>2018-07-30</td>\n",
       "    </tr>\n",
       "  </tbody>\n",
       "</table>\n",
       "</div>"
      ],
      "text/plain": [
       "           order_id   customer_id order_status order_purchase_timestamp  \\\n",
       "4254   t5kBjEdw3z8t  ZeIXZ7BBF5PP    delivered      2017-11-28 17:44:07   \n",
       "13268  BxxG20QRNt7K  RWhfv6bIMVsQ    delivered      2018-06-20 06:58:43   \n",
       "30892  yRSiD6TjWuMp  WrJg7MJuozgD    delivered      2018-07-01 22:05:55   \n",
       "65263  1XWJAxXBtYuW  Z5AHwQM14J3A    delivered      2018-06-08 12:09:39   \n",
       "65525  H6OIR9EVCoos  53rYCxN5t4tp    delivered      2018-06-27 16:09:12   \n",
       "67317  EznMwXRSIZcm  RMR2x4OEJS2K    delivered      2018-07-01 17:05:11   \n",
       "\n",
       "        order_approved_at order_delivered_timestamp  \\\n",
       "4254  2017-11-28 17:56:40                       NaT   \n",
       "13268 2018-06-20 07:19:05                       NaT   \n",
       "30892 2018-07-01 22:15:14                       NaT   \n",
       "65263 2018-06-08 12:36:39                       NaT   \n",
       "65525 2018-06-27 16:29:30                       NaT   \n",
       "67317 2018-07-01 17:15:12                       NaT   \n",
       "\n",
       "      order_estimated_delivery_date  \n",
       "4254                     2017-12-18  \n",
       "13268                    2018-07-16  \n",
       "30892                    2018-07-30  \n",
       "65263                    2018-06-26  \n",
       "65525                    2018-07-19  \n",
       "67317                    2018-07-30  "
      ]
     },
     "execution_count": 481,
     "metadata": {},
     "output_type": "execute_result"
    }
   ],
   "source": [
    "orders[(orders['order_status'] == 'delivered') & (orders['order_delivered_timestamp'].isna())]"
   ]
  },
  {
   "cell_type": "code",
   "execution_count": 482,
   "id": "d54a410a-c782-4fc0-81a1-abf1bc024423",
   "metadata": {},
   "outputs": [],
   "source": [
    "orders = orders[~((orders['order_status'] == 'delivered') & (orders['order_delivered_timestamp'].isna()))]\n",
    "\n",
    "#remove references from other files too\n",
    "order_items = order_items[order_items['order_id'].isin(orders['order_id'])]\n",
    "payments = payments[payments['order_id'].isin(orders['order_id'])]"
   ]
  },
  {
   "cell_type": "markdown",
   "id": "fad89d6b-a7d4-4a69-8399-6407adcf60e6",
   "metadata": {},
   "source": [
    "---\n",
    "### There are no duplicate rows to be removed.\n",
    "---"
   ]
  },
  {
   "cell_type": "markdown",
   "id": "3b64d1f9-5ebe-40ba-9c9d-73f84b2e250f",
   "metadata": {},
   "source": [
    "**Note:** Orders with unavailable statuses were automatically removed as they were in the 2016 data only."
   ]
  },
  {
   "cell_type": "code",
   "execution_count": 483,
   "id": "1c24a1a9-363e-4312-bd85-29064679618b",
   "metadata": {},
   "outputs": [
    {
     "data": {
      "text/html": [
       "<div>\n",
       "<style scoped>\n",
       "    .dataframe tbody tr th:only-of-type {\n",
       "        vertical-align: middle;\n",
       "    }\n",
       "\n",
       "    .dataframe tbody tr th {\n",
       "        vertical-align: top;\n",
       "    }\n",
       "\n",
       "    .dataframe thead th {\n",
       "        text-align: right;\n",
       "    }\n",
       "</style>\n",
       "<table border=\"1\" class=\"dataframe\">\n",
       "  <thead>\n",
       "    <tr style=\"text-align: right;\">\n",
       "      <th></th>\n",
       "      <th>order_id</th>\n",
       "      <th>customer_id</th>\n",
       "      <th>order_status</th>\n",
       "      <th>order_purchase_timestamp</th>\n",
       "      <th>order_approved_at</th>\n",
       "      <th>order_delivered_timestamp</th>\n",
       "      <th>order_estimated_delivery_date</th>\n",
       "    </tr>\n",
       "  </thead>\n",
       "  <tbody>\n",
       "  </tbody>\n",
       "</table>\n",
       "</div>"
      ],
      "text/plain": [
       "Empty DataFrame\n",
       "Columns: [order_id, customer_id, order_status, order_purchase_timestamp, order_approved_at, order_delivered_timestamp, order_estimated_delivery_date]\n",
       "Index: []"
      ]
     },
     "execution_count": 483,
     "metadata": {},
     "output_type": "execute_result"
    }
   ],
   "source": [
    "orders[orders['order_status'] == 'unavailable']"
   ]
  },
  {
   "cell_type": "markdown",
   "id": "2e2e4b5d-64b8-427e-88c5-f75807eed910",
   "metadata": {},
   "source": [
    "#### Checking The Difference between Estimated & actual Delivery date"
   ]
  },
  {
   "cell_type": "code",
   "execution_count": 484,
   "id": "705c76b1-3a5e-4dc8-aa52-2abc31f9d702",
   "metadata": {},
   "outputs": [],
   "source": [
    "estimated_delivery_dates = orders['order_estimated_delivery_date']\n",
    "actual_delivery_dates = orders['order_delivered_timestamp']\n",
    "difference = (estimated_delivery_dates - actual_delivery_dates).dropna()\n",
    "difference_hours = ((difference.dt.total_seconds())/3600)\n",
    "# plt.scatter(difference_hours.index, difference_hours, alpha=0.5)\n",
    "# plt.show()"
   ]
  },
  {
   "cell_type": "code",
   "execution_count": 485,
   "id": "de707ef5-d2a4-4249-a4cd-da9d504261cc",
   "metadata": {},
   "outputs": [
    {
     "data": {
      "text/plain": [
       "count    87165.000000\n",
       "mean       272.719732\n",
       "std        238.698040\n",
       "min      -4535.401944\n",
       "25%        156.570278\n",
       "50%        290.020278\n",
       "75%        391.860278\n",
       "max       3504.386944\n",
       "dtype: float64"
      ]
     },
     "execution_count": 485,
     "metadata": {},
     "output_type": "execute_result"
    }
   ],
   "source": [
    "difference_hours.describe()"
   ]
  },
  {
   "cell_type": "code",
   "execution_count": 486,
   "id": "a487c33a-f4a4-4743-a49a-4325baa1029e",
   "metadata": {},
   "outputs": [
    {
     "data": {
      "image/png": "[encoded data removed]",
      "text/plain": [
       "<Figure size 640x480 with 1 Axes>"
      ]
     },
     "metadata": {},
     "output_type": "display_data"
    }
   ],
   "source": [
    "sorted_diff = np.sort(difference_hours)\n",
    "# cumulative distribution function\n",
    "cdf = np.arange(len(sorted_diff)) / len(sorted_diff)\n",
    "\n",
    "plt.plot(sorted_diff, cdf)\n",
    "plt.title(\"CDF of Delivery Time Gap (in Hours)\")\n",
    "plt.xlabel(\"Delivery Time Gap (Hours)\")\n",
    "plt.ylabel(\"Cumulative Percentage of Orders\")\n",
    "plt.show()"
   ]
  },
  {
   "cell_type": "code",
   "execution_count": 487,
   "id": "dfd5e3b2-7206-4b57-9018-15385a23e89a",
   "metadata": {},
   "outputs": [
    {
     "data": {
      "text/plain": [
       "86704"
      ]
     },
     "execution_count": 487,
     "metadata": {},
     "output_type": "execute_result"
    }
   ],
   "source": [
    "len(difference_hours[difference_hours.between(-1000, 1000)])"
   ]
  },
  {
   "cell_type": "code",
   "execution_count": 488,
   "id": "50b3e2ac-2035-4444-975e-adc94be6f315",
   "metadata": {},
   "outputs": [
    {
     "data": {
      "text/plain": [
       "87165"
      ]
     },
     "execution_count": 488,
     "metadata": {},
     "output_type": "execute_result"
    }
   ],
   "source": [
    "len(difference_hours)\n",
    "# 87165 - 86704 = 461, number of outlying entries, comes in use later for verifying"
   ]
  },
  {
   "cell_type": "markdown",
   "id": "2a58ca62-e2e9-404f-a754-cbbc4327af8c",
   "metadata": {},
   "source": [
    "#### Adding columns for difference between estimated & actual delivery time in datetime & in hrs.\n",
    "Then, Removing the data from orders data that has difference between estimated & actual delivery date not in (-1000, 1000) hrs.\n",
    "from the observation from above graphs."
   ]
  },
  {
   "cell_type": "code",
   "execution_count": 489,
   "id": "ad37be9c-1906-49bf-9e1e-5799fa18b90b",
   "metadata": {},
   "outputs": [
    {
     "data": {
      "text/html": [
       "<div>\n",
       "<style scoped>\n",
       "    .dataframe tbody tr th:only-of-type {\n",
       "        vertical-align: middle;\n",
       "    }\n",
       "\n",
       "    .dataframe tbody tr th {\n",
       "        vertical-align: top;\n",
       "    }\n",
       "\n",
       "    .dataframe thead th {\n",
       "        text-align: right;\n",
       "    }\n",
       "</style>\n",
       "<table border=\"1\" class=\"dataframe\">\n",
       "  <thead>\n",
       "    <tr style=\"text-align: right;\">\n",
       "      <th></th>\n",
       "      <th>order_id</th>\n",
       "      <th>customer_id</th>\n",
       "      <th>order_status</th>\n",
       "      <th>order_purchase_timestamp</th>\n",
       "      <th>order_approved_at</th>\n",
       "      <th>order_delivered_timestamp</th>\n",
       "      <th>order_estimated_delivery_date</th>\n",
       "      <th>delivery_time_gap</th>\n",
       "      <th>delivery_time_gap_hrs</th>\n",
       "    </tr>\n",
       "  </thead>\n",
       "  <tbody>\n",
       "    <tr>\n",
       "      <th>0</th>\n",
       "      <td>Axfy13Hk4PIk</td>\n",
       "      <td>hCT0x9JiGXBQ</td>\n",
       "      <td>delivered</td>\n",
       "      <td>2017-10-22 18:57:54</td>\n",
       "      <td>2017-10-22 19:14:13</td>\n",
       "      <td>2017-10-26 22:19:52</td>\n",
       "      <td>2017-11-09</td>\n",
       "      <td>13 days 01:40:08</td>\n",
       "      <td>313.668889</td>\n",
       "    </tr>\n",
       "    <tr>\n",
       "      <th>1</th>\n",
       "      <td>v6px92oS8cLG</td>\n",
       "      <td>PxA7fv9spyhx</td>\n",
       "      <td>delivered</td>\n",
       "      <td>2018-06-20 21:40:31</td>\n",
       "      <td>2018-06-20 22:20:20</td>\n",
       "      <td>2018-07-03 22:51:22</td>\n",
       "      <td>2018-07-24</td>\n",
       "      <td>20 days 01:08:38</td>\n",
       "      <td>481.143889</td>\n",
       "    </tr>\n",
       "    <tr>\n",
       "      <th>2</th>\n",
       "      <td>Ulpf9skrhjfm</td>\n",
       "      <td>g3nXeJkGI0Qw</td>\n",
       "      <td>delivered</td>\n",
       "      <td>2018-02-16 16:19:31</td>\n",
       "      <td>2018-02-17 16:15:35</td>\n",
       "      <td>2018-02-27 01:29:50</td>\n",
       "      <td>2018-03-08</td>\n",
       "      <td>8 days 22:30:10</td>\n",
       "      <td>214.502778</td>\n",
       "    </tr>\n",
       "    <tr>\n",
       "      <th>3</th>\n",
       "      <td>bwJVWupf2keN</td>\n",
       "      <td>EOEsCQ6QlpIg</td>\n",
       "      <td>delivered</td>\n",
       "      <td>2018-08-18 18:04:29</td>\n",
       "      <td>2018-08-18 18:15:16</td>\n",
       "      <td>2018-08-27 20:03:51</td>\n",
       "      <td>2018-09-19</td>\n",
       "      <td>22 days 03:56:09</td>\n",
       "      <td>531.935833</td>\n",
       "    </tr>\n",
       "    <tr>\n",
       "      <th>4</th>\n",
       "      <td>Dd0QnrMk9Cj5</td>\n",
       "      <td>mVz5LO2Vd6cL</td>\n",
       "      <td>delivered</td>\n",
       "      <td>2017-12-22 16:44:04</td>\n",
       "      <td>2017-12-22 17:31:31</td>\n",
       "      <td>2018-01-05 19:22:49</td>\n",
       "      <td>2018-01-18</td>\n",
       "      <td>12 days 04:37:11</td>\n",
       "      <td>292.619722</td>\n",
       "    </tr>\n",
       "  </tbody>\n",
       "</table>\n",
       "</div>"
      ],
      "text/plain": [
       "       order_id   customer_id order_status order_purchase_timestamp  \\\n",
       "0  Axfy13Hk4PIk  hCT0x9JiGXBQ    delivered      2017-10-22 18:57:54   \n",
       "1  v6px92oS8cLG  PxA7fv9spyhx    delivered      2018-06-20 21:40:31   \n",
       "2  Ulpf9skrhjfm  g3nXeJkGI0Qw    delivered      2018-02-16 16:19:31   \n",
       "3  bwJVWupf2keN  EOEsCQ6QlpIg    delivered      2018-08-18 18:04:29   \n",
       "4  Dd0QnrMk9Cj5  mVz5LO2Vd6cL    delivered      2017-12-22 16:44:04   \n",
       "\n",
       "    order_approved_at order_delivered_timestamp order_estimated_delivery_date  \\\n",
       "0 2017-10-22 19:14:13       2017-10-26 22:19:52                    2017-11-09   \n",
       "1 2018-06-20 22:20:20       2018-07-03 22:51:22                    2018-07-24   \n",
       "2 2018-02-17 16:15:35       2018-02-27 01:29:50                    2018-03-08   \n",
       "3 2018-08-18 18:15:16       2018-08-27 20:03:51                    2018-09-19   \n",
       "4 2017-12-22 17:31:31       2018-01-05 19:22:49                    2018-01-18   \n",
       "\n",
       "  delivery_time_gap  delivery_time_gap_hrs  \n",
       "0  13 days 01:40:08             313.668889  \n",
       "1  20 days 01:08:38             481.143889  \n",
       "2   8 days 22:30:10             214.502778  \n",
       "3  22 days 03:56:09             531.935833  \n",
       "4  12 days 04:37:11             292.619722  "
      ]
     },
     "execution_count": 489,
     "metadata": {},
     "output_type": "execute_result"
    }
   ],
   "source": [
    "orders['delivery_time_gap'] = (\n",
    "    orders['order_estimated_delivery_date'] - orders['order_delivered_timestamp']\n",
    ").where(orders['order_delivered_timestamp'].notna())\n",
    "# where() function is used as delivered_timestamp has null values in canceled or shipped orders.\n",
    "orders['delivery_time_gap_hrs'] = orders['delivery_time_gap'].dt.total_seconds()/3600\n",
    "orders.head()"
   ]
  },
  {
   "cell_type": "code",
   "execution_count": 490,
   "id": "88bc584b-9142-4f22-8f44-88b2165c9be5",
   "metadata": {},
   "outputs": [
    {
     "data": {
      "text/plain": [
       "(89016, 9)"
      ]
     },
     "execution_count": 490,
     "metadata": {},
     "output_type": "execute_result"
    }
   ],
   "source": [
    "orders.shape"
   ]
  },
  {
   "cell_type": "code",
   "execution_count": 491,
   "id": "071dbd26-dee9-487b-9488-9a12bf0685fd",
   "metadata": {},
   "outputs": [],
   "source": [
    "orders = orders[orders['delivery_time_gap_hrs'].between(-1000, 1000, inclusive='both') | orders['delivery_time_gap_hrs'].isna()]\n",
    "\n",
    "#remove references from other files too\n",
    "order_items = order_items[order_items['order_id'].isin(orders['order_id'])]\n",
    "payments = payments[payments['order_id'].isin(orders['order_id'])]"
   ]
  },
  {
   "cell_type": "code",
   "execution_count": 492,
   "id": "eff2a739-bd5d-4930-904b-afaf5f76e089",
   "metadata": {},
   "outputs": [
    {
     "data": {
      "text/plain": [
       "(88555, 9)"
      ]
     },
     "execution_count": 492,
     "metadata": {},
     "output_type": "execute_result"
    }
   ],
   "source": [
    "orders.shape\n",
    "# 89016 - 88555 = 461, equals to the previously calculated number of outlying entries."
   ]
  },
  {
   "cell_type": "markdown",
   "id": "337005a1-f181-4f07-b4d4-8379a1c5b3a3",
   "metadata": {},
   "source": [
    "#### Adding more columns for `purchase_to_approval_hours`, `approval_to_delivery_hours` & `purchase_to_delivery_hours`"
   ]
  },
  {
   "cell_type": "code",
   "execution_count": 493,
   "id": "02f884f6-491d-40ed-8d83-dbe6b3898e57",
   "metadata": {},
   "outputs": [
    {
     "data": {
      "text/plain": [
       "(88555, 9)"
      ]
     },
     "execution_count": 493,
     "metadata": {},
     "output_type": "execute_result"
    }
   ],
   "source": [
    "orders.shape"
   ]
  },
  {
   "cell_type": "code",
   "execution_count": 494,
   "id": "cd4069e1-acfe-4c20-96bf-f7232038ec70",
   "metadata": {},
   "outputs": [],
   "source": [
    "orders['purchase_to_approval_hours'] = (\n",
    "    orders['order_approved_at'] - orders['order_purchase_timestamp']\n",
    ").dt.total_seconds()/3600"
   ]
  },
  {
   "cell_type": "code",
   "execution_count": 495,
   "id": "5b489200-5db9-4a0f-8c0b-22436b64001f",
   "metadata": {},
   "outputs": [],
   "source": [
    "orders['approval_to_delivery_hours'] = (\n",
    "    orders['order_delivered_timestamp'] - orders['order_approved_at']\n",
    ").where(orders['order_delivered_timestamp'].notna()).dt.total_seconds()/3600\n",
    "# where() function is used as delivered_timestamp has null values in canceled or shipped orders."
   ]
  },
  {
   "cell_type": "code",
   "execution_count": 496,
   "id": "4e1bbd76-2466-4b8d-a526-84c521d5049f",
   "metadata": {},
   "outputs": [],
   "source": [
    "orders['purchase_to_delivery_hours'] = (\n",
    "    orders['purchase_to_approval_hours'] + orders['approval_to_delivery_hours']\n",
    ").where(orders['order_delivered_timestamp'].notna())"
   ]
  },
  {
   "cell_type": "code",
   "execution_count": 497,
   "id": "00afd374-0dc9-4952-9ae0-1263a88e89cd",
   "metadata": {},
   "outputs": [
    {
     "data": {
      "text/html": [
       "<div>\n",
       "<style scoped>\n",
       "    .dataframe tbody tr th:only-of-type {\n",
       "        vertical-align: middle;\n",
       "    }\n",
       "\n",
       "    .dataframe tbody tr th {\n",
       "        vertical-align: top;\n",
       "    }\n",
       "\n",
       "    .dataframe thead th {\n",
       "        text-align: right;\n",
       "    }\n",
       "</style>\n",
       "<table border=\"1\" class=\"dataframe\">\n",
       "  <thead>\n",
       "    <tr style=\"text-align: right;\">\n",
       "      <th></th>\n",
       "      <th>order_id</th>\n",
       "      <th>customer_id</th>\n",
       "      <th>order_status</th>\n",
       "      <th>order_purchase_timestamp</th>\n",
       "      <th>order_approved_at</th>\n",
       "      <th>order_delivered_timestamp</th>\n",
       "      <th>order_estimated_delivery_date</th>\n",
       "      <th>delivery_time_gap</th>\n",
       "      <th>delivery_time_gap_hrs</th>\n",
       "      <th>purchase_to_approval_hours</th>\n",
       "      <th>approval_to_delivery_hours</th>\n",
       "      <th>purchase_to_delivery_hours</th>\n",
       "    </tr>\n",
       "  </thead>\n",
       "  <tbody>\n",
       "    <tr>\n",
       "      <th>87012</th>\n",
       "      <td>M5c9P3in0nFG</td>\n",
       "      <td>AUxIApulUKB8</td>\n",
       "      <td>delivered</td>\n",
       "      <td>2017-01-10 19:43:30</td>\n",
       "      <td>2017-01-10 19:55:17</td>\n",
       "      <td>2017-01-20 16:35:05</td>\n",
       "      <td>2017-02-20</td>\n",
       "      <td>30 days 07:24:55</td>\n",
       "      <td>727.415278</td>\n",
       "      <td>0.196389</td>\n",
       "      <td>236.663333</td>\n",
       "      <td>236.859722</td>\n",
       "    </tr>\n",
       "  </tbody>\n",
       "</table>\n",
       "</div>"
      ],
      "text/plain": [
       "           order_id   customer_id order_status order_purchase_timestamp  \\\n",
       "87012  M5c9P3in0nFG  AUxIApulUKB8    delivered      2017-01-10 19:43:30   \n",
       "\n",
       "        order_approved_at order_delivered_timestamp  \\\n",
       "87012 2017-01-10 19:55:17       2017-01-20 16:35:05   \n",
       "\n",
       "      order_estimated_delivery_date delivery_time_gap  delivery_time_gap_hrs  \\\n",
       "87012                    2017-02-20  30 days 07:24:55             727.415278   \n",
       "\n",
       "       purchase_to_approval_hours  approval_to_delivery_hours  \\\n",
       "87012                    0.196389                  236.663333   \n",
       "\n",
       "       purchase_to_delivery_hours  \n",
       "87012                  236.859722  "
      ]
     },
     "execution_count": 497,
     "metadata": {},
     "output_type": "execute_result"
    }
   ],
   "source": [
    "orders.sample()"
   ]
  },
  {
   "cell_type": "code",
   "execution_count": 498,
   "id": "74c59b1c-d452-4341-ac0d-6509a242b82f",
   "metadata": {},
   "outputs": [
    {
     "data": {
      "text/plain": [
       "(88555, 12)"
      ]
     },
     "execution_count": 498,
     "metadata": {},
     "output_type": "execute_result"
    }
   ],
   "source": [
    "orders.shape"
   ]
  },
  {
   "cell_type": "markdown",
   "id": "881892cf-941c-4e5d-9d6d-7b579d9a0bd3",
   "metadata": {},
   "source": [
    "#### Saving the cleaned file in `processed` data folder"
   ]
  },
  {
   "cell_type": "code",
   "execution_count": 499,
   "id": "d3b29727-1dbc-4e74-b2df-33d016a7b3ad",
   "metadata": {},
   "outputs": [],
   "source": [
    "orders.to_csv('../data/processed/orders_cleaned.csv', index=False)"
   ]
  },
  {
   "cell_type": "markdown",
   "id": "f116a2fb-50ac-47e7-9430-168fd6d4d48f",
   "metadata": {},
   "source": [
    "---"
   ]
  },
  {
   "cell_type": "markdown",
   "id": "b2733c16-f8f0-47ee-8bab-95e5407f335c",
   "metadata": {},
   "source": [
    "### Order Items Data (df_OrderItems.csv)\n",
    "\n",
    "**🧼 Data Cleaning Summary — Order Items File**\n",
    "- Changed data types for all timestamp columns.\n",
    "- Removed 2016 data (insignificant and noisy).\n",
    "- Removed rows where order_status = 'canceled' but had non-null delivery timestamp.\n",
    "- Dropped delivered rows with missing delivery timestamp.\n",
    "- Calculated delivery_time_gap_hrs and removed extreme outliers using KDE and CDF plots.\n",
    "- Added new features: delivery_time_gap, delivery_time_gap_hrs, purchase_to_approval_hours, approval_to_delivery_hours."
   ]
  },
  {
   "cell_type": "code",
   "execution_count": 505,
   "id": "e42dc28c-364c-42b2-a087-98db00fa5937",
   "metadata": {},
   "outputs": [],
   "source": [
    "order_items['order_id'] = order_items['order_id'].astype('string')\n",
    "order_items['product_id'] = order_items['product_id'].astype('string')\n",
    "order_items['seller_id'] = order_items['seller_id'].astype('string')"
   ]
  },
  {
   "cell_type": "code",
   "execution_count": 506,
   "id": "74426ffa-65ee-4c39-aab7-8ad23bdf2217",
   "metadata": {},
   "outputs": [
    {
     "name": "stdout",
     "output_type": "stream",
     "text": [
      "<class 'pandas.core.frame.DataFrame'>\n",
      "Index: 88555 entries, 0 to 89315\n",
      "Data columns (total 5 columns):\n",
      " #   Column            Non-Null Count  Dtype  \n",
      "---  ------            --------------  -----  \n",
      " 0   order_id          88555 non-null  string \n",
      " 1   product_id        88555 non-null  string \n",
      " 2   seller_id         88555 non-null  string \n",
      " 3   price             88555 non-null  float64\n",
      " 4   shipping_charges  88555 non-null  float64\n",
      "dtypes: float64(2), string(3)\n",
      "memory usage: 4.1 MB\n"
     ]
    }
   ],
   "source": [
    "order_items.info()"
   ]
  },
  {
   "cell_type": "code",
   "execution_count": 510,
   "id": "164f2e14-82b7-4f16-b020-f5c531f8e4d2",
   "metadata": {},
   "outputs": [
    {
     "data": {
      "text/html": [
       "<div>\n",
       "<style scoped>\n",
       "    .dataframe tbody tr th:only-of-type {\n",
       "        vertical-align: middle;\n",
       "    }\n",
       "\n",
       "    .dataframe tbody tr th {\n",
       "        vertical-align: top;\n",
       "    }\n",
       "\n",
       "    .dataframe thead th {\n",
       "        text-align: right;\n",
       "    }\n",
       "</style>\n",
       "<table border=\"1\" class=\"dataframe\">\n",
       "  <thead>\n",
       "    <tr style=\"text-align: right;\">\n",
       "      <th></th>\n",
       "      <th>order_id</th>\n",
       "      <th>product_id</th>\n",
       "      <th>seller_id</th>\n",
       "      <th>price</th>\n",
       "      <th>shipping_charges</th>\n",
       "    </tr>\n",
       "  </thead>\n",
       "  <tbody>\n",
       "    <tr>\n",
       "      <th>37740</th>\n",
       "      <td>IYLG5TggN4Ig</td>\n",
       "      <td>e5XhHh7dnIgw</td>\n",
       "      <td>v7C619QzbXVy</td>\n",
       "      <td>126.69</td>\n",
       "      <td>70.34</td>\n",
       "    </tr>\n",
       "  </tbody>\n",
       "</table>\n",
       "</div>"
      ],
      "text/plain": [
       "           order_id    product_id     seller_id   price  shipping_charges\n",
       "37740  IYLG5TggN4Ig  e5XhHh7dnIgw  v7C619QzbXVy  126.69             70.34"
      ]
     },
     "execution_count": 510,
     "metadata": {},
     "output_type": "execute_result"
    }
   ],
   "source": [
    "order_items.sample()"
   ]
  },
  {
   "cell_type": "markdown",
   "id": "5095762f-9b8d-4513-928d-5d2f2ba9b1fe",
   "metadata": {},
   "source": [
    "### Handling Outliers in <span style='color: gray;'>*price*</span> Values"
   ]
  },
  {
   "cell_type": "code",
   "execution_count": 521,
   "id": "c6651686-6b00-4703-a429-da267bfb2055",
   "metadata": {},
   "outputs": [
    {
     "data": {
      "image/png": "[encoded data removed]",
      "text/plain": [
       "<Figure size 640x480 with 1 Axes>"
      ]
     },
     "metadata": {},
     "output_type": "display_data"
    }
   ],
   "source": [
    "plt.scatter(order_items['price'].index, order_items['price'], alpha=0.2)\n",
    "plt.show()"
   ]
  },
  {
   "cell_type": "code",
   "execution_count": 523,
   "id": "7a406a83-61b9-4578-9b2f-2ec7584ddb5a",
   "metadata": {},
   "outputs": [
    {
     "data": {
      "text/plain": [
       "price\n",
       "4099.99    391\n",
       "3999.90     23\n",
       "4590.00     19\n",
       "3699.99     16\n",
       "3930.00      7\n",
       "4799.00      5\n",
       "4399.87      3\n",
       "3899.00      2\n",
       "4690.00      2\n",
       "3980.00      2\n",
       "3549.00      1\n",
       "3690.00      1\n",
       "6499.00      1\n",
       "6735.00      1\n",
       "3999.00      1\n",
       "4059.00      1\n",
       "Name: count, dtype: int64"
      ]
     },
     "execution_count": 523,
     "metadata": {},
     "output_type": "execute_result"
    }
   ],
   "source": [
    "order_items[order_items['price'] > 3500]['price'].value_counts()\n",
    "# this justifies the crowded line over 4000 & similarly other crowded lined as well."
   ]
  },
  {
   "cell_type": "markdown",
   "id": "3c25b1e9-b420-4c9d-9eb5-06a10c8573aa",
   "metadata": {},
   "source": [
    "---\n",
    "#### Two outliers spotted lets check if they can be removed or are just natural"
   ]
  },
  {
   "cell_type": "code",
   "execution_count": 544,
   "id": "86dec545-a8a7-468a-8a6c-60773952861e",
   "metadata": {},
   "outputs": [
    {
     "data": {
      "text/html": [
       "<div>\n",
       "<style scoped>\n",
       "    .dataframe tbody tr th:only-of-type {\n",
       "        vertical-align: middle;\n",
       "    }\n",
       "\n",
       "    .dataframe tbody tr th {\n",
       "        vertical-align: top;\n",
       "    }\n",
       "\n",
       "    .dataframe thead th {\n",
       "        text-align: right;\n",
       "    }\n",
       "</style>\n",
       "<table border=\"1\" class=\"dataframe\">\n",
       "  <thead>\n",
       "    <tr style=\"text-align: right;\">\n",
       "      <th></th>\n",
       "      <th>order_id</th>\n",
       "      <th>product_id</th>\n",
       "      <th>seller_id</th>\n",
       "      <th>price</th>\n",
       "      <th>shipping_charges</th>\n",
       "    </tr>\n",
       "  </thead>\n",
       "  <tbody>\n",
       "    <tr>\n",
       "      <th>28299</th>\n",
       "      <td>aPnggTzFcusk</td>\n",
       "      <td>7tZV2OpLVZHg</td>\n",
       "      <td>nt1w9AssyxfU</td>\n",
       "      <td>6499.0</td>\n",
       "      <td>70.06</td>\n",
       "    </tr>\n",
       "    <tr>\n",
       "      <th>45436</th>\n",
       "      <td>SwjsVBeUO9OM</td>\n",
       "      <td>HiyKPuVcad18</td>\n",
       "      <td>4SWsneYKnFcc</td>\n",
       "      <td>6735.0</td>\n",
       "      <td>3.82</td>\n",
       "    </tr>\n",
       "  </tbody>\n",
       "</table>\n",
       "</div>"
      ],
      "text/plain": [
       "           order_id    product_id     seller_id   price  shipping_charges\n",
       "28299  aPnggTzFcusk  7tZV2OpLVZHg  nt1w9AssyxfU  6499.0             70.06\n",
       "45436  SwjsVBeUO9OM  HiyKPuVcad18  4SWsneYKnFcc  6735.0              3.82"
      ]
     },
     "execution_count": 544,
     "metadata": {},
     "output_type": "execute_result"
    }
   ],
   "source": [
    "order_items[order_items['price'] > 5000]"
   ]
  },
  {
   "cell_type": "markdown",
   "id": "0b58e766-0cd2-4c65-b7c1-fb5b5fb28567",
   "metadata": {},
   "source": [
    "Checking the seller selling the outlying products **:**"
   ]
  },
  {
   "cell_type": "markdown",
   "id": "dfd88075-a9c4-4fa3-b4fa-7297cefa6d2a",
   "metadata": {},
   "source": [
    "First seller sells almost *all items for less than 2000*, and one item for highest price is likely in an **outlier**.\n",
    "<br>Same for the second one, but that product has two orders with *one price being 30.3 & while the other is 6735*, its obviously an **outlier**."
   ]
  },
  {
   "cell_type": "code",
   "execution_count": 549,
   "id": "cd8b7c8b-a1c6-48fd-9621-330e4d711b5e",
   "metadata": {},
   "outputs": [
    {
     "data": {
      "text/html": [
       "<div>\n",
       "<style scoped>\n",
       "    .dataframe tbody tr th:only-of-type {\n",
       "        vertical-align: middle;\n",
       "    }\n",
       "\n",
       "    .dataframe tbody tr th {\n",
       "        vertical-align: top;\n",
       "    }\n",
       "\n",
       "    .dataframe thead th {\n",
       "        text-align: right;\n",
       "    }\n",
       "</style>\n",
       "<table border=\"1\" class=\"dataframe\">\n",
       "  <thead>\n",
       "    <tr style=\"text-align: right;\">\n",
       "      <th></th>\n",
       "      <th>order_id</th>\n",
       "      <th>product_id</th>\n",
       "      <th>seller_id</th>\n",
       "      <th>price</th>\n",
       "      <th>shipping_charges</th>\n",
       "    </tr>\n",
       "  </thead>\n",
       "  <tbody>\n",
       "    <tr>\n",
       "      <th>28299</th>\n",
       "      <td>aPnggTzFcusk</td>\n",
       "      <td>7tZV2OpLVZHg</td>\n",
       "      <td>nt1w9AssyxfU</td>\n",
       "      <td>6499.0</td>\n",
       "      <td>70.06</td>\n",
       "    </tr>\n",
       "    <tr>\n",
       "      <th>67280</th>\n",
       "      <td>3g7emgFVrEmt</td>\n",
       "      <td>YUHPB48nCMIU</td>\n",
       "      <td>nt1w9AssyxfU</td>\n",
       "      <td>2221.0</td>\n",
       "      <td>4.85</td>\n",
       "    </tr>\n",
       "  </tbody>\n",
       "</table>\n",
       "</div>"
      ],
      "text/plain": [
       "           order_id    product_id     seller_id   price  shipping_charges\n",
       "28299  aPnggTzFcusk  7tZV2OpLVZHg  nt1w9AssyxfU  6499.0             70.06\n",
       "67280  3g7emgFVrEmt  YUHPB48nCMIU  nt1w9AssyxfU  2221.0              4.85"
      ]
     },
     "execution_count": 549,
     "metadata": {},
     "output_type": "execute_result"
    }
   ],
   "source": [
    "order_items[(order_items['seller_id']=='nt1w9AssyxfU') & (order_items['price'] > 2000)]"
   ]
  },
  {
   "cell_type": "code",
   "execution_count": 552,
   "id": "7e3eb028-ffa2-48e5-b6bf-b8d6dfb8e931",
   "metadata": {},
   "outputs": [
    {
     "data": {
      "text/html": [
       "<div>\n",
       "<style scoped>\n",
       "    .dataframe tbody tr th:only-of-type {\n",
       "        vertical-align: middle;\n",
       "    }\n",
       "\n",
       "    .dataframe tbody tr th {\n",
       "        vertical-align: top;\n",
       "    }\n",
       "\n",
       "    .dataframe thead th {\n",
       "        text-align: right;\n",
       "    }\n",
       "</style>\n",
       "<table border=\"1\" class=\"dataframe\">\n",
       "  <thead>\n",
       "    <tr style=\"text-align: right;\">\n",
       "      <th></th>\n",
       "      <th>order_id</th>\n",
       "      <th>product_id</th>\n",
       "      <th>seller_id</th>\n",
       "      <th>price</th>\n",
       "      <th>shipping_charges</th>\n",
       "    </tr>\n",
       "  </thead>\n",
       "  <tbody>\n",
       "    <tr>\n",
       "      <th>45436</th>\n",
       "      <td>SwjsVBeUO9OM</td>\n",
       "      <td>HiyKPuVcad18</td>\n",
       "      <td>4SWsneYKnFcc</td>\n",
       "      <td>6735.0</td>\n",
       "      <td>3.82</td>\n",
       "    </tr>\n",
       "  </tbody>\n",
       "</table>\n",
       "</div>"
      ],
      "text/plain": [
       "           order_id    product_id     seller_id   price  shipping_charges\n",
       "45436  SwjsVBeUO9OM  HiyKPuVcad18  4SWsneYKnFcc  6735.0              3.82"
      ]
     },
     "execution_count": 552,
     "metadata": {},
     "output_type": "execute_result"
    }
   ],
   "source": [
    "order_items[(order_items['seller_id']=='4SWsneYKnFcc') & (order_items['price'] > 1000)]"
   ]
  },
  {
   "cell_type": "code",
   "execution_count": 554,
   "id": "c28c5c5e-4101-4612-a571-fb4208bd9468",
   "metadata": {},
   "outputs": [
    {
     "data": {
      "text/html": [
       "<div>\n",
       "<style scoped>\n",
       "    .dataframe tbody tr th:only-of-type {\n",
       "        vertical-align: middle;\n",
       "    }\n",
       "\n",
       "    .dataframe tbody tr th {\n",
       "        vertical-align: top;\n",
       "    }\n",
       "\n",
       "    .dataframe thead th {\n",
       "        text-align: right;\n",
       "    }\n",
       "</style>\n",
       "<table border=\"1\" class=\"dataframe\">\n",
       "  <thead>\n",
       "    <tr style=\"text-align: right;\">\n",
       "      <th></th>\n",
       "      <th>order_id</th>\n",
       "      <th>product_id</th>\n",
       "      <th>seller_id</th>\n",
       "      <th>price</th>\n",
       "      <th>shipping_charges</th>\n",
       "    </tr>\n",
       "  </thead>\n",
       "  <tbody>\n",
       "    <tr>\n",
       "      <th>42647</th>\n",
       "      <td>RqHAb6zx28mO</td>\n",
       "      <td>HiyKPuVcad18</td>\n",
       "      <td>4SWsneYKnFcc</td>\n",
       "      <td>30.3</td>\n",
       "      <td>7.19</td>\n",
       "    </tr>\n",
       "    <tr>\n",
       "      <th>45436</th>\n",
       "      <td>SwjsVBeUO9OM</td>\n",
       "      <td>HiyKPuVcad18</td>\n",
       "      <td>4SWsneYKnFcc</td>\n",
       "      <td>6735.0</td>\n",
       "      <td>3.82</td>\n",
       "    </tr>\n",
       "  </tbody>\n",
       "</table>\n",
       "</div>"
      ],
      "text/plain": [
       "           order_id    product_id     seller_id   price  shipping_charges\n",
       "42647  RqHAb6zx28mO  HiyKPuVcad18  4SWsneYKnFcc    30.3              7.19\n",
       "45436  SwjsVBeUO9OM  HiyKPuVcad18  4SWsneYKnFcc  6735.0              3.82"
      ]
     },
     "execution_count": 554,
     "metadata": {},
     "output_type": "execute_result"
    }
   ],
   "source": [
    "order_items[(order_items['product_id']=='HiyKPuVcad18')]"
   ]
  },
  {
   "cell_type": "markdown",
   "id": "3d06ce3f-8818-4735-a520-3bb2c1ed582c",
   "metadata": {},
   "source": [
    "**Removing the `Price` Outliers**"
   ]
  },
  {
   "cell_type": "code",
   "execution_count": 557,
   "id": "65e74033-aaba-4b72-9533-28f64461f4a3",
   "metadata": {},
   "outputs": [],
   "source": [
    "order_items = order_items[~(order_items['price'] > 6000)]\n",
    "\n",
    "#remove references from other files too\n",
    "orders = orders[orders['order_id'].isin(order_items['order_id'])]\n",
    "payments = payments[payments['order_id'].isin(order_items['order_id'])]"
   ]
  },
  {
   "cell_type": "code",
   "execution_count": 560,
   "id": "37ac117f-f815-48ab-95e9-18bb6a20e71d",
   "metadata": {},
   "outputs": [
    {
     "data": {
      "text/plain": [
       "(88553, 12)"
      ]
     },
     "execution_count": 560,
     "metadata": {},
     "output_type": "execute_result"
    }
   ],
   "source": [
    "orders.shape"
   ]
  },
  {
   "cell_type": "markdown",
   "id": "fc911303-c6ea-4dfa-a165-520a94384882",
   "metadata": {},
   "source": [
    "### Handling Outliers in <span style='color: gray;'>*shipping_charges*</span> Values"
   ]
  },
  {
   "cell_type": "code",
   "execution_count": 561,
   "id": "78396309-4c97-40b5-9e4f-4c8b6ca9f4bd",
   "metadata": {},
   "outputs": [
    {
     "data": {
      "image/png": "[encoded data removed]",
      "text/plain": [
       "<Figure size 640x480 with 1 Axes>"
      ]
     },
     "metadata": {},
     "output_type": "display_data"
    }
   ],
   "source": [
    "plt.scatter(order_items['shipping_charges'].index, order_items['shipping_charges'], alpha=0.2)\n",
    "plt.show()"
   ]
  },
  {
   "cell_type": "code",
   "execution_count": null,
   "id": "02367861-3316-41bd-9494-0ea36b26d346",
   "metadata": {},
   "outputs": [],
   "source": []
  },
  {
   "cell_type": "code",
   "execution_count": 500,
   "id": "3f5d2b73-cf6a-4cb0-b2a1-829a0b784a28",
   "metadata": {},
   "outputs": [
    {
     "data": {
      "image/png": "[encoded data removed]",
      "text/plain": [
       "<Figure size 640x480 with 1 Axes>"
      ]
     },
     "metadata": {},
     "output_type": "display_data"
    }
   ],
   "source": [
    "# remove plots as it belongs to cleaning & exporation part, same for prices\n",
    "plt.boxplot(order_items['shipping_charges'])\n",
    "plt.show()"
   ]
  }
 ],
 "metadata": {
  "kernelspec": {
   "display_name": "Python 3 (ipykernel)",
   "language": "python",
   "name": "python3"
  },
  "language_info": {
   "codemirror_mode": {
    "name": "ipython",
    "version": 3
   },
   "file_extension": ".py",
   "mimetype": "text/x-python",
   "name": "python",
   "nbconvert_exporter": "python",
   "pygments_lexer": "ipython3",
   "version": "3.12.7"
  }
 },
 "nbformat": 4,
 "nbformat_minor": 5
}
