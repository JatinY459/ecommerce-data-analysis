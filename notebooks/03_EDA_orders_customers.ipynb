{
 "cells": [
  {
   "cell_type": "markdown",
   "id": "27e3e4ad",
   "metadata": {
    "vscode": {
     "languageId": "plaintext"
    }
   },
   "source": [
    "# **Exploratory Data Analysis for Orders & Customers**"
   ]
  },
  {
   "cell_type": "markdown",
   "id": "b1e3943c",
   "metadata": {},
   "source": [
    "Sub-Text for heading: to be added after finishing this file."
   ]
  },
  {
   "cell_type": "markdown",
   "id": "a89dfbbd-1e75-4de3-bc4f-3ee7d08b91dd",
   "metadata": {},
   "source": [
    "## **0. EDA for Orders & Customers Summary**\n",
    "\n",
    "- summary\n",
    "- in\n",
    "- points"
   ]
  },
  {
   "cell_type": "markdown",
   "id": "2b0fa8ed-1d05-4fe5-8aab-3bcbf6e772d0",
   "metadata": {},
   "source": [
    "## **1. Import Libraries**"
   ]
  },
  {
   "cell_type": "code",
   "execution_count": 1,
   "id": "0e8ccdb0-8af4-4bc0-b65e-f438b6b4c276",
   "metadata": {},
   "outputs": [],
   "source": [
    "import pandas as pd\n",
    "import matplotlib.pyplot as plt\n",
    "import seaborn as sns\n",
    "%matplotlib inline"
   ]
  },
  {
   "cell_type": "markdown",
   "id": "60acc6af-7eb4-43b8-8aa9-65078679ed42",
   "metadata": {},
   "source": [
    "## **2. Import Data**"
   ]
  },
  {
   "cell_type": "code",
   "execution_count": 2,
   "id": "0dfa2269-4949-42e1-a3d4-2ecc8b673484",
   "metadata": {},
   "outputs": [],
   "source": [
    "orders = pd.read_csv('../data/processed/orders.csv')\n",
    "order_items = pd.read_csv('../data/processed/order_items.csv')\n",
    "customers = pd.read_csv('../data/processed/customers.csv')\n",
    "payments = pd.read_csv('../data/processed/payments.csv')\n",
    "products = pd.read_csv('../data/processed/products.csv')"
   ]
  },
  {
   "cell_type": "markdown",
   "id": "8fa17259-161d-44f7-a25d-c45215d9eb15",
   "metadata": {},
   "source": [
    "## **3. Insight Sections**"
   ]
  },
  {
   "cell_type": "markdown",
   "id": "6d262fbb-3035-44cc-8f84-3efea7185e57",
   "metadata": {},
   "source": [
    "### **📦 Orders & Delivery Trends**\n",
    "**|** *Understand platform reliability, seasonality, and logistics performance.*\n",
    "\n",
    "- description\n",
    "- of the\n",
    "- orders & delivery trends\n",
    "\n",
    "Thought we can do this:\n",
    "- Order status distribution: Show fulfillment health (delivered, canceled, etc.).\n",
    "- Monthly/Weekly order volume: Spot trends, holidays, campaigns.\n",
    "- Approval & delivery delays: Use gaps to showcase inefficiencies or smooth flows.\n",
    "- Delivery vs estimated: Highlight over/under delivery trends (great use of your custom feature!).\n",
    "- Delivery duration by region: Map delivery times by state/city ( geospatial + logistics insight).\n",
    "- Order Timeline Visuals (Gantt style){ai suggested this one} lets see what we can do about this"
   ]
  },
  {
   "cell_type": "code",
   "execution_count": null,
   "id": "e215b66b-6278-4ed6-945e-df26ec55260e",
   "metadata": {},
   "outputs": [],
   "source": []
  }
 ],
 "metadata": {
  "kernelspec": {
   "display_name": "Python 3 (ipykernel)",
   "language": "python",
   "name": "python3"
  },
  "language_info": {
   "codemirror_mode": {
    "name": "ipython",
    "version": 3
   },
   "file_extension": ".py",
   "mimetype": "text/x-python",
   "name": "python",
   "nbconvert_exporter": "python",
   "pygments_lexer": "ipython3",
   "version": "3.12.7"
  }
 },
 "nbformat": 4,
 "nbformat_minor": 5
}
