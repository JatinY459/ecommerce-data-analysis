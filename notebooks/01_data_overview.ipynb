{
 "cells": [
  {
   "cell_type": "markdown",
   "id": "ea81a5d9-46e0-499a-9712-d4b659d8168f",
   "metadata": {},
   "source": [
    "# Table of Contents\n",
    "\n",
    "0. [Import Libraries](#0-import-libraries)  \n",
    "1. [Import Data](#1-import-data)  \n",
    "2. [Data Exploration](#2-data-exploration)  \n",
    "3. [Data Cleaning](#3-data-cleaning)  \n",
    "4. [Data Preparation](#4-data-preparation)  \n",
    "5. [Benchmark Model](#5-benchmark-model)  \n",
    "6. [Feature Engineering](#6-feature-engineering)  \n",
    "7. [Model Training](#7-model-training)  \n",
    "    7.1 [Decision Tree](#71-decision-tree)  \n",
    "    7.2 [Random Forest](#72-random-forest)  \n",
    "    7.3 [Comparing Algorithm Performances](#73-comparing-algorithm-performances)  \n",
    "8. [Tuning](#8-tuning)  \n",
    "9. [Conclusion](#9-conclusion)  \n",
    "\n"
   ]
  },
  {
   "cell_type": "markdown",
   "id": "1c5ebbb2",
   "metadata": {},
   "source": [
    "## **Data Overview**"
   ]
  },
  {
   "cell_type": "markdown",
   "id": "afdb7303-23ef-49cf-9cc4-3545d167b091",
   "metadata": {},
   "source": [
    "### **0. Import Libraries**\n",
    "[🔝 Back to Top](#table-of-contents)\n"
   ]
  },
  {
   "cell_type": "code",
   "execution_count": 78,
   "id": "d405ad55-c891-45cd-8da1-4a30d8f98580",
   "metadata": {},
   "outputs": [],
   "source": [
    "import pandas as pd\n",
    "import numpy as np"
   ]
  },
  {
   "cell_type": "code",
   "execution_count": 79,
   "id": "c1037c51-866f-46ee-ba3a-ac98d3b32607",
   "metadata": {},
   "outputs": [],
   "source": [
    "df = pd.read_csv('../data/raw/train/df_Payments.csv')"
   ]
  },
  {
   "cell_type": "code",
   "execution_count": 80,
   "id": "8a2e74a5",
   "metadata": {},
   "outputs": [
    {
     "data": {
      "text/html": [
       "<div>\n",
       "<style scoped>\n",
       "    .dataframe tbody tr th:only-of-type {\n",
       "        vertical-align: middle;\n",
       "    }\n",
       "\n",
       "    .dataframe tbody tr th {\n",
       "        vertical-align: top;\n",
       "    }\n",
       "\n",
       "    .dataframe thead th {\n",
       "        text-align: right;\n",
       "    }\n",
       "</style>\n",
       "<table border=\"1\" class=\"dataframe\">\n",
       "  <thead>\n",
       "    <tr style=\"text-align: right;\">\n",
       "      <th></th>\n",
       "      <th>order_id</th>\n",
       "      <th>payment_sequential</th>\n",
       "      <th>payment_type</th>\n",
       "      <th>payment_installments</th>\n",
       "      <th>payment_value</th>\n",
       "    </tr>\n",
       "  </thead>\n",
       "  <tbody>\n",
       "    <tr>\n",
       "      <th>0</th>\n",
       "      <td>Axfy13Hk4PIk</td>\n",
       "      <td>1</td>\n",
       "      <td>credit_card</td>\n",
       "      <td>1</td>\n",
       "      <td>259.14</td>\n",
       "    </tr>\n",
       "    <tr>\n",
       "      <th>1</th>\n",
       "      <td>v6px92oS8cLG</td>\n",
       "      <td>1</td>\n",
       "      <td>credit_card</td>\n",
       "      <td>8</td>\n",
       "      <td>382.39</td>\n",
       "    </tr>\n",
       "    <tr>\n",
       "      <th>2</th>\n",
       "      <td>Ulpf9skrhjfm</td>\n",
       "      <td>1</td>\n",
       "      <td>credit_card</td>\n",
       "      <td>4</td>\n",
       "      <td>249.25</td>\n",
       "    </tr>\n",
       "    <tr>\n",
       "      <th>3</th>\n",
       "      <td>bwJVWupf2keN</td>\n",
       "      <td>1</td>\n",
       "      <td>credit_card</td>\n",
       "      <td>2</td>\n",
       "      <td>27.79</td>\n",
       "    </tr>\n",
       "    <tr>\n",
       "      <th>4</th>\n",
       "      <td>Dd0QnrMk9Cj5</td>\n",
       "      <td>1</td>\n",
       "      <td>credit_card</td>\n",
       "      <td>1</td>\n",
       "      <td>76.15</td>\n",
       "    </tr>\n",
       "  </tbody>\n",
       "</table>\n",
       "</div>"
      ],
      "text/plain": [
       "       order_id  payment_sequential payment_type  payment_installments  \\\n",
       "0  Axfy13Hk4PIk                   1  credit_card                     1   \n",
       "1  v6px92oS8cLG                   1  credit_card                     8   \n",
       "2  Ulpf9skrhjfm                   1  credit_card                     4   \n",
       "3  bwJVWupf2keN                   1  credit_card                     2   \n",
       "4  Dd0QnrMk9Cj5                   1  credit_card                     1   \n",
       "\n",
       "   payment_value  \n",
       "0         259.14  \n",
       "1         382.39  \n",
       "2         249.25  \n",
       "3          27.79  \n",
       "4          76.15  "
      ]
     },
     "execution_count": 80,
     "metadata": {},
     "output_type": "execute_result"
    }
   ],
   "source": [
    "df.head()"
   ]
  },
  {
   "cell_type": "code",
   "execution_count": 81,
   "id": "84cd77b2-b464-49fb-b2b3-3592d2fdf8ff",
   "metadata": {},
   "outputs": [
    {
     "name": "stdout",
     "output_type": "stream",
     "text": [
      "(89316, 5)\n"
     ]
    }
   ],
   "source": [
    "print(df.shape)"
   ]
  },
  {
   "cell_type": "code",
   "execution_count": 82,
   "id": "c0ccbf86-1d77-44af-8953-dde0e9a4c3d6",
   "metadata": {},
   "outputs": [
    {
     "data": {
      "text/plain": [
       "array([ 1,  8,  4,  2,  5,  6, 10,  3,  7,  9, 18, 12, 24, 15, 11, 13, 21,\n",
       "       16, 20, 14, 17, 23, 22,  0], dtype=int64)"
      ]
     },
     "execution_count": 82,
     "metadata": {},
     "output_type": "execute_result"
    }
   ],
   "source": [
    "df['payment_installments'].unique()"
   ]
  },
  {
   "cell_type": "code",
   "execution_count": 83,
   "id": "b81c3851-6c62-4fdf-987a-0a7ccc92d848",
   "metadata": {},
   "outputs": [
    {
     "data": {
      "text/html": [
       "<div>\n",
       "<style scoped>\n",
       "    .dataframe tbody tr th:only-of-type {\n",
       "        vertical-align: middle;\n",
       "    }\n",
       "\n",
       "    .dataframe tbody tr th {\n",
       "        vertical-align: top;\n",
       "    }\n",
       "\n",
       "    .dataframe thead th {\n",
       "        text-align: right;\n",
       "    }\n",
       "</style>\n",
       "<table border=\"1\" class=\"dataframe\">\n",
       "  <thead>\n",
       "    <tr style=\"text-align: right;\">\n",
       "      <th></th>\n",
       "      <th>order_id</th>\n",
       "      <th>payment_sequential</th>\n",
       "      <th>payment_type</th>\n",
       "      <th>payment_installments</th>\n",
       "      <th>payment_value</th>\n",
       "    </tr>\n",
       "  </thead>\n",
       "  <tbody>\n",
       "    <tr>\n",
       "      <th>24</th>\n",
       "      <td>xfXLgLbCo5BC</td>\n",
       "      <td>2</td>\n",
       "      <td>credit_card</td>\n",
       "      <td>1</td>\n",
       "      <td>166.71</td>\n",
       "    </tr>\n",
       "    <tr>\n",
       "      <th>39</th>\n",
       "      <td>0QqNX4xLriht</td>\n",
       "      <td>2</td>\n",
       "      <td>voucher</td>\n",
       "      <td>1</td>\n",
       "      <td>1843.85</td>\n",
       "    </tr>\n",
       "    <tr>\n",
       "      <th>102</th>\n",
       "      <td>pHtHYRoip8Cl</td>\n",
       "      <td>2</td>\n",
       "      <td>voucher</td>\n",
       "      <td>1</td>\n",
       "      <td>206.07</td>\n",
       "    </tr>\n",
       "    <tr>\n",
       "      <th>103</th>\n",
       "      <td>yGQcdep9edOe</td>\n",
       "      <td>2</td>\n",
       "      <td>voucher</td>\n",
       "      <td>1</td>\n",
       "      <td>145.48</td>\n",
       "    </tr>\n",
       "    <tr>\n",
       "      <th>135</th>\n",
       "      <td>gQPaVIZUm0jj</td>\n",
       "      <td>2</td>\n",
       "      <td>voucher</td>\n",
       "      <td>1</td>\n",
       "      <td>163.33</td>\n",
       "    </tr>\n",
       "  </tbody>\n",
       "</table>\n",
       "</div>"
      ],
      "text/plain": [
       "         order_id  payment_sequential payment_type  payment_installments  \\\n",
       "24   xfXLgLbCo5BC                   2  credit_card                     1   \n",
       "39   0QqNX4xLriht                   2      voucher                     1   \n",
       "102  pHtHYRoip8Cl                   2      voucher                     1   \n",
       "103  yGQcdep9edOe                   2      voucher                     1   \n",
       "135  gQPaVIZUm0jj                   2      voucher                     1   \n",
       "\n",
       "     payment_value  \n",
       "24          166.71  \n",
       "39         1843.85  \n",
       "102         206.07  \n",
       "103         145.48  \n",
       "135         163.33  "
      ]
     },
     "execution_count": 83,
     "metadata": {},
     "output_type": "execute_result"
    }
   ],
   "source": [
    "df[df['payment_sequential'] == 2].head()"
   ]
  },
  {
   "cell_type": "code",
   "execution_count": 84,
   "id": "63da657b-7c12-4950-8d04-4125e116dd61",
   "metadata": {},
   "outputs": [
    {
     "data": {
      "text/plain": [
       "payment_type\n",
       "credit_card    65814\n",
       "wallet         17302\n",
       "voucher         4911\n",
       "debit_card      1289\n",
       "Name: count, dtype: int64"
      ]
     },
     "execution_count": 84,
     "metadata": {},
     "output_type": "execute_result"
    }
   ],
   "source": [
    "df['payment_type'].value_counts()"
   ]
  },
  {
   "cell_type": "code",
   "execution_count": 85,
   "id": "76d0b91d-6fe1-4baf-9009-ba614542080d",
   "metadata": {},
   "outputs": [],
   "source": [
    "products_data = pd.read_csv('../data/raw/train/df_Products.csv')"
   ]
  },
  {
   "cell_type": "code",
   "execution_count": 86,
   "id": "470c6d60-59db-4800-b40b-7eaee1318b0f",
   "metadata": {},
   "outputs": [
    {
     "data": {
      "text/html": [
       "<div>\n",
       "<style scoped>\n",
       "    .dataframe tbody tr th:only-of-type {\n",
       "        vertical-align: middle;\n",
       "    }\n",
       "\n",
       "    .dataframe tbody tr th {\n",
       "        vertical-align: top;\n",
       "    }\n",
       "\n",
       "    .dataframe thead th {\n",
       "        text-align: right;\n",
       "    }\n",
       "</style>\n",
       "<table border=\"1\" class=\"dataframe\">\n",
       "  <thead>\n",
       "    <tr style=\"text-align: right;\">\n",
       "      <th></th>\n",
       "      <th>product_id</th>\n",
       "      <th>product_category_name</th>\n",
       "      <th>product_weight_g</th>\n",
       "      <th>product_length_cm</th>\n",
       "      <th>product_height_cm</th>\n",
       "      <th>product_width_cm</th>\n",
       "    </tr>\n",
       "  </thead>\n",
       "  <tbody>\n",
       "    <tr>\n",
       "      <th>0</th>\n",
       "      <td>90K0C1fIyQUf</td>\n",
       "      <td>toys</td>\n",
       "      <td>491.0</td>\n",
       "      <td>19.0</td>\n",
       "      <td>12.0</td>\n",
       "      <td>16.0</td>\n",
       "    </tr>\n",
       "    <tr>\n",
       "      <th>1</th>\n",
       "      <td>qejhpMGGVcsl</td>\n",
       "      <td>watches_gifts</td>\n",
       "      <td>440.0</td>\n",
       "      <td>18.0</td>\n",
       "      <td>14.0</td>\n",
       "      <td>17.0</td>\n",
       "    </tr>\n",
       "    <tr>\n",
       "      <th>2</th>\n",
       "      <td>qUS5d2pEAyxJ</td>\n",
       "      <td>costruction_tools_garden</td>\n",
       "      <td>2200.0</td>\n",
       "      <td>16.0</td>\n",
       "      <td>16.0</td>\n",
       "      <td>16.0</td>\n",
       "    </tr>\n",
       "    <tr>\n",
       "      <th>3</th>\n",
       "      <td>639iGvMyv0De</td>\n",
       "      <td>toys</td>\n",
       "      <td>1450.0</td>\n",
       "      <td>68.0</td>\n",
       "      <td>3.0</td>\n",
       "      <td>48.0</td>\n",
       "    </tr>\n",
       "    <tr>\n",
       "      <th>4</th>\n",
       "      <td>1lycYGcsic2F</td>\n",
       "      <td>toys</td>\n",
       "      <td>300.0</td>\n",
       "      <td>17.0</td>\n",
       "      <td>4.0</td>\n",
       "      <td>12.0</td>\n",
       "    </tr>\n",
       "  </tbody>\n",
       "</table>\n",
       "</div>"
      ],
      "text/plain": [
       "     product_id     product_category_name  product_weight_g  \\\n",
       "0  90K0C1fIyQUf                      toys             491.0   \n",
       "1  qejhpMGGVcsl             watches_gifts             440.0   \n",
       "2  qUS5d2pEAyxJ  costruction_tools_garden            2200.0   \n",
       "3  639iGvMyv0De                      toys            1450.0   \n",
       "4  1lycYGcsic2F                      toys             300.0   \n",
       "\n",
       "   product_length_cm  product_height_cm  product_width_cm  \n",
       "0               19.0               12.0              16.0  \n",
       "1               18.0               14.0              17.0  \n",
       "2               16.0               16.0              16.0  \n",
       "3               68.0                3.0              48.0  \n",
       "4               17.0                4.0              12.0  "
      ]
     },
     "execution_count": 86,
     "metadata": {},
     "output_type": "execute_result"
    }
   ],
   "source": [
    "products_data.head()"
   ]
  },
  {
   "cell_type": "code",
   "execution_count": 87,
   "id": "5bdf89bc-0ccd-455e-a6ed-3c3164fb7974",
   "metadata": {},
   "outputs": [
    {
     "data": {
      "text/plain": [
       "product_category_name\n",
       "toys                                 67027\n",
       "health_beauty                         2351\n",
       "bed_bath_table                        2146\n",
       "sports_leisure                        1837\n",
       "furniture_decor                       1760\n",
       "                                     ...  \n",
       "fashion_childrens_clothes                2\n",
       "security_and_services                    1\n",
       "furniture_mattress_and_upholstery        1\n",
       "home_comfort_2                           1\n",
       "diapers_and_hygiene                      1\n",
       "Name: count, Length: 70, dtype: int64"
      ]
     },
     "execution_count": 87,
     "metadata": {},
     "output_type": "execute_result"
    }
   ],
   "source": [
    "products_data['product_category_name'].value_counts()"
   ]
  },
  {
   "cell_type": "markdown",
   "id": "a964a50d-747f-42a0-98aa-5f95c6be6f8c",
   "metadata": {},
   "source": [
    "## 9. Conclusion\n",
    "[Back To Top](#table-of-contents)"
   ]
  },
  {
   "cell_type": "code",
   "execution_count": null,
   "id": "2a1522b6-dbb0-480e-a46a-6c6ae404e96a",
   "metadata": {},
   "outputs": [],
   "source": []
  },
  {
   "cell_type": "code",
   "execution_count": null,
   "id": "fb69850e-dfca-44b1-a15c-74f88864e561",
   "metadata": {},
   "outputs": [],
   "source": []
  }
 ],
 "metadata": {
  "kernelspec": {
   "display_name": "Python 3 (ipykernel)",
   "language": "python",
   "name": "python3"
  },
  "language_info": {
   "codemirror_mode": {
    "name": "ipython",
    "version": 3
   },
   "file_extension": ".py",
   "mimetype": "text/x-python",
   "name": "python",
   "nbconvert_exporter": "python",
   "pygments_lexer": "ipython3",
   "version": "3.12.7"
  }
 },
 "nbformat": 4,
 "nbformat_minor": 5
}
