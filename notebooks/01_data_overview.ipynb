{
 "cells": [
  {
   "cell_type": "markdown",
   "id": "1c5ebbb2",
   "metadata": {},
   "source": [
    "# **Data Overview**"
   ]
  },
  {
   "cell_type": "markdown",
   "id": "afdb7303-23ef-49cf-9cc4-3545d167b091",
   "metadata": {},
   "source": [
    "## **0. Import Libraries**"
   ]
  },
  {
   "cell_type": "code",
   "execution_count": 189,
   "id": "d405ad55-c891-45cd-8da1-4a30d8f98580",
   "metadata": {},
   "outputs": [],
   "source": [
    "import pandas as pd\n",
    "import matplotlib.pyplot as plt\n",
    "import seaborn as sns\n",
    "%matplotlib inline\n",
    "import math"
   ]
  },
  {
   "cell_type": "markdown",
   "id": "2889a1de-df03-4bc6-bad1-1f6a6eb28920",
   "metadata": {},
   "source": [
    "---\n",
    "## **1. Import Data**"
   ]
  },
  {
   "cell_type": "code",
   "execution_count": 199,
   "id": "c1037c51-866f-46ee-ba3a-ac98d3b32607",
   "metadata": {},
   "outputs": [],
   "source": [
    "orders = pd.read_csv('../data/raw/train/df_Orders.csv')\n",
    "order_items = pd.read_csv('../data/raw/train/df_OrderItems.csv')\n",
    "customers = pd.read_csv('../data/raw/train/df_Customers.csv')\n",
    "payments = pd.read_csv('../data/raw/train/df_Payments.csv')\n",
    "products = pd.read_csv('../data/raw/train/df_Products.csv')"
   ]
  },
  {
   "cell_type": "markdown",
   "id": "65b2c4f4-0978-48ed-8e32-9e6b29791c4a",
   "metadata": {},
   "source": [
    "## **2. Data Preview**"
   ]
  },
  {
   "cell_type": "markdown",
   "id": "dd3d2bbc-5c4f-49f8-b170-a81dde727bee",
   "metadata": {},
   "source": [
    "### Orders Data (df_Orders.csv)\n",
    "\n",
    "- **Shape:** (89316 rows, 7 columns)\n",
    "- **Nulls:** *order_approved_at* has 9 (all are valid orders), *order_delivered_timestamp* has 1889 nulls.\n",
    "- **Unique Keys:** order_id\n",
    "- **Order statuses:** 'delivered', 'canceled', 'shipped', 'processing', 'invoiced', 'unavailable', 'approved'\n",
    "- **Data types:**\n",
    "    - order_id & customer_id should be strings.\n",
    "    - order_status should be categorical.\n",
    "    - estimated_delivery_date should be date.\n",
    "    - rest should be datetime.\n",
    "- **Notes:**\n",
    "    - data types currently are objects; timestamps need conversion to datetime and IDs to string.\n",
    "    - order_id is primary key & customer_id is foreign key.\n",
    "    - No repeat customers (no of customer_id = no of order_id).\n",
    "    - No duplicate rows.\n",
    "    - ❗contains only 292 rows from october 2016 which is a small, incomplete subset of data & may act as noise and can be removed.\n",
    "    - Filter out rarely occurring statuses (approved) (but may be used in analysis) - they may skew results.\n",
    "    - remove rows with 'unavailable' status as it is irrelevant.\n",
    "    - 'shipped' without delivery_timestamp is sus, may include in delivery time analysis, maybe remove.\n",
    "    - remove outliers in datetimes after checking each.\n",
    "    - these issues will be addressed in the data cleaning phase before merging and deeper analysis.\n",
    "---"
   ]
  },
  {
   "cell_type": "code",
   "execution_count": 6,
   "id": "84cd77b2-b464-49fb-b2b3-3592d2fdf8ff",
   "metadata": {},
   "outputs": [
    {
     "data": {
      "text/html": [
       "<div>\n",
       "<style scoped>\n",
       "    .dataframe tbody tr th:only-of-type {\n",
       "        vertical-align: middle;\n",
       "    }\n",
       "\n",
       "    .dataframe tbody tr th {\n",
       "        vertical-align: top;\n",
       "    }\n",
       "\n",
       "    .dataframe thead th {\n",
       "        text-align: right;\n",
       "    }\n",
       "</style>\n",
       "<table border=\"1\" class=\"dataframe\">\n",
       "  <thead>\n",
       "    <tr style=\"text-align: right;\">\n",
       "      <th></th>\n",
       "      <th>order_id</th>\n",
       "      <th>customer_id</th>\n",
       "      <th>order_status</th>\n",
       "      <th>order_purchase_timestamp</th>\n",
       "      <th>order_approved_at</th>\n",
       "      <th>order_delivered_timestamp</th>\n",
       "      <th>order_estimated_delivery_date</th>\n",
       "    </tr>\n",
       "  </thead>\n",
       "  <tbody>\n",
       "    <tr>\n",
       "      <th>0</th>\n",
       "      <td>Axfy13Hk4PIk</td>\n",
       "      <td>hCT0x9JiGXBQ</td>\n",
       "      <td>delivered</td>\n",
       "      <td>2017-10-22 18:57:54</td>\n",
       "      <td>2017-10-22 19:14:13</td>\n",
       "      <td>2017-10-26 22:19:52</td>\n",
       "      <td>2017-11-09</td>\n",
       "    </tr>\n",
       "    <tr>\n",
       "      <th>1</th>\n",
       "      <td>v6px92oS8cLG</td>\n",
       "      <td>PxA7fv9spyhx</td>\n",
       "      <td>delivered</td>\n",
       "      <td>2018-06-20 21:40:31</td>\n",
       "      <td>2018-06-20 22:20:20</td>\n",
       "      <td>2018-07-03 22:51:22</td>\n",
       "      <td>2018-07-24</td>\n",
       "    </tr>\n",
       "    <tr>\n",
       "      <th>2</th>\n",
       "      <td>Ulpf9skrhjfm</td>\n",
       "      <td>g3nXeJkGI0Qw</td>\n",
       "      <td>delivered</td>\n",
       "      <td>2018-02-16 16:19:31</td>\n",
       "      <td>2018-02-17 16:15:35</td>\n",
       "      <td>2018-02-27 01:29:50</td>\n",
       "      <td>2018-03-08</td>\n",
       "    </tr>\n",
       "    <tr>\n",
       "      <th>3</th>\n",
       "      <td>bwJVWupf2keN</td>\n",
       "      <td>EOEsCQ6QlpIg</td>\n",
       "      <td>delivered</td>\n",
       "      <td>2018-08-18 18:04:29</td>\n",
       "      <td>2018-08-18 18:15:16</td>\n",
       "      <td>2018-08-27 20:03:51</td>\n",
       "      <td>2018-09-19</td>\n",
       "    </tr>\n",
       "    <tr>\n",
       "      <th>4</th>\n",
       "      <td>Dd0QnrMk9Cj5</td>\n",
       "      <td>mVz5LO2Vd6cL</td>\n",
       "      <td>delivered</td>\n",
       "      <td>2017-12-22 16:44:04</td>\n",
       "      <td>2017-12-22 17:31:31</td>\n",
       "      <td>2018-01-05 19:22:49</td>\n",
       "      <td>2018-01-18</td>\n",
       "    </tr>\n",
       "  </tbody>\n",
       "</table>\n",
       "</div>"
      ],
      "text/plain": [
       "       order_id   customer_id order_status order_purchase_timestamp  \\\n",
       "0  Axfy13Hk4PIk  hCT0x9JiGXBQ    delivered      2017-10-22 18:57:54   \n",
       "1  v6px92oS8cLG  PxA7fv9spyhx    delivered      2018-06-20 21:40:31   \n",
       "2  Ulpf9skrhjfm  g3nXeJkGI0Qw    delivered      2018-02-16 16:19:31   \n",
       "3  bwJVWupf2keN  EOEsCQ6QlpIg    delivered      2018-08-18 18:04:29   \n",
       "4  Dd0QnrMk9Cj5  mVz5LO2Vd6cL    delivered      2017-12-22 16:44:04   \n",
       "\n",
       "     order_approved_at order_delivered_timestamp order_estimated_delivery_date  \n",
       "0  2017-10-22 19:14:13       2017-10-26 22:19:52                    2017-11-09  \n",
       "1  2018-06-20 22:20:20       2018-07-03 22:51:22                    2018-07-24  \n",
       "2  2018-02-17 16:15:35       2018-02-27 01:29:50                    2018-03-08  \n",
       "3  2018-08-18 18:15:16       2018-08-27 20:03:51                    2018-09-19  \n",
       "4  2017-12-22 17:31:31       2018-01-05 19:22:49                    2018-01-18  "
      ]
     },
     "execution_count": 6,
     "metadata": {},
     "output_type": "execute_result"
    }
   ],
   "source": [
    "orders.head()"
   ]
  },
  {
   "cell_type": "code",
   "execution_count": 3,
   "id": "a7db01b6-3060-4738-809c-9b122a710b04",
   "metadata": {},
   "outputs": [
    {
     "name": "stdout",
     "output_type": "stream",
     "text": [
      "(89316, 7)\n"
     ]
    }
   ],
   "source": [
    "print(orders.shape)"
   ]
  },
  {
   "cell_type": "code",
   "execution_count": 4,
   "id": "eadd93db-c20f-4111-90d3-52be4ee7167b",
   "metadata": {},
   "outputs": [
    {
     "name": "stdout",
     "output_type": "stream",
     "text": [
      "<class 'pandas.core.frame.DataFrame'>\n",
      "RangeIndex: 89316 entries, 0 to 89315\n",
      "Data columns (total 7 columns):\n",
      " #   Column                         Non-Null Count  Dtype \n",
      "---  ------                         --------------  ----- \n",
      " 0   order_id                       89316 non-null  object\n",
      " 1   customer_id                    89316 non-null  object\n",
      " 2   order_status                   89316 non-null  object\n",
      " 3   order_purchase_timestamp       89316 non-null  object\n",
      " 4   order_approved_at              89307 non-null  object\n",
      " 5   order_delivered_timestamp      87427 non-null  object\n",
      " 6   order_estimated_delivery_date  89316 non-null  object\n",
      "dtypes: object(7)\n",
      "memory usage: 4.8+ MB\n"
     ]
    }
   ],
   "source": [
    "orders.info()"
   ]
  },
  {
   "cell_type": "code",
   "execution_count": 48,
   "id": "f14d8b30-e57d-4fcd-a495-698960e40880",
   "metadata": {},
   "outputs": [
    {
     "data": {
      "text/html": [
       "<div>\n",
       "<style scoped>\n",
       "    .dataframe tbody tr th:only-of-type {\n",
       "        vertical-align: middle;\n",
       "    }\n",
       "\n",
       "    .dataframe tbody tr th {\n",
       "        vertical-align: top;\n",
       "    }\n",
       "\n",
       "    .dataframe thead th {\n",
       "        text-align: right;\n",
       "    }\n",
       "</style>\n",
       "<table border=\"1\" class=\"dataframe\">\n",
       "  <thead>\n",
       "    <tr style=\"text-align: right;\">\n",
       "      <th></th>\n",
       "      <th>order_id</th>\n",
       "      <th>customer_id</th>\n",
       "      <th>order_status</th>\n",
       "      <th>order_purchase_timestamp</th>\n",
       "      <th>order_approved_at</th>\n",
       "      <th>order_delivered_timestamp</th>\n",
       "      <th>order_estimated_delivery_date</th>\n",
       "    </tr>\n",
       "  </thead>\n",
       "  <tbody>\n",
       "    <tr>\n",
       "      <th>count</th>\n",
       "      <td>89316</td>\n",
       "      <td>89316</td>\n",
       "      <td>89316</td>\n",
       "      <td>89316</td>\n",
       "      <td>89307</td>\n",
       "      <td>87427</td>\n",
       "      <td>89316</td>\n",
       "    </tr>\n",
       "    <tr>\n",
       "      <th>unique</th>\n",
       "      <td>89316</td>\n",
       "      <td>89316</td>\n",
       "      <td>7</td>\n",
       "      <td>72775</td>\n",
       "      <td>68215</td>\n",
       "      <td>71143</td>\n",
       "      <td>444</td>\n",
       "    </tr>\n",
       "    <tr>\n",
       "      <th>top</th>\n",
       "      <td>Axfy13Hk4PIk</td>\n",
       "      <td>hCT0x9JiGXBQ</td>\n",
       "      <td>delivered</td>\n",
       "      <td>2017-08-08 20:26:31</td>\n",
       "      <td>2017-08-08 20:43:31</td>\n",
       "      <td>2017-08-14 12:46:18</td>\n",
       "      <td>2017-12-20</td>\n",
       "    </tr>\n",
       "    <tr>\n",
       "      <th>freq</th>\n",
       "      <td>1</td>\n",
       "      <td>1</td>\n",
       "      <td>87428</td>\n",
       "      <td>87</td>\n",
       "      <td>87</td>\n",
       "      <td>87</td>\n",
       "      <td>500</td>\n",
       "    </tr>\n",
       "  </tbody>\n",
       "</table>\n",
       "</div>"
      ],
      "text/plain": [
       "            order_id   customer_id order_status order_purchase_timestamp  \\\n",
       "count          89316         89316        89316                    89316   \n",
       "unique         89316         89316            7                    72775   \n",
       "top     Axfy13Hk4PIk  hCT0x9JiGXBQ    delivered      2017-08-08 20:26:31   \n",
       "freq               1             1        87428                       87   \n",
       "\n",
       "          order_approved_at order_delivered_timestamp  \\\n",
       "count                 89307                     87427   \n",
       "unique                68215                     71143   \n",
       "top     2017-08-08 20:43:31       2017-08-14 12:46:18   \n",
       "freq                     87                        87   \n",
       "\n",
       "       order_estimated_delivery_date  \n",
       "count                          89316  \n",
       "unique                           444  \n",
       "top                       2017-12-20  \n",
       "freq                             500  "
      ]
     },
     "execution_count": 48,
     "metadata": {},
     "output_type": "execute_result"
    }
   ],
   "source": [
    "# 👇🏻 Here top refers to the most frequent value & freq is frequency of 'top' value\n",
    "orders.describe()"
   ]
  },
  {
   "cell_type": "code",
   "execution_count": 31,
   "id": "4ce7afae-9867-464f-9a69-b48442ed096a",
   "metadata": {},
   "outputs": [
    {
     "data": {
      "text/plain": [
       "array(['delivered', 'canceled', 'shipped', 'processing', 'invoiced',\n",
       "       'unavailable', 'approved'], dtype=object)"
      ]
     },
     "execution_count": 31,
     "metadata": {},
     "output_type": "execute_result"
    }
   ],
   "source": [
    "orders['order_status'].unique()"
   ]
  },
  {
   "cell_type": "code",
   "execution_count": 15,
   "id": "bd036d08-6420-4ca0-adb0-920b974bfcd1",
   "metadata": {},
   "outputs": [
    {
     "data": {
      "text/plain": [
       "order_id                         object\n",
       "customer_id                      object\n",
       "order_status                     object\n",
       "order_purchase_timestamp         object\n",
       "order_approved_at                object\n",
       "order_delivered_timestamp        object\n",
       "order_estimated_delivery_date    object\n",
       "dtype: object"
      ]
     },
     "execution_count": 15,
     "metadata": {},
     "output_type": "execute_result"
    }
   ],
   "source": [
    "orders.dtypes"
   ]
  },
  {
   "cell_type": "code",
   "execution_count": 22,
   "id": "79e9103c-b400-4a23-ba72-6b52a1de745a",
   "metadata": {},
   "outputs": [],
   "source": [
    "# for col in orders.columns:\n",
    "#     try:\n",
    "#         orders[col] = pd.to_numeric(orders[col])\n",
    "#     except ValueError:\n",
    "#         pass  # Skip columns that can't be converted"
   ]
  },
  {
   "cell_type": "code",
   "execution_count": 49,
   "id": "5bdf89bc-0ccd-455e-a6ed-3c3164fb7974",
   "metadata": {},
   "outputs": [
    {
     "data": {
      "text/plain": [
       "order_id                            0\n",
       "customer_id                         0\n",
       "order_status                        0\n",
       "order_purchase_timestamp            0\n",
       "order_approved_at                   9\n",
       "order_delivered_timestamp        1889\n",
       "order_estimated_delivery_date       0\n",
       "dtype: int64"
      ]
     },
     "execution_count": 49,
     "metadata": {},
     "output_type": "execute_result"
    }
   ],
   "source": [
    "orders.isnull().sum()"
   ]
  },
  {
   "cell_type": "code",
   "execution_count": 5,
   "id": "c0ccbf86-1d77-44af-8953-dde0e9a4c3d6",
   "metadata": {},
   "outputs": [
    {
     "data": {
      "text/plain": [
       "0"
      ]
     },
     "execution_count": 5,
     "metadata": {},
     "output_type": "execute_result"
    }
   ],
   "source": [
    "orders.duplicated().sum()"
   ]
  },
  {
   "cell_type": "code",
   "execution_count": 51,
   "id": "d1f3669c-2b12-4fcb-9bd4-724ab8dd9ebb",
   "metadata": {},
   "outputs": [
    {
     "data": {
      "text/plain": [
       "order_id                         89316\n",
       "customer_id                      89316\n",
       "order_status                         7\n",
       "order_purchase_timestamp         72775\n",
       "order_approved_at                68215\n",
       "order_delivered_timestamp        71143\n",
       "order_estimated_delivery_date      444\n",
       "dtype: int64"
      ]
     },
     "execution_count": 51,
     "metadata": {},
     "output_type": "execute_result"
    }
   ],
   "source": [
    "# number of unique entries\n",
    "orders.nunique()"
   ]
  },
  {
   "cell_type": "code",
   "execution_count": 78,
   "id": "e5d61f33-5ada-47f8-b8d2-246ae4d7fdbb",
   "metadata": {},
   "outputs": [
    {
     "data": {
      "image/png": "[encoded data removed]",
      "text/plain": [
       "<Figure size 640x480 with 1 Axes>"
      ]
     },
     "metadata": {},
     "output_type": "display_data"
    }
   ],
   "source": [
    "# to be removed as plotting & data type changing are part of data_cleaning\n",
    "# here just trying to figure out problems with data\n",
    "orders['order_purchase_timestamp'] = pd.to_datetime(orders['order_purchase_timestamp'])\n",
    "orders['order_purchase_timestamp'].dt.year.value_counts().sort_index().plot(kind='bar')\n",
    "plt.show()"
   ]
  },
  {
   "cell_type": "code",
   "execution_count": 76,
   "id": "7e16f93e-e7c3-4836-9f0a-dd448e3bde37",
   "metadata": {},
   "outputs": [
    {
     "data": {
      "text/html": [
       "<div>\n",
       "<style scoped>\n",
       "    .dataframe tbody tr th:only-of-type {\n",
       "        vertical-align: middle;\n",
       "    }\n",
       "\n",
       "    .dataframe tbody tr th {\n",
       "        vertical-align: top;\n",
       "    }\n",
       "\n",
       "    .dataframe thead th {\n",
       "        text-align: right;\n",
       "    }\n",
       "</style>\n",
       "<table border=\"1\" class=\"dataframe\">\n",
       "  <thead>\n",
       "    <tr style=\"text-align: right;\">\n",
       "      <th></th>\n",
       "      <th>order_id</th>\n",
       "      <th>customer_id</th>\n",
       "      <th>order_status</th>\n",
       "      <th>order_purchase_timestamp</th>\n",
       "      <th>order_approved_at</th>\n",
       "      <th>order_delivered_timestamp</th>\n",
       "      <th>order_estimated_delivery_date</th>\n",
       "    </tr>\n",
       "  </thead>\n",
       "  <tbody>\n",
       "    <tr>\n",
       "      <th>303</th>\n",
       "      <td>YTg0u33hKRJZ</td>\n",
       "      <td>eGMfCgBLlg0f</td>\n",
       "      <td>delivered</td>\n",
       "      <td>2016-10-06 16:13:30</td>\n",
       "      <td>2016-10-06 16:51:46</td>\n",
       "      <td>2016-10-13 16:51:46</td>\n",
       "      <td>2016-11-28</td>\n",
       "    </tr>\n",
       "    <tr>\n",
       "      <th>420</th>\n",
       "      <td>6EBIqp1t8jl5</td>\n",
       "      <td>PSsOpTjyt9Wi</td>\n",
       "      <td>delivered</td>\n",
       "      <td>2016-10-06 08:58:04</td>\n",
       "      <td>2016-10-06 16:08:04</td>\n",
       "      <td>2016-11-08 13:08:37</td>\n",
       "      <td>2016-11-28</td>\n",
       "    </tr>\n",
       "    <tr>\n",
       "      <th>1072</th>\n",
       "      <td>dKgztiB6hmk0</td>\n",
       "      <td>zW20fFCnkKD3</td>\n",
       "      <td>delivered</td>\n",
       "      <td>2016-10-08 17:43:26</td>\n",
       "      <td>2016-10-13 21:09:06</td>\n",
       "      <td>2016-10-26 12:58:25</td>\n",
       "      <td>2016-12-14</td>\n",
       "    </tr>\n",
       "    <tr>\n",
       "      <th>1091</th>\n",
       "      <td>MUj9ocKZaBtm</td>\n",
       "      <td>WHZShDFJhbJV</td>\n",
       "      <td>delivered</td>\n",
       "      <td>2016-10-08 11:33:25</td>\n",
       "      <td>2016-10-08 13:19:54</td>\n",
       "      <td>2016-10-15 13:19:54</td>\n",
       "      <td>2016-12-06</td>\n",
       "    </tr>\n",
       "    <tr>\n",
       "      <th>1137</th>\n",
       "      <td>GiPtraF6W5SW</td>\n",
       "      <td>v6gia1ruRFU5</td>\n",
       "      <td>delivered</td>\n",
       "      <td>2016-10-06 22:34:03</td>\n",
       "      <td>2016-10-06 23:11:27</td>\n",
       "      <td>2016-10-18 20:23:49</td>\n",
       "      <td>2016-11-28</td>\n",
       "    </tr>\n",
       "    <tr>\n",
       "      <th>...</th>\n",
       "      <td>...</td>\n",
       "      <td>...</td>\n",
       "      <td>...</td>\n",
       "      <td>...</td>\n",
       "      <td>...</td>\n",
       "      <td>...</td>\n",
       "      <td>...</td>\n",
       "    </tr>\n",
       "    <tr>\n",
       "      <th>87043</th>\n",
       "      <td>oJAhM8qLZsn5</td>\n",
       "      <td>qNDUgtxXJsol</td>\n",
       "      <td>shipped</td>\n",
       "      <td>2016-10-05 14:36:55</td>\n",
       "      <td>2016-10-06 15:53:06</td>\n",
       "      <td>NaN</td>\n",
       "      <td>2016-11-29</td>\n",
       "    </tr>\n",
       "    <tr>\n",
       "      <th>88412</th>\n",
       "      <td>pGztNGEdu1Bh</td>\n",
       "      <td>kkw7MhILCVEO</td>\n",
       "      <td>delivered</td>\n",
       "      <td>2016-10-05 17:11:49</td>\n",
       "      <td>2016-10-06 15:54:57</td>\n",
       "      <td>2016-10-31 21:41:43</td>\n",
       "      <td>2016-11-29</td>\n",
       "    </tr>\n",
       "    <tr>\n",
       "      <th>88474</th>\n",
       "      <td>vs49HIarg6f9</td>\n",
       "      <td>DWA2f8kChfph</td>\n",
       "      <td>delivered</td>\n",
       "      <td>2016-10-05 17:09:07</td>\n",
       "      <td>2016-10-06 15:50:35</td>\n",
       "      <td>2016-11-07 13:55:07</td>\n",
       "      <td>2016-11-29</td>\n",
       "    </tr>\n",
       "    <tr>\n",
       "      <th>88733</th>\n",
       "      <td>jWFgVdc0dfcX</td>\n",
       "      <td>itMwBWoT4tkG</td>\n",
       "      <td>delivered</td>\n",
       "      <td>2016-10-08 13:54:03</td>\n",
       "      <td>2016-10-08 16:34:43</td>\n",
       "      <td>2016-10-15 16:34:44</td>\n",
       "      <td>2016-11-30</td>\n",
       "    </tr>\n",
       "    <tr>\n",
       "      <th>89175</th>\n",
       "      <td>j6d8YjVRABCT</td>\n",
       "      <td>KTEY7e7pwkwU</td>\n",
       "      <td>delivered</td>\n",
       "      <td>2016-10-05 20:20:57</td>\n",
       "      <td>2016-10-07 02:48:30</td>\n",
       "      <td>2016-10-20 18:14:50</td>\n",
       "      <td>2016-11-29</td>\n",
       "    </tr>\n",
       "  </tbody>\n",
       "</table>\n",
       "<p>293 rows × 7 columns</p>\n",
       "</div>"
      ],
      "text/plain": [
       "           order_id   customer_id order_status order_purchase_timestamp  \\\n",
       "303    YTg0u33hKRJZ  eGMfCgBLlg0f    delivered      2016-10-06 16:13:30   \n",
       "420    6EBIqp1t8jl5  PSsOpTjyt9Wi    delivered      2016-10-06 08:58:04   \n",
       "1072   dKgztiB6hmk0  zW20fFCnkKD3    delivered      2016-10-08 17:43:26   \n",
       "1091   MUj9ocKZaBtm  WHZShDFJhbJV    delivered      2016-10-08 11:33:25   \n",
       "1137   GiPtraF6W5SW  v6gia1ruRFU5    delivered      2016-10-06 22:34:03   \n",
       "...             ...           ...          ...                      ...   \n",
       "87043  oJAhM8qLZsn5  qNDUgtxXJsol      shipped      2016-10-05 14:36:55   \n",
       "88412  pGztNGEdu1Bh  kkw7MhILCVEO    delivered      2016-10-05 17:11:49   \n",
       "88474  vs49HIarg6f9  DWA2f8kChfph    delivered      2016-10-05 17:09:07   \n",
       "88733  jWFgVdc0dfcX  itMwBWoT4tkG    delivered      2016-10-08 13:54:03   \n",
       "89175  j6d8YjVRABCT  KTEY7e7pwkwU    delivered      2016-10-05 20:20:57   \n",
       "\n",
       "         order_approved_at order_delivered_timestamp  \\\n",
       "303    2016-10-06 16:51:46       2016-10-13 16:51:46   \n",
       "420    2016-10-06 16:08:04       2016-11-08 13:08:37   \n",
       "1072   2016-10-13 21:09:06       2016-10-26 12:58:25   \n",
       "1091   2016-10-08 13:19:54       2016-10-15 13:19:54   \n",
       "1137   2016-10-06 23:11:27       2016-10-18 20:23:49   \n",
       "...                    ...                       ...   \n",
       "87043  2016-10-06 15:53:06                       NaN   \n",
       "88412  2016-10-06 15:54:57       2016-10-31 21:41:43   \n",
       "88474  2016-10-06 15:50:35       2016-11-07 13:55:07   \n",
       "88733  2016-10-08 16:34:43       2016-10-15 16:34:44   \n",
       "89175  2016-10-07 02:48:30       2016-10-20 18:14:50   \n",
       "\n",
       "      order_estimated_delivery_date  \n",
       "303                      2016-11-28  \n",
       "420                      2016-11-28  \n",
       "1072                     2016-12-14  \n",
       "1091                     2016-12-06  \n",
       "1137                     2016-11-28  \n",
       "...                             ...  \n",
       "87043                    2016-11-29  \n",
       "88412                    2016-11-29  \n",
       "88474                    2016-11-29  \n",
       "88733                    2016-11-30  \n",
       "89175                    2016-11-29  \n",
       "\n",
       "[293 rows x 7 columns]"
      ]
     },
     "execution_count": 76,
     "metadata": {},
     "output_type": "execute_result"
    }
   ],
   "source": [
    "orders[orders['order_purchase_timestamp'].dt.year == 2016]."
   ]
  },
  {
   "cell_type": "code",
   "execution_count": 77,
   "id": "f12406fa-afde-47eb-9ef9-06ff7e0ee654",
   "metadata": {},
   "outputs": [
    {
     "data": {
      "text/html": [
       "<div>\n",
       "<style scoped>\n",
       "    .dataframe tbody tr th:only-of-type {\n",
       "        vertical-align: middle;\n",
       "    }\n",
       "\n",
       "    .dataframe tbody tr th {\n",
       "        vertical-align: top;\n",
       "    }\n",
       "\n",
       "    .dataframe thead th {\n",
       "        text-align: right;\n",
       "    }\n",
       "</style>\n",
       "<table border=\"1\" class=\"dataframe\">\n",
       "  <thead>\n",
       "    <tr style=\"text-align: right;\">\n",
       "      <th></th>\n",
       "      <th>order_id</th>\n",
       "      <th>customer_id</th>\n",
       "      <th>order_status</th>\n",
       "      <th>order_purchase_timestamp</th>\n",
       "      <th>order_approved_at</th>\n",
       "      <th>order_delivered_timestamp</th>\n",
       "      <th>order_estimated_delivery_date</th>\n",
       "    </tr>\n",
       "  </thead>\n",
       "  <tbody>\n",
       "    <tr>\n",
       "      <th>303</th>\n",
       "      <td>YTg0u33hKRJZ</td>\n",
       "      <td>eGMfCgBLlg0f</td>\n",
       "      <td>delivered</td>\n",
       "      <td>2016-10-06 16:13:30</td>\n",
       "      <td>2016-10-06 16:51:46</td>\n",
       "      <td>2016-10-13 16:51:46</td>\n",
       "      <td>2016-11-28</td>\n",
       "    </tr>\n",
       "    <tr>\n",
       "      <th>420</th>\n",
       "      <td>6EBIqp1t8jl5</td>\n",
       "      <td>PSsOpTjyt9Wi</td>\n",
       "      <td>delivered</td>\n",
       "      <td>2016-10-06 08:58:04</td>\n",
       "      <td>2016-10-06 16:08:04</td>\n",
       "      <td>2016-11-08 13:08:37</td>\n",
       "      <td>2016-11-28</td>\n",
       "    </tr>\n",
       "    <tr>\n",
       "      <th>1072</th>\n",
       "      <td>dKgztiB6hmk0</td>\n",
       "      <td>zW20fFCnkKD3</td>\n",
       "      <td>delivered</td>\n",
       "      <td>2016-10-08 17:43:26</td>\n",
       "      <td>2016-10-13 21:09:06</td>\n",
       "      <td>2016-10-26 12:58:25</td>\n",
       "      <td>2016-12-14</td>\n",
       "    </tr>\n",
       "    <tr>\n",
       "      <th>1091</th>\n",
       "      <td>MUj9ocKZaBtm</td>\n",
       "      <td>WHZShDFJhbJV</td>\n",
       "      <td>delivered</td>\n",
       "      <td>2016-10-08 11:33:25</td>\n",
       "      <td>2016-10-08 13:19:54</td>\n",
       "      <td>2016-10-15 13:19:54</td>\n",
       "      <td>2016-12-06</td>\n",
       "    </tr>\n",
       "    <tr>\n",
       "      <th>1137</th>\n",
       "      <td>GiPtraF6W5SW</td>\n",
       "      <td>v6gia1ruRFU5</td>\n",
       "      <td>delivered</td>\n",
       "      <td>2016-10-06 22:34:03</td>\n",
       "      <td>2016-10-06 23:11:27</td>\n",
       "      <td>2016-10-18 20:23:49</td>\n",
       "      <td>2016-11-28</td>\n",
       "    </tr>\n",
       "    <tr>\n",
       "      <th>...</th>\n",
       "      <td>...</td>\n",
       "      <td>...</td>\n",
       "      <td>...</td>\n",
       "      <td>...</td>\n",
       "      <td>...</td>\n",
       "      <td>...</td>\n",
       "      <td>...</td>\n",
       "    </tr>\n",
       "    <tr>\n",
       "      <th>87043</th>\n",
       "      <td>oJAhM8qLZsn5</td>\n",
       "      <td>qNDUgtxXJsol</td>\n",
       "      <td>shipped</td>\n",
       "      <td>2016-10-05 14:36:55</td>\n",
       "      <td>2016-10-06 15:53:06</td>\n",
       "      <td>NaN</td>\n",
       "      <td>2016-11-29</td>\n",
       "    </tr>\n",
       "    <tr>\n",
       "      <th>88412</th>\n",
       "      <td>pGztNGEdu1Bh</td>\n",
       "      <td>kkw7MhILCVEO</td>\n",
       "      <td>delivered</td>\n",
       "      <td>2016-10-05 17:11:49</td>\n",
       "      <td>2016-10-06 15:54:57</td>\n",
       "      <td>2016-10-31 21:41:43</td>\n",
       "      <td>2016-11-29</td>\n",
       "    </tr>\n",
       "    <tr>\n",
       "      <th>88474</th>\n",
       "      <td>vs49HIarg6f9</td>\n",
       "      <td>DWA2f8kChfph</td>\n",
       "      <td>delivered</td>\n",
       "      <td>2016-10-05 17:09:07</td>\n",
       "      <td>2016-10-06 15:50:35</td>\n",
       "      <td>2016-11-07 13:55:07</td>\n",
       "      <td>2016-11-29</td>\n",
       "    </tr>\n",
       "    <tr>\n",
       "      <th>88733</th>\n",
       "      <td>jWFgVdc0dfcX</td>\n",
       "      <td>itMwBWoT4tkG</td>\n",
       "      <td>delivered</td>\n",
       "      <td>2016-10-08 13:54:03</td>\n",
       "      <td>2016-10-08 16:34:43</td>\n",
       "      <td>2016-10-15 16:34:44</td>\n",
       "      <td>2016-11-30</td>\n",
       "    </tr>\n",
       "    <tr>\n",
       "      <th>89175</th>\n",
       "      <td>j6d8YjVRABCT</td>\n",
       "      <td>KTEY7e7pwkwU</td>\n",
       "      <td>delivered</td>\n",
       "      <td>2016-10-05 20:20:57</td>\n",
       "      <td>2016-10-07 02:48:30</td>\n",
       "      <td>2016-10-20 18:14:50</td>\n",
       "      <td>2016-11-29</td>\n",
       "    </tr>\n",
       "  </tbody>\n",
       "</table>\n",
       "<p>289 rows × 7 columns</p>\n",
       "</div>"
      ],
      "text/plain": [
       "           order_id   customer_id order_status order_purchase_timestamp  \\\n",
       "303    YTg0u33hKRJZ  eGMfCgBLlg0f    delivered      2016-10-06 16:13:30   \n",
       "420    6EBIqp1t8jl5  PSsOpTjyt9Wi    delivered      2016-10-06 08:58:04   \n",
       "1072   dKgztiB6hmk0  zW20fFCnkKD3    delivered      2016-10-08 17:43:26   \n",
       "1091   MUj9ocKZaBtm  WHZShDFJhbJV    delivered      2016-10-08 11:33:25   \n",
       "1137   GiPtraF6W5SW  v6gia1ruRFU5    delivered      2016-10-06 22:34:03   \n",
       "...             ...           ...          ...                      ...   \n",
       "87043  oJAhM8qLZsn5  qNDUgtxXJsol      shipped      2016-10-05 14:36:55   \n",
       "88412  pGztNGEdu1Bh  kkw7MhILCVEO    delivered      2016-10-05 17:11:49   \n",
       "88474  vs49HIarg6f9  DWA2f8kChfph    delivered      2016-10-05 17:09:07   \n",
       "88733  jWFgVdc0dfcX  itMwBWoT4tkG    delivered      2016-10-08 13:54:03   \n",
       "89175  j6d8YjVRABCT  KTEY7e7pwkwU    delivered      2016-10-05 20:20:57   \n",
       "\n",
       "         order_approved_at order_delivered_timestamp  \\\n",
       "303    2016-10-06 16:51:46       2016-10-13 16:51:46   \n",
       "420    2016-10-06 16:08:04       2016-11-08 13:08:37   \n",
       "1072   2016-10-13 21:09:06       2016-10-26 12:58:25   \n",
       "1091   2016-10-08 13:19:54       2016-10-15 13:19:54   \n",
       "1137   2016-10-06 23:11:27       2016-10-18 20:23:49   \n",
       "...                    ...                       ...   \n",
       "87043  2016-10-06 15:53:06                       NaN   \n",
       "88412  2016-10-06 15:54:57       2016-10-31 21:41:43   \n",
       "88474  2016-10-06 15:50:35       2016-11-07 13:55:07   \n",
       "88733  2016-10-08 16:34:43       2016-10-15 16:34:44   \n",
       "89175  2016-10-07 02:48:30       2016-10-20 18:14:50   \n",
       "\n",
       "      order_estimated_delivery_date  \n",
       "303                      2016-11-28  \n",
       "420                      2016-11-28  \n",
       "1072                     2016-12-14  \n",
       "1091                     2016-12-06  \n",
       "1137                     2016-11-28  \n",
       "...                             ...  \n",
       "87043                    2016-11-29  \n",
       "88412                    2016-11-29  \n",
       "88474                    2016-11-29  \n",
       "88733                    2016-11-30  \n",
       "89175                    2016-11-29  \n",
       "\n",
       "[289 rows x 7 columns]"
      ]
     },
     "execution_count": 77,
     "metadata": {},
     "output_type": "execute_result"
    }
   ],
   "source": [
    "orders[(orders['order_purchase_timestamp'].dt.year == 2016) & (orders['order_purchase_timestamp'].dt.month == 10)]"
   ]
  },
  {
   "cell_type": "code",
   "execution_count": 75,
   "id": "1a45e761-95bf-4810-8434-7f43a7111d8d",
   "metadata": {},
   "outputs": [
    {
     "data": {
      "text/html": [
       "<div>\n",
       "<style scoped>\n",
       "    .dataframe tbody tr th:only-of-type {\n",
       "        vertical-align: middle;\n",
       "    }\n",
       "\n",
       "    .dataframe tbody tr th {\n",
       "        vertical-align: top;\n",
       "    }\n",
       "\n",
       "    .dataframe thead th {\n",
       "        text-align: right;\n",
       "    }\n",
       "</style>\n",
       "<table border=\"1\" class=\"dataframe\">\n",
       "  <thead>\n",
       "    <tr style=\"text-align: right;\">\n",
       "      <th></th>\n",
       "      <th>order_id</th>\n",
       "      <th>customer_id</th>\n",
       "      <th>order_status</th>\n",
       "      <th>order_purchase_timestamp</th>\n",
       "      <th>order_approved_at</th>\n",
       "      <th>order_delivered_timestamp</th>\n",
       "      <th>order_estimated_delivery_date</th>\n",
       "    </tr>\n",
       "  </thead>\n",
       "  <tbody>\n",
       "    <tr>\n",
       "      <th>37529</th>\n",
       "      <td>ezJoPcVfVLtu</td>\n",
       "      <td>SVFYn5WoQXWR</td>\n",
       "      <td>delivered</td>\n",
       "      <td>2016-12-23 23:16:47</td>\n",
       "      <td>2016-12-23 23:31:37</td>\n",
       "      <td>2016-12-28 15:54:44</td>\n",
       "      <td>2017-01-19</td>\n",
       "    </tr>\n",
       "  </tbody>\n",
       "</table>\n",
       "</div>"
      ],
      "text/plain": [
       "           order_id   customer_id order_status order_purchase_timestamp  \\\n",
       "37529  ezJoPcVfVLtu  SVFYn5WoQXWR    delivered      2016-12-23 23:16:47   \n",
       "\n",
       "         order_approved_at order_delivered_timestamp  \\\n",
       "37529  2016-12-23 23:31:37       2016-12-28 15:54:44   \n",
       "\n",
       "      order_estimated_delivery_date  \n",
       "37529                    2017-01-19  "
      ]
     },
     "execution_count": 75,
     "metadata": {},
     "output_type": "execute_result"
    }
   ],
   "source": [
    "orders[(orders['order_purchase_timestamp'].dt.year == 2016) & (orders['order_purchase_timestamp'].dt.month == 12)]"
   ]
  },
  {
   "cell_type": "code",
   "execution_count": 81,
   "id": "56cf965b-f490-4ca6-93e8-439a2b38d2c5",
   "metadata": {},
   "outputs": [
    {
     "data": {
      "text/plain": [
       "order_status\n",
       "delivered      87428\n",
       "shipped          936\n",
       "canceled         409\n",
       "processing       273\n",
       "invoiced         266\n",
       "unavailable        2\n",
       "approved           2\n",
       "Name: count, dtype: int64"
      ]
     },
     "execution_count": 81,
     "metadata": {},
     "output_type": "execute_result"
    }
   ],
   "source": [
    "orders['order_status'].value_counts()"
   ]
  },
  {
   "cell_type": "code",
   "execution_count": 84,
   "id": "a500afc3-3d35-4258-a0b5-21bd42e2b63f",
   "metadata": {},
   "outputs": [
    {
     "data": {
      "text/html": [
       "<div>\n",
       "<style scoped>\n",
       "    .dataframe tbody tr th:only-of-type {\n",
       "        vertical-align: middle;\n",
       "    }\n",
       "\n",
       "    .dataframe tbody tr th {\n",
       "        vertical-align: top;\n",
       "    }\n",
       "\n",
       "    .dataframe thead th {\n",
       "        text-align: right;\n",
       "    }\n",
       "</style>\n",
       "<table border=\"1\" class=\"dataframe\">\n",
       "  <thead>\n",
       "    <tr style=\"text-align: right;\">\n",
       "      <th></th>\n",
       "      <th>order_id</th>\n",
       "      <th>customer_id</th>\n",
       "      <th>order_status</th>\n",
       "      <th>order_purchase_timestamp</th>\n",
       "      <th>order_approved_at</th>\n",
       "      <th>order_delivered_timestamp</th>\n",
       "      <th>order_estimated_delivery_date</th>\n",
       "    </tr>\n",
       "  </thead>\n",
       "  <tbody>\n",
       "    <tr>\n",
       "      <th>50482</th>\n",
       "      <td>nFUAefooRC5T</td>\n",
       "      <td>yIZBidEnNsKQ</td>\n",
       "      <td>approved</td>\n",
       "      <td>2017-02-06 20:18:17</td>\n",
       "      <td>2017-02-06 20:30:19</td>\n",
       "      <td>NaN</td>\n",
       "      <td>2017-03-01</td>\n",
       "    </tr>\n",
       "    <tr>\n",
       "      <th>86222</th>\n",
       "      <td>LjWhGg1TVezI</td>\n",
       "      <td>Jv5fFDI3UHFe</td>\n",
       "      <td>approved</td>\n",
       "      <td>2017-04-25 01:25:34</td>\n",
       "      <td>2017-04-30 20:32:41</td>\n",
       "      <td>NaN</td>\n",
       "      <td>2017-05-22</td>\n",
       "    </tr>\n",
       "  </tbody>\n",
       "</table>\n",
       "</div>"
      ],
      "text/plain": [
       "           order_id   customer_id order_status order_purchase_timestamp  \\\n",
       "50482  nFUAefooRC5T  yIZBidEnNsKQ     approved      2017-02-06 20:18:17   \n",
       "86222  LjWhGg1TVezI  Jv5fFDI3UHFe     approved      2017-04-25 01:25:34   \n",
       "\n",
       "         order_approved_at order_delivered_timestamp  \\\n",
       "50482  2017-02-06 20:30:19                       NaN   \n",
       "86222  2017-04-30 20:32:41                       NaN   \n",
       "\n",
       "      order_estimated_delivery_date  \n",
       "50482                    2017-03-01  \n",
       "86222                    2017-05-22  "
      ]
     },
     "execution_count": 84,
     "metadata": {},
     "output_type": "execute_result"
    }
   ],
   "source": [
    "orders[orders['order_status']=='approved']"
   ]
  },
  {
   "cell_type": "code",
   "execution_count": 87,
   "id": "6b2fa205-4689-471c-a8b6-23840558039c",
   "metadata": {},
   "outputs": [
    {
     "data": {
      "text/html": [
       "<div>\n",
       "<style scoped>\n",
       "    .dataframe tbody tr th:only-of-type {\n",
       "        vertical-align: middle;\n",
       "    }\n",
       "\n",
       "    .dataframe tbody tr th {\n",
       "        vertical-align: top;\n",
       "    }\n",
       "\n",
       "    .dataframe thead th {\n",
       "        text-align: right;\n",
       "    }\n",
       "</style>\n",
       "<table border=\"1\" class=\"dataframe\">\n",
       "  <thead>\n",
       "    <tr style=\"text-align: right;\">\n",
       "      <th></th>\n",
       "      <th>order_id</th>\n",
       "      <th>customer_id</th>\n",
       "      <th>order_status</th>\n",
       "      <th>order_purchase_timestamp</th>\n",
       "      <th>order_approved_at</th>\n",
       "      <th>order_delivered_timestamp</th>\n",
       "      <th>order_estimated_delivery_date</th>\n",
       "    </tr>\n",
       "  </thead>\n",
       "  <tbody>\n",
       "    <tr>\n",
       "      <th>27354</th>\n",
       "      <td>XqR4O0oNMf1a</td>\n",
       "      <td>9UJ1aOlbghS0</td>\n",
       "      <td>unavailable</td>\n",
       "      <td>2016-10-05 17:21:29</td>\n",
       "      <td>2016-10-06 15:55:40</td>\n",
       "      <td>NaN</td>\n",
       "      <td>2016-11-29</td>\n",
       "    </tr>\n",
       "    <tr>\n",
       "      <th>69032</th>\n",
       "      <td>kKaE4dz8vxCX</td>\n",
       "      <td>sXwZh5W7f7cW</td>\n",
       "      <td>unavailable</td>\n",
       "      <td>2016-10-07 18:16:31</td>\n",
       "      <td>2016-10-07 18:53:48</td>\n",
       "      <td>NaN</td>\n",
       "      <td>2016-12-07</td>\n",
       "    </tr>\n",
       "  </tbody>\n",
       "</table>\n",
       "</div>"
      ],
      "text/plain": [
       "           order_id   customer_id order_status order_purchase_timestamp  \\\n",
       "27354  XqR4O0oNMf1a  9UJ1aOlbghS0  unavailable      2016-10-05 17:21:29   \n",
       "69032  kKaE4dz8vxCX  sXwZh5W7f7cW  unavailable      2016-10-07 18:16:31   \n",
       "\n",
       "         order_approved_at order_delivered_timestamp  \\\n",
       "27354  2016-10-06 15:55:40                       NaN   \n",
       "69032  2016-10-07 18:53:48                       NaN   \n",
       "\n",
       "      order_estimated_delivery_date  \n",
       "27354                    2016-11-29  \n",
       "69032                    2016-12-07  "
      ]
     },
     "execution_count": 87,
     "metadata": {},
     "output_type": "execute_result"
    }
   ],
   "source": [
    "orders[orders['order_status']=='unavailable']"
   ]
  },
  {
   "cell_type": "code",
   "execution_count": 89,
   "id": "065dc663-e8de-41a6-8b05-1212da12a092",
   "metadata": {},
   "outputs": [
    {
     "data": {
      "text/html": [
       "<div>\n",
       "<style scoped>\n",
       "    .dataframe tbody tr th:only-of-type {\n",
       "        vertical-align: middle;\n",
       "    }\n",
       "\n",
       "    .dataframe tbody tr th {\n",
       "        vertical-align: top;\n",
       "    }\n",
       "\n",
       "    .dataframe thead th {\n",
       "        text-align: right;\n",
       "    }\n",
       "</style>\n",
       "<table border=\"1\" class=\"dataframe\">\n",
       "  <thead>\n",
       "    <tr style=\"text-align: right;\">\n",
       "      <th></th>\n",
       "      <th>order_id</th>\n",
       "      <th>customer_id</th>\n",
       "      <th>order_status</th>\n",
       "      <th>order_purchase_timestamp</th>\n",
       "      <th>order_approved_at</th>\n",
       "      <th>order_delivered_timestamp</th>\n",
       "      <th>order_estimated_delivery_date</th>\n",
       "    </tr>\n",
       "  </thead>\n",
       "  <tbody>\n",
       "    <tr>\n",
       "      <th>764</th>\n",
       "      <td>WMPT0F2OZ6fm</td>\n",
       "      <td>XkxI5wF3CHFt</td>\n",
       "      <td>invoiced</td>\n",
       "      <td>2018-08-06 20:17:25</td>\n",
       "      <td>2018-08-06 20:30:10</td>\n",
       "      <td>NaN</td>\n",
       "      <td>2018-08-09</td>\n",
       "    </tr>\n",
       "    <tr>\n",
       "      <th>1075</th>\n",
       "      <td>4uoqgIkXqGxH</td>\n",
       "      <td>Lh9UOxXWBOCd</td>\n",
       "      <td>invoiced</td>\n",
       "      <td>2017-06-13 15:24:53</td>\n",
       "      <td>2017-06-13 15:43:07</td>\n",
       "      <td>NaN</td>\n",
       "      <td>2017-07-11</td>\n",
       "    </tr>\n",
       "    <tr>\n",
       "      <th>1350</th>\n",
       "      <td>7r3sBb2Icbsk</td>\n",
       "      <td>LrJ4Gk0VPFsG</td>\n",
       "      <td>invoiced</td>\n",
       "      <td>2017-08-31 23:17:32</td>\n",
       "      <td>2017-08-31 23:30:11</td>\n",
       "      <td>NaN</td>\n",
       "      <td>2017-09-14</td>\n",
       "    </tr>\n",
       "    <tr>\n",
       "      <th>1566</th>\n",
       "      <td>X5jvaiRNqfC8</td>\n",
       "      <td>8jE768PGNEJQ</td>\n",
       "      <td>invoiced</td>\n",
       "      <td>2018-01-07 16:19:04</td>\n",
       "      <td>2018-01-07 16:26:19</td>\n",
       "      <td>NaN</td>\n",
       "      <td>2018-01-24</td>\n",
       "    </tr>\n",
       "    <tr>\n",
       "      <th>1790</th>\n",
       "      <td>zYhNzWwP5chK</td>\n",
       "      <td>TwFa1n4WOdjf</td>\n",
       "      <td>invoiced</td>\n",
       "      <td>2018-07-24 15:51:16</td>\n",
       "      <td>2018-07-24 16:05:10</td>\n",
       "      <td>NaN</td>\n",
       "      <td>2018-08-15</td>\n",
       "    </tr>\n",
       "    <tr>\n",
       "      <th>...</th>\n",
       "      <td>...</td>\n",
       "      <td>...</td>\n",
       "      <td>...</td>\n",
       "      <td>...</td>\n",
       "      <td>...</td>\n",
       "      <td>...</td>\n",
       "      <td>...</td>\n",
       "    </tr>\n",
       "    <tr>\n",
       "      <th>86513</th>\n",
       "      <td>Lo84cduP3Kda</td>\n",
       "      <td>79hNRUWtdNHW</td>\n",
       "      <td>invoiced</td>\n",
       "      <td>2017-04-05 13:25:31</td>\n",
       "      <td>2017-04-05 13:35:14</td>\n",
       "      <td>NaN</td>\n",
       "      <td>2017-04-28</td>\n",
       "    </tr>\n",
       "    <tr>\n",
       "      <th>87310</th>\n",
       "      <td>WLzqeGb9OFi0</td>\n",
       "      <td>OzAI6rjPlKRN</td>\n",
       "      <td>invoiced</td>\n",
       "      <td>2018-01-19 15:18:41</td>\n",
       "      <td>2018-01-19 16:06:32</td>\n",
       "      <td>NaN</td>\n",
       "      <td>2018-03-13</td>\n",
       "    </tr>\n",
       "    <tr>\n",
       "      <th>87722</th>\n",
       "      <td>RniJZIyBAvY7</td>\n",
       "      <td>cgaIMsqRIxsQ</td>\n",
       "      <td>invoiced</td>\n",
       "      <td>2017-04-29 08:07:48</td>\n",
       "      <td>2017-04-29 08:15:14</td>\n",
       "      <td>NaN</td>\n",
       "      <td>2017-05-30</td>\n",
       "    </tr>\n",
       "    <tr>\n",
       "      <th>88082</th>\n",
       "      <td>zJxzlY2vYP8g</td>\n",
       "      <td>dUYQFNE9q8k6</td>\n",
       "      <td>invoiced</td>\n",
       "      <td>2017-11-11 13:14:53</td>\n",
       "      <td>2017-11-11 13:30:33</td>\n",
       "      <td>NaN</td>\n",
       "      <td>2017-12-01</td>\n",
       "    </tr>\n",
       "    <tr>\n",
       "      <th>88307</th>\n",
       "      <td>jpZe4cDVJe8D</td>\n",
       "      <td>af6YeUllABH1</td>\n",
       "      <td>invoiced</td>\n",
       "      <td>2018-07-31 16:01:43</td>\n",
       "      <td>2018-07-31 17:31:24</td>\n",
       "      <td>NaN</td>\n",
       "      <td>2018-08-06</td>\n",
       "    </tr>\n",
       "  </tbody>\n",
       "</table>\n",
       "<p>266 rows × 7 columns</p>\n",
       "</div>"
      ],
      "text/plain": [
       "           order_id   customer_id order_status order_purchase_timestamp  \\\n",
       "764    WMPT0F2OZ6fm  XkxI5wF3CHFt     invoiced      2018-08-06 20:17:25   \n",
       "1075   4uoqgIkXqGxH  Lh9UOxXWBOCd     invoiced      2017-06-13 15:24:53   \n",
       "1350   7r3sBb2Icbsk  LrJ4Gk0VPFsG     invoiced      2017-08-31 23:17:32   \n",
       "1566   X5jvaiRNqfC8  8jE768PGNEJQ     invoiced      2018-01-07 16:19:04   \n",
       "1790   zYhNzWwP5chK  TwFa1n4WOdjf     invoiced      2018-07-24 15:51:16   \n",
       "...             ...           ...          ...                      ...   \n",
       "86513  Lo84cduP3Kda  79hNRUWtdNHW     invoiced      2017-04-05 13:25:31   \n",
       "87310  WLzqeGb9OFi0  OzAI6rjPlKRN     invoiced      2018-01-19 15:18:41   \n",
       "87722  RniJZIyBAvY7  cgaIMsqRIxsQ     invoiced      2017-04-29 08:07:48   \n",
       "88082  zJxzlY2vYP8g  dUYQFNE9q8k6     invoiced      2017-11-11 13:14:53   \n",
       "88307  jpZe4cDVJe8D  af6YeUllABH1     invoiced      2018-07-31 16:01:43   \n",
       "\n",
       "         order_approved_at order_delivered_timestamp  \\\n",
       "764    2018-08-06 20:30:10                       NaN   \n",
       "1075   2017-06-13 15:43:07                       NaN   \n",
       "1350   2017-08-31 23:30:11                       NaN   \n",
       "1566   2018-01-07 16:26:19                       NaN   \n",
       "1790   2018-07-24 16:05:10                       NaN   \n",
       "...                    ...                       ...   \n",
       "86513  2017-04-05 13:35:14                       NaN   \n",
       "87310  2018-01-19 16:06:32                       NaN   \n",
       "87722  2017-04-29 08:15:14                       NaN   \n",
       "88082  2017-11-11 13:30:33                       NaN   \n",
       "88307  2018-07-31 17:31:24                       NaN   \n",
       "\n",
       "      order_estimated_delivery_date  \n",
       "764                      2018-08-09  \n",
       "1075                     2017-07-11  \n",
       "1350                     2017-09-14  \n",
       "1566                     2018-01-24  \n",
       "1790                     2018-08-15  \n",
       "...                             ...  \n",
       "86513                    2017-04-28  \n",
       "87310                    2018-03-13  \n",
       "87722                    2017-05-30  \n",
       "88082                    2017-12-01  \n",
       "88307                    2018-08-06  \n",
       "\n",
       "[266 rows x 7 columns]"
      ]
     },
     "execution_count": 89,
     "metadata": {},
     "output_type": "execute_result"
    }
   ],
   "source": [
    "orders[orders['order_status']=='invoiced']"
   ]
  },
  {
   "cell_type": "code",
   "execution_count": 96,
   "id": "858871b1-b8d3-42c9-92ec-b5150f87abb5",
   "metadata": {},
   "outputs": [
    {
     "data": {
      "text/plain": [
       "266"
      ]
     },
     "execution_count": 96,
     "metadata": {},
     "output_type": "execute_result"
    }
   ],
   "source": [
    "len(orders[(orders['order_status'] == 'invoiced') & (orders['order_delivered_timestamp'].isna())])"
   ]
  },
  {
   "cell_type": "code",
   "execution_count": 102,
   "id": "9385760a-79d3-44d2-a4cc-048b840d006a",
   "metadata": {},
   "outputs": [
    {
     "data": {
      "text/html": [
       "<div>\n",
       "<style scoped>\n",
       "    .dataframe tbody tr th:only-of-type {\n",
       "        vertical-align: middle;\n",
       "    }\n",
       "\n",
       "    .dataframe tbody tr th {\n",
       "        vertical-align: top;\n",
       "    }\n",
       "\n",
       "    .dataframe thead th {\n",
       "        text-align: right;\n",
       "    }\n",
       "</style>\n",
       "<table border=\"1\" class=\"dataframe\">\n",
       "  <thead>\n",
       "    <tr style=\"text-align: right;\">\n",
       "      <th></th>\n",
       "      <th>order_id</th>\n",
       "      <th>customer_id</th>\n",
       "      <th>order_status</th>\n",
       "      <th>order_purchase_timestamp</th>\n",
       "      <th>order_approved_at</th>\n",
       "      <th>order_delivered_timestamp</th>\n",
       "      <th>order_estimated_delivery_date</th>\n",
       "    </tr>\n",
       "  </thead>\n",
       "  <tbody>\n",
       "    <tr>\n",
       "      <th>10788</th>\n",
       "      <td>4Itts2TBUQzs</td>\n",
       "      <td>Z3dI7uRBfJOD</td>\n",
       "      <td>delivered</td>\n",
       "      <td>2017-02-17 13:05:55</td>\n",
       "      <td>NaN</td>\n",
       "      <td>2017-03-02 11:09:19</td>\n",
       "      <td>2017-03-20</td>\n",
       "    </tr>\n",
       "    <tr>\n",
       "      <th>16137</th>\n",
       "      <td>6MPB830Ufh0n</td>\n",
       "      <td>SOtqXN1MqcLj</td>\n",
       "      <td>delivered</td>\n",
       "      <td>2017-02-17 17:21:55</td>\n",
       "      <td>NaN</td>\n",
       "      <td>2017-03-03 12:16:03</td>\n",
       "      <td>2017-03-20</td>\n",
       "    </tr>\n",
       "    <tr>\n",
       "      <th>28951</th>\n",
       "      <td>lqW95yj4n1Qd</td>\n",
       "      <td>jCPmhkcyVR1z</td>\n",
       "      <td>delivered</td>\n",
       "      <td>2017-02-18 15:52:27</td>\n",
       "      <td>NaN</td>\n",
       "      <td>2017-03-07 13:57:47</td>\n",
       "      <td>2017-03-29</td>\n",
       "    </tr>\n",
       "    <tr>\n",
       "      <th>30494</th>\n",
       "      <td>dn1i9D4DFVZ2</td>\n",
       "      <td>Es95IGZCDDXy</td>\n",
       "      <td>delivered</td>\n",
       "      <td>2017-02-17 15:53:27</td>\n",
       "      <td>NaN</td>\n",
       "      <td>2017-03-03 11:47:47</td>\n",
       "      <td>2017-03-23</td>\n",
       "    </tr>\n",
       "    <tr>\n",
       "      <th>41752</th>\n",
       "      <td>vBZCEuCG9Hf1</td>\n",
       "      <td>zHEH7vdeO6UZ</td>\n",
       "      <td>delivered</td>\n",
       "      <td>2017-02-18 11:04:19</td>\n",
       "      <td>NaN</td>\n",
       "      <td>2017-03-02 16:15:23</td>\n",
       "      <td>2017-03-22</td>\n",
       "    </tr>\n",
       "    <tr>\n",
       "      <th>42772</th>\n",
       "      <td>PXwPIjmXCehX</td>\n",
       "      <td>gjKhFw8AFnW1</td>\n",
       "      <td>delivered</td>\n",
       "      <td>2017-02-18 16:48:35</td>\n",
       "      <td>NaN</td>\n",
       "      <td>2017-03-09 07:28:47</td>\n",
       "      <td>2017-03-31</td>\n",
       "    </tr>\n",
       "    <tr>\n",
       "      <th>47768</th>\n",
       "      <td>Yg9HDkWtA3Q3</td>\n",
       "      <td>GFg4QWN26cLs</td>\n",
       "      <td>delivered</td>\n",
       "      <td>2017-02-19 01:28:47</td>\n",
       "      <td>NaN</td>\n",
       "      <td>2017-03-02 03:41:58</td>\n",
       "      <td>2017-03-27</td>\n",
       "    </tr>\n",
       "    <tr>\n",
       "      <th>59434</th>\n",
       "      <td>hynO4uEubWbe</td>\n",
       "      <td>QdQBjy8APVMg</td>\n",
       "      <td>delivered</td>\n",
       "      <td>2017-02-18 14:40:00</td>\n",
       "      <td>NaN</td>\n",
       "      <td>2017-03-01 13:25:33</td>\n",
       "      <td>2017-03-17</td>\n",
       "    </tr>\n",
       "    <tr>\n",
       "      <th>65247</th>\n",
       "      <td>Uso7EoEPMrLU</td>\n",
       "      <td>rKJOxQc2PTfc</td>\n",
       "      <td>delivered</td>\n",
       "      <td>2017-01-19 22:26:59</td>\n",
       "      <td>NaN</td>\n",
       "      <td>2017-02-06 14:22:19</td>\n",
       "      <td>2017-03-16</td>\n",
       "    </tr>\n",
       "  </tbody>\n",
       "</table>\n",
       "</div>"
      ],
      "text/plain": [
       "           order_id   customer_id order_status order_purchase_timestamp  \\\n",
       "10788  4Itts2TBUQzs  Z3dI7uRBfJOD    delivered      2017-02-17 13:05:55   \n",
       "16137  6MPB830Ufh0n  SOtqXN1MqcLj    delivered      2017-02-17 17:21:55   \n",
       "28951  lqW95yj4n1Qd  jCPmhkcyVR1z    delivered      2017-02-18 15:52:27   \n",
       "30494  dn1i9D4DFVZ2  Es95IGZCDDXy    delivered      2017-02-17 15:53:27   \n",
       "41752  vBZCEuCG9Hf1  zHEH7vdeO6UZ    delivered      2017-02-18 11:04:19   \n",
       "42772  PXwPIjmXCehX  gjKhFw8AFnW1    delivered      2017-02-18 16:48:35   \n",
       "47768  Yg9HDkWtA3Q3  GFg4QWN26cLs    delivered      2017-02-19 01:28:47   \n",
       "59434  hynO4uEubWbe  QdQBjy8APVMg    delivered      2017-02-18 14:40:00   \n",
       "65247  Uso7EoEPMrLU  rKJOxQc2PTfc    delivered      2017-01-19 22:26:59   \n",
       "\n",
       "      order_approved_at order_delivered_timestamp  \\\n",
       "10788               NaN       2017-03-02 11:09:19   \n",
       "16137               NaN       2017-03-03 12:16:03   \n",
       "28951               NaN       2017-03-07 13:57:47   \n",
       "30494               NaN       2017-03-03 11:47:47   \n",
       "41752               NaN       2017-03-02 16:15:23   \n",
       "42772               NaN       2017-03-09 07:28:47   \n",
       "47768               NaN       2017-03-02 03:41:58   \n",
       "59434               NaN       2017-03-01 13:25:33   \n",
       "65247               NaN       2017-02-06 14:22:19   \n",
       "\n",
       "      order_estimated_delivery_date  \n",
       "10788                    2017-03-20  \n",
       "16137                    2017-03-20  \n",
       "28951                    2017-03-29  \n",
       "30494                    2017-03-23  \n",
       "41752                    2017-03-22  \n",
       "42772                    2017-03-31  \n",
       "47768                    2017-03-27  \n",
       "59434                    2017-03-17  \n",
       "65247                    2017-03-16  "
      ]
     },
     "execution_count": 102,
     "metadata": {},
     "output_type": "execute_result"
    }
   ],
   "source": [
    "orders[orders['order_approved_at'].isna()]"
   ]
  },
  {
   "cell_type": "code",
   "execution_count": 105,
   "id": "246471ac-9121-4dec-a4b3-585b3e5ded56",
   "metadata": {},
   "outputs": [
    {
     "data": {
      "text/html": [
       "<div>\n",
       "<style scoped>\n",
       "    .dataframe tbody tr th:only-of-type {\n",
       "        vertical-align: middle;\n",
       "    }\n",
       "\n",
       "    .dataframe tbody tr th {\n",
       "        vertical-align: top;\n",
       "    }\n",
       "\n",
       "    .dataframe thead th {\n",
       "        text-align: right;\n",
       "    }\n",
       "</style>\n",
       "<table border=\"1\" class=\"dataframe\">\n",
       "  <thead>\n",
       "    <tr style=\"text-align: right;\">\n",
       "      <th></th>\n",
       "      <th>order_id</th>\n",
       "      <th>customer_id</th>\n",
       "      <th>order_status</th>\n",
       "      <th>order_purchase_timestamp</th>\n",
       "      <th>order_approved_at</th>\n",
       "      <th>order_delivered_timestamp</th>\n",
       "      <th>order_estimated_delivery_date</th>\n",
       "    </tr>\n",
       "  </thead>\n",
       "  <tbody>\n",
       "    <tr>\n",
       "      <th>15</th>\n",
       "      <td>P5R6jr1qZdh4</td>\n",
       "      <td>FrEvnEiMKGpr</td>\n",
       "      <td>canceled</td>\n",
       "      <td>2017-07-24 11:38:43</td>\n",
       "      <td>2017-07-24 11:50:18</td>\n",
       "      <td>NaN</td>\n",
       "      <td>2017-08-07</td>\n",
       "    </tr>\n",
       "    <tr>\n",
       "      <th>41</th>\n",
       "      <td>C21fWds5zL0W</td>\n",
       "      <td>iFsAJRrzVaTS</td>\n",
       "      <td>shipped</td>\n",
       "      <td>2017-02-04 12:58:55</td>\n",
       "      <td>2017-02-04 13:10:38</td>\n",
       "      <td>NaN</td>\n",
       "      <td>2017-03-15</td>\n",
       "    </tr>\n",
       "    <tr>\n",
       "      <th>86</th>\n",
       "      <td>vSug5AqRo9gE</td>\n",
       "      <td>oWBBqGwqpx4m</td>\n",
       "      <td>shipped</td>\n",
       "      <td>2017-05-07 10:22:58</td>\n",
       "      <td>2017-05-09 09:35:20</td>\n",
       "      <td>NaN</td>\n",
       "      <td>2017-06-12</td>\n",
       "    </tr>\n",
       "    <tr>\n",
       "      <th>89</th>\n",
       "      <td>2HQ26ShSPhCA</td>\n",
       "      <td>uvuFFZDOAlU7</td>\n",
       "      <td>canceled</td>\n",
       "      <td>2017-07-29 12:56:17</td>\n",
       "      <td>2017-07-29 13:05:18</td>\n",
       "      <td>NaN</td>\n",
       "      <td>2017-08-18</td>\n",
       "    </tr>\n",
       "    <tr>\n",
       "      <th>133</th>\n",
       "      <td>1By8LOosrvF2</td>\n",
       "      <td>grsbZ5L1H5ty</td>\n",
       "      <td>canceled</td>\n",
       "      <td>2017-11-06 15:47:20</td>\n",
       "      <td>2017-11-07 07:30:29</td>\n",
       "      <td>NaN</td>\n",
       "      <td>2017-11-28</td>\n",
       "    </tr>\n",
       "    <tr>\n",
       "      <th>...</th>\n",
       "      <td>...</td>\n",
       "      <td>...</td>\n",
       "      <td>...</td>\n",
       "      <td>...</td>\n",
       "      <td>...</td>\n",
       "      <td>...</td>\n",
       "      <td>...</td>\n",
       "    </tr>\n",
       "    <tr>\n",
       "      <th>89196</th>\n",
       "      <td>VP3EBMExdh7K</td>\n",
       "      <td>acB2XNtto2SX</td>\n",
       "      <td>shipped</td>\n",
       "      <td>2018-01-24 18:19:18</td>\n",
       "      <td>2018-01-24 18:37:41</td>\n",
       "      <td>NaN</td>\n",
       "      <td>2018-03-01</td>\n",
       "    </tr>\n",
       "    <tr>\n",
       "      <th>89226</th>\n",
       "      <td>0jPFvDPItbRN</td>\n",
       "      <td>Hb5m8q1YZEfv</td>\n",
       "      <td>canceled</td>\n",
       "      <td>2017-08-02 14:08:18</td>\n",
       "      <td>2017-08-02 14:23:13</td>\n",
       "      <td>NaN</td>\n",
       "      <td>2017-08-24</td>\n",
       "    </tr>\n",
       "    <tr>\n",
       "      <th>89234</th>\n",
       "      <td>QzxMjvdMpOEI</td>\n",
       "      <td>yCbzy1m4tTUA</td>\n",
       "      <td>shipped</td>\n",
       "      <td>2017-09-15 09:05:41</td>\n",
       "      <td>2017-09-15 09:15:13</td>\n",
       "      <td>NaN</td>\n",
       "      <td>2017-10-05</td>\n",
       "    </tr>\n",
       "    <tr>\n",
       "      <th>89262</th>\n",
       "      <td>rnnNWGgyHsA5</td>\n",
       "      <td>6LYRxLvrUzNy</td>\n",
       "      <td>canceled</td>\n",
       "      <td>2017-12-13 12:55:38</td>\n",
       "      <td>2017-12-13 13:11:58</td>\n",
       "      <td>NaN</td>\n",
       "      <td>2018-01-02</td>\n",
       "    </tr>\n",
       "    <tr>\n",
       "      <th>89281</th>\n",
       "      <td>YCJoeAvBWkpq</td>\n",
       "      <td>BaZgf4zWhXSS</td>\n",
       "      <td>shipped</td>\n",
       "      <td>2018-03-06 11:13:39</td>\n",
       "      <td>2018-03-06 11:30:38</td>\n",
       "      <td>NaN</td>\n",
       "      <td>2018-03-16</td>\n",
       "    </tr>\n",
       "  </tbody>\n",
       "</table>\n",
       "<p>1889 rows × 7 columns</p>\n",
       "</div>"
      ],
      "text/plain": [
       "           order_id   customer_id order_status order_purchase_timestamp  \\\n",
       "15     P5R6jr1qZdh4  FrEvnEiMKGpr     canceled      2017-07-24 11:38:43   \n",
       "41     C21fWds5zL0W  iFsAJRrzVaTS      shipped      2017-02-04 12:58:55   \n",
       "86     vSug5AqRo9gE  oWBBqGwqpx4m      shipped      2017-05-07 10:22:58   \n",
       "89     2HQ26ShSPhCA  uvuFFZDOAlU7     canceled      2017-07-29 12:56:17   \n",
       "133    1By8LOosrvF2  grsbZ5L1H5ty     canceled      2017-11-06 15:47:20   \n",
       "...             ...           ...          ...                      ...   \n",
       "89196  VP3EBMExdh7K  acB2XNtto2SX      shipped      2018-01-24 18:19:18   \n",
       "89226  0jPFvDPItbRN  Hb5m8q1YZEfv     canceled      2017-08-02 14:08:18   \n",
       "89234  QzxMjvdMpOEI  yCbzy1m4tTUA      shipped      2017-09-15 09:05:41   \n",
       "89262  rnnNWGgyHsA5  6LYRxLvrUzNy     canceled      2017-12-13 12:55:38   \n",
       "89281  YCJoeAvBWkpq  BaZgf4zWhXSS      shipped      2018-03-06 11:13:39   \n",
       "\n",
       "         order_approved_at order_delivered_timestamp  \\\n",
       "15     2017-07-24 11:50:18                       NaN   \n",
       "41     2017-02-04 13:10:38                       NaN   \n",
       "86     2017-05-09 09:35:20                       NaN   \n",
       "89     2017-07-29 13:05:18                       NaN   \n",
       "133    2017-11-07 07:30:29                       NaN   \n",
       "...                    ...                       ...   \n",
       "89196  2018-01-24 18:37:41                       NaN   \n",
       "89226  2017-08-02 14:23:13                       NaN   \n",
       "89234  2017-09-15 09:15:13                       NaN   \n",
       "89262  2017-12-13 13:11:58                       NaN   \n",
       "89281  2018-03-06 11:30:38                       NaN   \n",
       "\n",
       "      order_estimated_delivery_date  \n",
       "15                       2017-08-07  \n",
       "41                       2017-03-15  \n",
       "86                       2017-06-12  \n",
       "89                       2017-08-18  \n",
       "133                      2017-11-28  \n",
       "...                             ...  \n",
       "89196                    2018-03-01  \n",
       "89226                    2017-08-24  \n",
       "89234                    2017-10-05  \n",
       "89262                    2018-01-02  \n",
       "89281                    2018-03-16  \n",
       "\n",
       "[1889 rows x 7 columns]"
      ]
     },
     "execution_count": 105,
     "metadata": {},
     "output_type": "execute_result"
    }
   ],
   "source": [
    "test_df = orders[orders['order_delivered_timestamp'].isna()]\n",
    "test_df"
   ]
  },
  {
   "cell_type": "code",
   "execution_count": 112,
   "id": "1db11f74-0784-4718-bf46-9528c87aaed0",
   "metadata": {},
   "outputs": [
    {
     "data": {
      "text/plain": [
       "order_status\n",
       "shipped        936\n",
       "canceled       404\n",
       "processing     273\n",
       "invoiced       266\n",
       "delivered        6\n",
       "unavailable      2\n",
       "approved         2\n",
       "Name: count, dtype: int64"
      ]
     },
     "execution_count": 112,
     "metadata": {},
     "output_type": "execute_result"
    }
   ],
   "source": [
    "test_df['order_status'].value_counts()\n",
    "# flagging shipped with no delivery here, prolly a glitch"
   ]
  },
  {
   "cell_type": "code",
   "execution_count": 155,
   "id": "de265ea8-0e13-4d5a-bcaf-a44ff66e593b",
   "metadata": {},
   "outputs": [
    {
     "data": {
      "text/plain": [
       "1"
      ]
     },
     "execution_count": 155,
     "metadata": {},
     "output_type": "execute_result"
    }
   ],
   "source": [
    "orders['order_purchase_timestamp'] = pd.to_datetime(orders['order_purchase_timestamp'])\n",
    "orders['order_approved_at'] = pd.to_datetime(orders['order_approved_at'])\n",
    "difference = (orders['order_approved_at'] - orders['order_purchase_timestamp']).dropna()\n",
    "((difference.dt.total_seconds()/3600) > 785).sum()\n",
    "# difference.mean()\n",
    "# difference.max()"
   ]
  },
  {
   "cell_type": "markdown",
   "id": "6c0b8325-97f5-4f26-9362-3f6908daba2c",
   "metadata": {},
   "source": [
    "---\n",
    "\n",
    "### Order Items Data (df_OrderItems.csv)\n",
    "\n",
    "- **Shape:** (89316 rows, 5 columns)\n",
    "- **Nulls:** *None*\n",
    "- **Unique Keys:** order_id\n",
    "- **Data types:**\n",
    "    - order_id, product_id & seller_id: should be strings.\n",
    "    - price is numeric & shipping_charges: should be numeric.\n",
    "- **Statistical summary:** Refer to ***order_items.describe()*** for price & shipping insights.\n",
    "- **Notes:**\n",
    "    - data types currently set as object; need conversion.\n",
    "    - order_id is primary key and, seller_id & product_id are foreign keys.\n",
    "    - some outliers in price exist, investigate with product category to understand the context & if they should be removed or not.\n",
    "    - No duplicate rows detected.\n",
    "---"
   ]
  },
  {
   "cell_type": "code",
   "execution_count": 156,
   "id": "b4484a08-77d1-44af-ac6c-4df3ae529945",
   "metadata": {},
   "outputs": [
    {
     "data": {
      "text/html": [
       "<div>\n",
       "<style scoped>\n",
       "    .dataframe tbody tr th:only-of-type {\n",
       "        vertical-align: middle;\n",
       "    }\n",
       "\n",
       "    .dataframe tbody tr th {\n",
       "        vertical-align: top;\n",
       "    }\n",
       "\n",
       "    .dataframe thead th {\n",
       "        text-align: right;\n",
       "    }\n",
       "</style>\n",
       "<table border=\"1\" class=\"dataframe\">\n",
       "  <thead>\n",
       "    <tr style=\"text-align: right;\">\n",
       "      <th></th>\n",
       "      <th>order_id</th>\n",
       "      <th>product_id</th>\n",
       "      <th>seller_id</th>\n",
       "      <th>price</th>\n",
       "      <th>shipping_charges</th>\n",
       "    </tr>\n",
       "  </thead>\n",
       "  <tbody>\n",
       "    <tr>\n",
       "      <th>0</th>\n",
       "      <td>Axfy13Hk4PIk</td>\n",
       "      <td>90K0C1fIyQUf</td>\n",
       "      <td>ZWM05J9LcBSF</td>\n",
       "      <td>223.51</td>\n",
       "      <td>84.65</td>\n",
       "    </tr>\n",
       "    <tr>\n",
       "      <th>1</th>\n",
       "      <td>v6px92oS8cLG</td>\n",
       "      <td>qejhpMGGVcsl</td>\n",
       "      <td>IjlpYfhUbRQs</td>\n",
       "      <td>170.80</td>\n",
       "      <td>23.79</td>\n",
       "    </tr>\n",
       "    <tr>\n",
       "      <th>2</th>\n",
       "      <td>Ulpf9skrhjfm</td>\n",
       "      <td>qUS5d2pEAyxJ</td>\n",
       "      <td>77p2EYxcM9MD</td>\n",
       "      <td>64.40</td>\n",
       "      <td>17.38</td>\n",
       "    </tr>\n",
       "    <tr>\n",
       "      <th>3</th>\n",
       "      <td>bwJVWupf2keN</td>\n",
       "      <td>639iGvMyv0De</td>\n",
       "      <td>jWzS0ayv9TGf</td>\n",
       "      <td>264.50</td>\n",
       "      <td>30.72</td>\n",
       "    </tr>\n",
       "    <tr>\n",
       "      <th>4</th>\n",
       "      <td>Dd0QnrMk9Cj5</td>\n",
       "      <td>1lycYGcsic2F</td>\n",
       "      <td>l1pYW6GBnPMr</td>\n",
       "      <td>779.90</td>\n",
       "      <td>30.66</td>\n",
       "    </tr>\n",
       "  </tbody>\n",
       "</table>\n",
       "</div>"
      ],
      "text/plain": [
       "       order_id    product_id     seller_id   price  shipping_charges\n",
       "0  Axfy13Hk4PIk  90K0C1fIyQUf  ZWM05J9LcBSF  223.51             84.65\n",
       "1  v6px92oS8cLG  qejhpMGGVcsl  IjlpYfhUbRQs  170.80             23.79\n",
       "2  Ulpf9skrhjfm  qUS5d2pEAyxJ  77p2EYxcM9MD   64.40             17.38\n",
       "3  bwJVWupf2keN  639iGvMyv0De  jWzS0ayv9TGf  264.50             30.72\n",
       "4  Dd0QnrMk9Cj5  1lycYGcsic2F  l1pYW6GBnPMr  779.90             30.66"
      ]
     },
     "execution_count": 156,
     "metadata": {},
     "output_type": "execute_result"
    }
   ],
   "source": [
    "order_items.head()"
   ]
  },
  {
   "cell_type": "code",
   "execution_count": 157,
   "id": "a50d56f4-d2c4-4d32-9167-e4cef2f2c1ba",
   "metadata": {},
   "outputs": [
    {
     "name": "stdout",
     "output_type": "stream",
     "text": [
      "(89316, 5)\n"
     ]
    }
   ],
   "source": [
    "print(order_items.shape)"
   ]
  },
  {
   "cell_type": "code",
   "execution_count": 158,
   "id": "c8dea464-6583-413d-a151-d17bc527cdec",
   "metadata": {},
   "outputs": [
    {
     "name": "stdout",
     "output_type": "stream",
     "text": [
      "<class 'pandas.core.frame.DataFrame'>\n",
      "RangeIndex: 89316 entries, 0 to 89315\n",
      "Data columns (total 5 columns):\n",
      " #   Column            Non-Null Count  Dtype  \n",
      "---  ------            --------------  -----  \n",
      " 0   order_id          89316 non-null  object \n",
      " 1   product_id        89316 non-null  object \n",
      " 2   seller_id         89316 non-null  object \n",
      " 3   price             89316 non-null  float64\n",
      " 4   shipping_charges  89316 non-null  float64\n",
      "dtypes: float64(2), object(3)\n",
      "memory usage: 3.4+ MB\n"
     ]
    }
   ],
   "source": [
    "order_items.info()"
   ]
  },
  {
   "cell_type": "code",
   "execution_count": 159,
   "id": "73ee9df6-2713-41d9-b688-f49baeab151b",
   "metadata": {},
   "outputs": [
    {
     "data": {
      "text/html": [
       "<div>\n",
       "<style scoped>\n",
       "    .dataframe tbody tr th:only-of-type {\n",
       "        vertical-align: middle;\n",
       "    }\n",
       "\n",
       "    .dataframe tbody tr th {\n",
       "        vertical-align: top;\n",
       "    }\n",
       "\n",
       "    .dataframe thead th {\n",
       "        text-align: right;\n",
       "    }\n",
       "</style>\n",
       "<table border=\"1\" class=\"dataframe\">\n",
       "  <thead>\n",
       "    <tr style=\"text-align: right;\">\n",
       "      <th></th>\n",
       "      <th>price</th>\n",
       "      <th>shipping_charges</th>\n",
       "    </tr>\n",
       "  </thead>\n",
       "  <tbody>\n",
       "    <tr>\n",
       "      <th>count</th>\n",
       "      <td>89316.000000</td>\n",
       "      <td>89316.000000</td>\n",
       "    </tr>\n",
       "    <tr>\n",
       "      <th>mean</th>\n",
       "      <td>340.900543</td>\n",
       "      <td>44.283210</td>\n",
       "    </tr>\n",
       "    <tr>\n",
       "      <th>std</th>\n",
       "      <td>557.459897</td>\n",
       "      <td>37.672491</td>\n",
       "    </tr>\n",
       "    <tr>\n",
       "      <th>min</th>\n",
       "      <td>0.850000</td>\n",
       "      <td>0.000000</td>\n",
       "    </tr>\n",
       "    <tr>\n",
       "      <th>25%</th>\n",
       "      <td>59.650000</td>\n",
       "      <td>20.110000</td>\n",
       "    </tr>\n",
       "    <tr>\n",
       "      <th>50%</th>\n",
       "      <td>136.900000</td>\n",
       "      <td>35.055000</td>\n",
       "    </tr>\n",
       "    <tr>\n",
       "      <th>75%</th>\n",
       "      <td>399.200000</td>\n",
       "      <td>57.190000</td>\n",
       "    </tr>\n",
       "    <tr>\n",
       "      <th>max</th>\n",
       "      <td>6735.000000</td>\n",
       "      <td>409.680000</td>\n",
       "    </tr>\n",
       "  </tbody>\n",
       "</table>\n",
       "</div>"
      ],
      "text/plain": [
       "              price  shipping_charges\n",
       "count  89316.000000      89316.000000\n",
       "mean     340.900543         44.283210\n",
       "std      557.459897         37.672491\n",
       "min        0.850000          0.000000\n",
       "25%       59.650000         20.110000\n",
       "50%      136.900000         35.055000\n",
       "75%      399.200000         57.190000\n",
       "max     6735.000000        409.680000"
      ]
     },
     "execution_count": 159,
     "metadata": {},
     "output_type": "execute_result"
    }
   ],
   "source": [
    "# 👇🏻 Here top refers to the most frequent value & freq is frequency of 'top' value\n",
    "order_items.describe()"
   ]
  },
  {
   "cell_type": "code",
   "execution_count": 162,
   "id": "42fe2315-7b6d-4b78-b781-ce068d4ec088",
   "metadata": {},
   "outputs": [
    {
     "data": {
      "text/plain": [
       "order_id             object\n",
       "product_id           object\n",
       "seller_id            object\n",
       "price               float64\n",
       "shipping_charges    float64\n",
       "dtype: object"
      ]
     },
     "execution_count": 162,
     "metadata": {},
     "output_type": "execute_result"
    }
   ],
   "source": [
    "order_items.dtypes"
   ]
  },
  {
   "cell_type": "code",
   "execution_count": 163,
   "id": "7f52ff41-2672-4b94-a811-46c0ce93a137",
   "metadata": {},
   "outputs": [
    {
     "data": {
      "text/plain": [
       "order_id            0\n",
       "product_id          0\n",
       "seller_id           0\n",
       "price               0\n",
       "shipping_charges    0\n",
       "dtype: int64"
      ]
     },
     "execution_count": 163,
     "metadata": {},
     "output_type": "execute_result"
    }
   ],
   "source": [
    "order_items.isnull().sum()"
   ]
  },
  {
   "cell_type": "code",
   "execution_count": 164,
   "id": "e869bc00-7666-4fa4-96ea-8ed68f1135d7",
   "metadata": {},
   "outputs": [
    {
     "data": {
      "text/plain": [
       "0"
      ]
     },
     "execution_count": 164,
     "metadata": {},
     "output_type": "execute_result"
    }
   ],
   "source": [
    "order_items.duplicated().sum()"
   ]
  },
  {
   "cell_type": "code",
   "execution_count": 165,
   "id": "54a115da-cf25-4e1d-ad97-a17ac913da2e",
   "metadata": {},
   "outputs": [
    {
     "data": {
      "text/plain": [
       "order_id            89316\n",
       "product_id          27451\n",
       "seller_id            2929\n",
       "price                5235\n",
       "shipping_charges     6327\n",
       "dtype: int64"
      ]
     },
     "execution_count": 165,
     "metadata": {},
     "output_type": "execute_result"
    }
   ],
   "source": [
    "order_items.nunique()"
   ]
  },
  {
   "cell_type": "code",
   "execution_count": 187,
   "id": "25a6fc8c-d738-4c2c-9a52-df55d273ee95",
   "metadata": {},
   "outputs": [
    {
     "data": {
      "image/png": "[encoded data removed]",
      "text/plain": [
       "<Figure size 640x480 with 1 Axes>"
      ]
     },
     "metadata": {},
     "output_type": "display_data"
    }
   ],
   "source": [
    "# remove plots as it belongs to cleaning & exporation part \n",
    "plt.boxplot(order_items['price'])\n",
    "plt.show()"
   ]
  },
  {
   "cell_type": "code",
   "execution_count": 181,
   "id": "8d6c9540-6e4b-45b3-9a47-bdaa468b492e",
   "metadata": {},
   "outputs": [
    {
     "data": {
      "text/html": [
       "<div>\n",
       "<style scoped>\n",
       "    .dataframe tbody tr th:only-of-type {\n",
       "        vertical-align: middle;\n",
       "    }\n",
       "\n",
       "    .dataframe tbody tr th {\n",
       "        vertical-align: top;\n",
       "    }\n",
       "\n",
       "    .dataframe thead th {\n",
       "        text-align: right;\n",
       "    }\n",
       "</style>\n",
       "<table border=\"1\" class=\"dataframe\">\n",
       "  <thead>\n",
       "    <tr style=\"text-align: right;\">\n",
       "      <th></th>\n",
       "      <th>order_id</th>\n",
       "      <th>product_id</th>\n",
       "      <th>seller_id</th>\n",
       "      <th>price</th>\n",
       "      <th>shipping_charges</th>\n",
       "    </tr>\n",
       "  </thead>\n",
       "  <tbody>\n",
       "    <tr>\n",
       "      <th>28299</th>\n",
       "      <td>aPnggTzFcusk</td>\n",
       "      <td>7tZV2OpLVZHg</td>\n",
       "      <td>nt1w9AssyxfU</td>\n",
       "      <td>6499.0</td>\n",
       "      <td>70.06</td>\n",
       "    </tr>\n",
       "    <tr>\n",
       "      <th>45436</th>\n",
       "      <td>SwjsVBeUO9OM</td>\n",
       "      <td>HiyKPuVcad18</td>\n",
       "      <td>4SWsneYKnFcc</td>\n",
       "      <td>6735.0</td>\n",
       "      <td>3.82</td>\n",
       "    </tr>\n",
       "  </tbody>\n",
       "</table>\n",
       "</div>"
      ],
      "text/plain": [
       "           order_id    product_id     seller_id   price  shipping_charges\n",
       "28299  aPnggTzFcusk  7tZV2OpLVZHg  nt1w9AssyxfU  6499.0             70.06\n",
       "45436  SwjsVBeUO9OM  HiyKPuVcad18  4SWsneYKnFcc  6735.0              3.82"
      ]
     },
     "execution_count": 181,
     "metadata": {},
     "output_type": "execute_result"
    }
   ],
   "source": [
    "order_items[order_items['price'] > 5000]"
   ]
  },
  {
   "cell_type": "code",
   "execution_count": 185,
   "id": "58ebb3a5-4c15-4f2b-9a68-0b8ef04ac23e",
   "metadata": {},
   "outputs": [
    {
     "data": {
      "text/plain": [
       "28"
      ]
     },
     "execution_count": 185,
     "metadata": {},
     "output_type": "execute_result"
    }
   ],
   "source": [
    "len(order_items[order_items['price'] > 4500])"
   ]
  },
  {
   "cell_type": "code",
   "execution_count": 186,
   "id": "d69a6b71-2676-421a-8001-6512a3f7cb83",
   "metadata": {},
   "outputs": [
    {
     "data": {
      "text/plain": [
       "423"
      ]
     },
     "execution_count": 186,
     "metadata": {},
     "output_type": "execute_result"
    }
   ],
   "source": [
    "len(order_items[order_items['price'] > 4000])"
   ]
  },
  {
   "cell_type": "code",
   "execution_count": 188,
   "id": "5cdd6535-b8a7-43d8-8f80-f87fa7a89b5d",
   "metadata": {},
   "outputs": [
    {
     "data": {
      "image/png": "[encoded data removed]",
      "text/plain": [
       "<Figure size 640x480 with 1 Axes>"
      ]
     },
     "metadata": {},
     "output_type": "display_data"
    }
   ],
   "source": [
    "# remove plots as it belongs to cleaning & exporation part \n",
    "plt.boxplot(order_items['shipping_charges'])\n",
    "plt.show()"
   ]
  },
  {
   "cell_type": "markdown",
   "id": "10382963-b185-4611-9bd3-7afad02dfd56",
   "metadata": {},
   "source": [
    "---\n",
    "\n",
    "### Customers Data (df_Customers.csv)\n",
    "\n",
    "- **Shape:** (89316 rows, 4 columns)\n",
    "- **Nulls:** *None*\n",
    "- **Unique Keys:** customer_id\n",
    "- **Data types:**\n",
    "    - customer_zip_code_prefix: currently int, should be converted to string.\n",
    "    - rest, all should be strings.\n",
    "- **Notes:**\n",
    "    - convert the data type of zip_code_prefix to string, its misleading being an integer.\n",
    "    - rest data types are currently object, should be converted to string.\n",
    "    - customer_id is the primary key.\n",
    "    - No repeat customers (no of customer_id = no of order_id).\n",
    "    - No duplicate rows detected.\n",
    "  "
   ]
  },
  {
   "cell_type": "code",
   "execution_count": 201,
   "id": "12d2a50a-4c1c-472f-bcda-4845a110b06e",
   "metadata": {},
   "outputs": [
    {
     "data": {
      "text/html": [
       "<div>\n",
       "<style scoped>\n",
       "    .dataframe tbody tr th:only-of-type {\n",
       "        vertical-align: middle;\n",
       "    }\n",
       "\n",
       "    .dataframe tbody tr th {\n",
       "        vertical-align: top;\n",
       "    }\n",
       "\n",
       "    .dataframe thead th {\n",
       "        text-align: right;\n",
       "    }\n",
       "</style>\n",
       "<table border=\"1\" class=\"dataframe\">\n",
       "  <thead>\n",
       "    <tr style=\"text-align: right;\">\n",
       "      <th></th>\n",
       "      <th>customer_id</th>\n",
       "      <th>customer_zip_code_prefix</th>\n",
       "      <th>customer_city</th>\n",
       "      <th>customer_state</th>\n",
       "    </tr>\n",
       "  </thead>\n",
       "  <tbody>\n",
       "    <tr>\n",
       "      <th>0</th>\n",
       "      <td>hCT0x9JiGXBQ</td>\n",
       "      <td>58125</td>\n",
       "      <td>varzea paulista</td>\n",
       "      <td>SP</td>\n",
       "    </tr>\n",
       "    <tr>\n",
       "      <th>1</th>\n",
       "      <td>PxA7fv9spyhx</td>\n",
       "      <td>3112</td>\n",
       "      <td>armacao dos buzios</td>\n",
       "      <td>RJ</td>\n",
       "    </tr>\n",
       "    <tr>\n",
       "      <th>2</th>\n",
       "      <td>g3nXeJkGI0Qw</td>\n",
       "      <td>4119</td>\n",
       "      <td>jandira</td>\n",
       "      <td>SP</td>\n",
       "    </tr>\n",
       "    <tr>\n",
       "      <th>3</th>\n",
       "      <td>EOEsCQ6QlpIg</td>\n",
       "      <td>18212</td>\n",
       "      <td>uberlandia</td>\n",
       "      <td>MG</td>\n",
       "    </tr>\n",
       "    <tr>\n",
       "      <th>4</th>\n",
       "      <td>mVz5LO2Vd6cL</td>\n",
       "      <td>88868</td>\n",
       "      <td>ilhabela</td>\n",
       "      <td>SP</td>\n",
       "    </tr>\n",
       "  </tbody>\n",
       "</table>\n",
       "</div>"
      ],
      "text/plain": [
       "    customer_id  customer_zip_code_prefix       customer_city customer_state\n",
       "0  hCT0x9JiGXBQ                     58125     varzea paulista             SP\n",
       "1  PxA7fv9spyhx                      3112  armacao dos buzios             RJ\n",
       "2  g3nXeJkGI0Qw                      4119             jandira             SP\n",
       "3  EOEsCQ6QlpIg                     18212          uberlandia             MG\n",
       "4  mVz5LO2Vd6cL                     88868            ilhabela             SP"
      ]
     },
     "execution_count": 201,
     "metadata": {},
     "output_type": "execute_result"
    }
   ],
   "source": [
    "customers.head()"
   ]
  },
  {
   "cell_type": "code",
   "execution_count": 206,
   "id": "a2f3e733-aa5c-48db-a703-f1af0d1678a4",
   "metadata": {},
   "outputs": [
    {
     "name": "stdout",
     "output_type": "stream",
     "text": [
      "(89316, 4)\n"
     ]
    }
   ],
   "source": [
    "print(customers.shape)"
   ]
  },
  {
   "cell_type": "code",
   "execution_count": 207,
   "id": "76049911-0e86-4562-a054-fd999f25bd27",
   "metadata": {},
   "outputs": [
    {
     "name": "stdout",
     "output_type": "stream",
     "text": [
      "<class 'pandas.core.frame.DataFrame'>\n",
      "RangeIndex: 89316 entries, 0 to 89315\n",
      "Data columns (total 4 columns):\n",
      " #   Column                    Non-Null Count  Dtype \n",
      "---  ------                    --------------  ----- \n",
      " 0   customer_id               89316 non-null  object\n",
      " 1   customer_zip_code_prefix  89316 non-null  int64 \n",
      " 2   customer_city             89316 non-null  object\n",
      " 3   customer_state            89316 non-null  object\n",
      "dtypes: int64(1), object(3)\n",
      "memory usage: 2.7+ MB\n"
     ]
    }
   ],
   "source": [
    "customers.info()"
   ]
  },
  {
   "cell_type": "code",
   "execution_count": 209,
   "id": "4debf616-4d71-4d36-b25f-2d6d0593e591",
   "metadata": {},
   "outputs": [
    {
     "data": {
      "text/plain": [
       "customer_id                 0\n",
       "customer_zip_code_prefix    0\n",
       "customer_city               0\n",
       "customer_state              0\n",
       "dtype: int64"
      ]
     },
     "execution_count": 209,
     "metadata": {},
     "output_type": "execute_result"
    }
   ],
   "source": [
    "customers.isnull().sum()"
   ]
  },
  {
   "cell_type": "code",
   "execution_count": 211,
   "id": "5e211d49-6590-4dbd-b97f-8332e562547b",
   "metadata": {},
   "outputs": [
    {
     "data": {
      "text/plain": [
       "0"
      ]
     },
     "execution_count": 211,
     "metadata": {},
     "output_type": "execute_result"
    }
   ],
   "source": [
    "customers.duplicated().sum()"
   ]
  },
  {
   "cell_type": "code",
   "execution_count": 212,
   "id": "6f595fcd-5aef-482b-a14d-30843c6aadac",
   "metadata": {},
   "outputs": [
    {
     "data": {
      "text/plain": [
       "customer_id                 89316\n",
       "customer_zip_code_prefix    13930\n",
       "customer_city                3735\n",
       "customer_state                 27\n",
       "dtype: int64"
      ]
     },
     "execution_count": 212,
     "metadata": {},
     "output_type": "execute_result"
    }
   ],
   "source": [
    "customers.nunique()"
   ]
  },
  {
   "cell_type": "markdown",
   "id": "1fc66a4f-93de-4d03-9650-803c53c147af",
   "metadata": {},
   "source": [
    "---\n",
    "\n",
    "### Payments Data (df_Payments.csv)\n",
    "\n",
    "- **Shape:** (89316 rows, 5 columns)\n",
    "- **Nulls:** *None*.\n",
    "- **Unique Keys:** order_id\n",
    "- **Data types:**\n",
    "    - order_id should be string.\n",
    "    - payment_type should be categorical.\n",
    "    - payment_value, payment_installments & payment_sequential should be numerical/float.\n",
    "- **Notes:**\n",
    "    - data types need correction before joins or aggregation.\n",
    "    - order_id is the primary key (verified).\n",
    "    - No duplicate rows detected.\n"
   ]
  },
  {
   "cell_type": "code",
   "execution_count": 213,
   "id": "a7dfdfc3-8373-4810-8d2d-e622e50f7f3b",
   "metadata": {},
   "outputs": [
    {
     "data": {
      "text/html": [
       "<div>\n",
       "<style scoped>\n",
       "    .dataframe tbody tr th:only-of-type {\n",
       "        vertical-align: middle;\n",
       "    }\n",
       "\n",
       "    .dataframe tbody tr th {\n",
       "        vertical-align: top;\n",
       "    }\n",
       "\n",
       "    .dataframe thead th {\n",
       "        text-align: right;\n",
       "    }\n",
       "</style>\n",
       "<table border=\"1\" class=\"dataframe\">\n",
       "  <thead>\n",
       "    <tr style=\"text-align: right;\">\n",
       "      <th></th>\n",
       "      <th>order_id</th>\n",
       "      <th>payment_sequential</th>\n",
       "      <th>payment_type</th>\n",
       "      <th>payment_installments</th>\n",
       "      <th>payment_value</th>\n",
       "    </tr>\n",
       "  </thead>\n",
       "  <tbody>\n",
       "    <tr>\n",
       "      <th>0</th>\n",
       "      <td>Axfy13Hk4PIk</td>\n",
       "      <td>1</td>\n",
       "      <td>credit_card</td>\n",
       "      <td>1</td>\n",
       "      <td>259.14</td>\n",
       "    </tr>\n",
       "    <tr>\n",
       "      <th>1</th>\n",
       "      <td>v6px92oS8cLG</td>\n",
       "      <td>1</td>\n",
       "      <td>credit_card</td>\n",
       "      <td>8</td>\n",
       "      <td>382.39</td>\n",
       "    </tr>\n",
       "    <tr>\n",
       "      <th>2</th>\n",
       "      <td>Ulpf9skrhjfm</td>\n",
       "      <td>1</td>\n",
       "      <td>credit_card</td>\n",
       "      <td>4</td>\n",
       "      <td>249.25</td>\n",
       "    </tr>\n",
       "    <tr>\n",
       "      <th>3</th>\n",
       "      <td>bwJVWupf2keN</td>\n",
       "      <td>1</td>\n",
       "      <td>credit_card</td>\n",
       "      <td>2</td>\n",
       "      <td>27.79</td>\n",
       "    </tr>\n",
       "    <tr>\n",
       "      <th>4</th>\n",
       "      <td>Dd0QnrMk9Cj5</td>\n",
       "      <td>1</td>\n",
       "      <td>credit_card</td>\n",
       "      <td>1</td>\n",
       "      <td>76.15</td>\n",
       "    </tr>\n",
       "  </tbody>\n",
       "</table>\n",
       "</div>"
      ],
      "text/plain": [
       "       order_id  payment_sequential payment_type  payment_installments  \\\n",
       "0  Axfy13Hk4PIk                   1  credit_card                     1   \n",
       "1  v6px92oS8cLG                   1  credit_card                     8   \n",
       "2  Ulpf9skrhjfm                   1  credit_card                     4   \n",
       "3  bwJVWupf2keN                   1  credit_card                     2   \n",
       "4  Dd0QnrMk9Cj5                   1  credit_card                     1   \n",
       "\n",
       "   payment_value  \n",
       "0         259.14  \n",
       "1         382.39  \n",
       "2         249.25  \n",
       "3          27.79  \n",
       "4          76.15  "
      ]
     },
     "execution_count": 213,
     "metadata": {},
     "output_type": "execute_result"
    }
   ],
   "source": [
    "payments.head()"
   ]
  },
  {
   "cell_type": "code",
   "execution_count": 214,
   "id": "df760c2b-009b-4e52-8b80-2e9d62cfef10",
   "metadata": {},
   "outputs": [
    {
     "name": "stdout",
     "output_type": "stream",
     "text": [
      "(89316, 5)\n"
     ]
    }
   ],
   "source": [
    "print(payments.shape)"
   ]
  },
  {
   "cell_type": "code",
   "execution_count": 215,
   "id": "c724662e-6b61-4c18-95ac-3418f189b42d",
   "metadata": {},
   "outputs": [
    {
     "name": "stdout",
     "output_type": "stream",
     "text": [
      "<class 'pandas.core.frame.DataFrame'>\n",
      "RangeIndex: 89316 entries, 0 to 89315\n",
      "Data columns (total 5 columns):\n",
      " #   Column                Non-Null Count  Dtype  \n",
      "---  ------                --------------  -----  \n",
      " 0   order_id              89316 non-null  object \n",
      " 1   payment_sequential    89316 non-null  int64  \n",
      " 2   payment_type          89316 non-null  object \n",
      " 3   payment_installments  89316 non-null  int64  \n",
      " 4   payment_value         89316 non-null  float64\n",
      "dtypes: float64(1), int64(2), object(2)\n",
      "memory usage: 3.4+ MB\n"
     ]
    }
   ],
   "source": [
    "payments.info()"
   ]
  },
  {
   "cell_type": "code",
   "execution_count": 220,
   "id": "5382a35f-021d-4733-ba7d-1f2144dfea70",
   "metadata": {},
   "outputs": [
    {
     "data": {
      "text/plain": [
       "count    89316.000000\n",
       "mean       268.657190\n",
       "std        344.409566\n",
       "min          0.000000\n",
       "25%         84.340000\n",
       "50%        171.860000\n",
       "75%        313.530000\n",
       "max       7274.880000\n",
       "Name: payment_value, dtype: float64"
      ]
     },
     "execution_count": 220,
     "metadata": {},
     "output_type": "execute_result"
    }
   ],
   "source": [
    "payments['payment_value'].describe()"
   ]
  },
  {
   "cell_type": "code",
   "execution_count": 243,
   "id": "89d77f4e-2085-4eac-84fa-8cd14bc7bf5f",
   "metadata": {},
   "outputs": [
    {
     "data": {
      "text/plain": [
       "payment_sequential\n",
       "1     85400\n",
       "2      2589\n",
       "3       494\n",
       "4       236\n",
       "5       152\n",
       "6       100\n",
       "7        80\n",
       "8        46\n",
       "9        37\n",
       "10       31\n",
       "11       34\n",
       "12       24\n",
       "13       14\n",
       "14       10\n",
       "15       12\n",
       "16        6\n",
       "17        9\n",
       "18        9\n",
       "19        9\n",
       "20        6\n",
       "21        8\n",
       "22        3\n",
       "23        1\n",
       "24        1\n",
       "25        1\n",
       "26        2\n",
       "28        1\n",
       "29        1\n",
       "Name: count, dtype: int64"
      ]
     },
     "execution_count": 243,
     "metadata": {},
     "output_type": "execute_result"
    }
   ],
   "source": [
    "payments['payment_sequential'].value_counts().sort_index()"
   ]
  },
  {
   "cell_type": "code",
   "execution_count": 246,
   "id": "5255fbc2-7e94-4307-bab0-e9cf63655097",
   "metadata": {},
   "outputs": [
    {
     "data": {
      "text/plain": [
       "payment_installments\n",
       "0         3\n",
       "1     44313\n",
       "2     10325\n",
       "3      8907\n",
       "4      6032\n",
       "5      4600\n",
       "6      3580\n",
       "7      1401\n",
       "8      3927\n",
       "9       560\n",
       "10     5331\n",
       "11       18\n",
       "12      128\n",
       "13       17\n",
       "14       11\n",
       "15       73\n",
       "16        6\n",
       "17        6\n",
       "18       26\n",
       "20       16\n",
       "21       10\n",
       "22        1\n",
       "23        1\n",
       "24       24\n",
       "Name: count, dtype: int64"
      ]
     },
     "execution_count": 246,
     "metadata": {},
     "output_type": "execute_result"
    }
   ],
   "source": [
    "payments['payment_installments'].value_counts().sort_index()"
   ]
  },
  {
   "cell_type": "code",
   "execution_count": 225,
   "id": "8198d901-cdaa-4401-9fc0-a320b687f576",
   "metadata": {},
   "outputs": [
    {
     "data": {
      "text/plain": [
       "order_id                0\n",
       "payment_sequential      0\n",
       "payment_type            0\n",
       "payment_installments    0\n",
       "payment_value           0\n",
       "dtype: int64"
      ]
     },
     "execution_count": 225,
     "metadata": {},
     "output_type": "execute_result"
    }
   ],
   "source": [
    "payments.isnull().sum()"
   ]
  },
  {
   "cell_type": "code",
   "execution_count": 226,
   "id": "3e42d3e7-7d65-4df1-9b76-97134ec7e005",
   "metadata": {},
   "outputs": [
    {
     "data": {
      "text/plain": [
       "0"
      ]
     },
     "execution_count": 226,
     "metadata": {},
     "output_type": "execute_result"
    }
   ],
   "source": [
    "payments.duplicated().sum()"
   ]
  },
  {
   "cell_type": "code",
   "execution_count": 235,
   "id": "8b1b3314-d8bd-479a-8414-91a36208fa04",
   "metadata": {},
   "outputs": [
    {
     "data": {
      "text/plain": [
       "order_id                89316\n",
       "payment_sequential         28\n",
       "payment_type                4\n",
       "payment_installments       24\n",
       "payment_value           25520\n",
       "dtype: int64"
      ]
     },
     "execution_count": 235,
     "metadata": {},
     "output_type": "execute_result"
    }
   ],
   "source": [
    "payments.nunique()"
   ]
  },
  {
   "cell_type": "markdown",
   "id": "fccc6958-c68e-4ea5-9017-e38ab7395df5",
   "metadata": {},
   "source": [
    "---\n",
    "\n",
    "### Products Data (df_Products.csv)\n",
    "\n",
    "- **Shape:** (89316 rows, 6 columns)\n",
    "- **Nulls:** *None*.\n",
    "- **Unique Keys:** product_id (but duplicate rows exist, so those need to be removed)\n",
    "- **Data types:**\n",
    "    - order_id should be string.\n",
    "    - product_category_name should be categorical.\n",
    "    - all dimensions & product_weight_g should be numerical/float.\n",
    "- **Notes:**\n",
    "    - Data types require correction before aggregation or joins.\n",
    "    - product_id is the primary key.\n",
    "    - Too many (61865) duplicate rows. Drop duplicate rows & retain 27,451 unique products only.\n",
    "    - One category is missing — check if it contains anomalies or pricing outliers.\n",
    "  "
   ]
  },
  {
   "cell_type": "code",
   "execution_count": 247,
   "id": "917ad97e-0fe2-4d05-8cdb-ba45297dba64",
   "metadata": {},
   "outputs": [
    {
     "data": {
      "text/html": [
       "<div>\n",
       "<style scoped>\n",
       "    .dataframe tbody tr th:only-of-type {\n",
       "        vertical-align: middle;\n",
       "    }\n",
       "\n",
       "    .dataframe tbody tr th {\n",
       "        vertical-align: top;\n",
       "    }\n",
       "\n",
       "    .dataframe thead th {\n",
       "        text-align: right;\n",
       "    }\n",
       "</style>\n",
       "<table border=\"1\" class=\"dataframe\">\n",
       "  <thead>\n",
       "    <tr style=\"text-align: right;\">\n",
       "      <th></th>\n",
       "      <th>product_id</th>\n",
       "      <th>product_category_name</th>\n",
       "      <th>product_weight_g</th>\n",
       "      <th>product_length_cm</th>\n",
       "      <th>product_height_cm</th>\n",
       "      <th>product_width_cm</th>\n",
       "    </tr>\n",
       "  </thead>\n",
       "  <tbody>\n",
       "    <tr>\n",
       "      <th>0</th>\n",
       "      <td>90K0C1fIyQUf</td>\n",
       "      <td>toys</td>\n",
       "      <td>491.0</td>\n",
       "      <td>19.0</td>\n",
       "      <td>12.0</td>\n",
       "      <td>16.0</td>\n",
       "    </tr>\n",
       "    <tr>\n",
       "      <th>1</th>\n",
       "      <td>qejhpMGGVcsl</td>\n",
       "      <td>watches_gifts</td>\n",
       "      <td>440.0</td>\n",
       "      <td>18.0</td>\n",
       "      <td>14.0</td>\n",
       "      <td>17.0</td>\n",
       "    </tr>\n",
       "    <tr>\n",
       "      <th>2</th>\n",
       "      <td>qUS5d2pEAyxJ</td>\n",
       "      <td>costruction_tools_garden</td>\n",
       "      <td>2200.0</td>\n",
       "      <td>16.0</td>\n",
       "      <td>16.0</td>\n",
       "      <td>16.0</td>\n",
       "    </tr>\n",
       "    <tr>\n",
       "      <th>3</th>\n",
       "      <td>639iGvMyv0De</td>\n",
       "      <td>toys</td>\n",
       "      <td>1450.0</td>\n",
       "      <td>68.0</td>\n",
       "      <td>3.0</td>\n",
       "      <td>48.0</td>\n",
       "    </tr>\n",
       "    <tr>\n",
       "      <th>4</th>\n",
       "      <td>1lycYGcsic2F</td>\n",
       "      <td>toys</td>\n",
       "      <td>300.0</td>\n",
       "      <td>17.0</td>\n",
       "      <td>4.0</td>\n",
       "      <td>12.0</td>\n",
       "    </tr>\n",
       "  </tbody>\n",
       "</table>\n",
       "</div>"
      ],
      "text/plain": [
       "     product_id     product_category_name  product_weight_g  \\\n",
       "0  90K0C1fIyQUf                      toys             491.0   \n",
       "1  qejhpMGGVcsl             watches_gifts             440.0   \n",
       "2  qUS5d2pEAyxJ  costruction_tools_garden            2200.0   \n",
       "3  639iGvMyv0De                      toys            1450.0   \n",
       "4  1lycYGcsic2F                      toys             300.0   \n",
       "\n",
       "   product_length_cm  product_height_cm  product_width_cm  \n",
       "0               19.0               12.0              16.0  \n",
       "1               18.0               14.0              17.0  \n",
       "2               16.0               16.0              16.0  \n",
       "3               68.0                3.0              48.0  \n",
       "4               17.0                4.0              12.0  "
      ]
     },
     "execution_count": 247,
     "metadata": {},
     "output_type": "execute_result"
    }
   ],
   "source": [
    "products.head()"
   ]
  },
  {
   "cell_type": "code",
   "execution_count": 248,
   "id": "8ed07d25-22cb-4a22-a5d8-f7564395c6a4",
   "metadata": {},
   "outputs": [
    {
     "name": "stdout",
     "output_type": "stream",
     "text": [
      "<class 'pandas.core.frame.DataFrame'>\n",
      "RangeIndex: 89316 entries, 0 to 89315\n",
      "Data columns (total 6 columns):\n",
      " #   Column                 Non-Null Count  Dtype  \n",
      "---  ------                 --------------  -----  \n",
      " 0   product_id             89316 non-null  object \n",
      " 1   product_category_name  89008 non-null  object \n",
      " 2   product_weight_g       89301 non-null  float64\n",
      " 3   product_length_cm      89301 non-null  float64\n",
      " 4   product_height_cm      89301 non-null  float64\n",
      " 5   product_width_cm       89301 non-null  float64\n",
      "dtypes: float64(4), object(2)\n",
      "memory usage: 4.1+ MB\n"
     ]
    }
   ],
   "source": [
    "products.info()"
   ]
  },
  {
   "cell_type": "code",
   "execution_count": 249,
   "id": "e3c66dd1-f492-446a-8eb0-4e475ec1e426",
   "metadata": {},
   "outputs": [
    {
     "name": "stdout",
     "output_type": "stream",
     "text": [
      "(89316, 6)\n"
     ]
    }
   ],
   "source": [
    "print(products.shape)"
   ]
  },
  {
   "cell_type": "code",
   "execution_count": 250,
   "id": "fbff6aa6-7b06-4c9d-8cbb-fb0ed463280e",
   "metadata": {},
   "outputs": [
    {
     "data": {
      "text/plain": [
       "product_id                 0\n",
       "product_category_name    308\n",
       "product_weight_g          15\n",
       "product_length_cm         15\n",
       "product_height_cm         15\n",
       "product_width_cm          15\n",
       "dtype: int64"
      ]
     },
     "execution_count": 250,
     "metadata": {},
     "output_type": "execute_result"
    }
   ],
   "source": [
    "products.isnull().sum()"
   ]
  },
  {
   "cell_type": "code",
   "execution_count": 251,
   "id": "9f5927fa-a2ad-47d4-a9c2-0cc9f3695b1b",
   "metadata": {},
   "outputs": [
    {
     "data": {
      "text/plain": [
       "61865"
      ]
     },
     "execution_count": 251,
     "metadata": {},
     "output_type": "execute_result"
    }
   ],
   "source": [
    "products.duplicated().sum()"
   ]
  },
  {
   "cell_type": "code",
   "execution_count": 252,
   "id": "32d63946-7b2f-4b67-bbf8-11fa1bea9e9b",
   "metadata": {},
   "outputs": [
    {
     "data": {
      "text/plain": [
       "product_id               27451\n",
       "product_category_name       70\n",
       "product_weight_g          2020\n",
       "product_length_cm           99\n",
       "product_height_cm          101\n",
       "product_width_cm            93\n",
       "dtype: int64"
      ]
     },
     "execution_count": 252,
     "metadata": {},
     "output_type": "execute_result"
    }
   ],
   "source": [
    "products.nunique()"
   ]
  },
  {
   "cell_type": "code",
   "execution_count": 253,
   "id": "394bda1c-6772-49d6-a23f-68ba9ea74e37",
   "metadata": {},
   "outputs": [
    {
     "data": {
      "text/plain": [
       "array(['toys', 'watches_gifts', 'costruction_tools_garden',\n",
       "       'bed_bath_table', 'auto', 'health_beauty', 'cool_stuff',\n",
       "       'garden_tools', 'furniture_decor', 'fashion_shoes',\n",
       "       'sports_leisure', 'baby', 'housewares',\n",
       "       'construction_tools_construction', 'electronics',\n",
       "       'home_appliances', 'audio', 'consoles_games', 'stationery',\n",
       "       'furniture_living_room', 'computers_accessories', 'perfumery',\n",
       "       'kitchen_dining_laundry_garden_furniture',\n",
       "       'fashion_bags_accessories', 'market_place', 'telephony',\n",
       "       'home_construction', nan, 'office_furniture',\n",
       "       'industry_commerce_and_business', 'food_drink', 'drinks',\n",
       "       'agro_industry_and_commerce', 'signaling_and_security', 'food',\n",
       "       'pet_shop', 'luggage_accessories', 'home_appliances_2',\n",
       "       'small_appliances', 'tablets_printing_image',\n",
       "       'construction_tools_lights', 'musical_instruments', 'home_confort',\n",
       "       'air_conditioning', 'construction_tools_safety',\n",
       "       'costruction_tools_tools', 'books_technical',\n",
       "       'books_general_interest', 'books_imported', 'computers',\n",
       "       'cine_photo', 'music', 'fashion_male_clothing', 'fashion_sport',\n",
       "       'fixed_telephony', 'fashion_underwear_beach', 'furniture_bedroom',\n",
       "       'art', 'christmas_supplies', 'dvds_blu_ray', 'flowers',\n",
       "       'la_cuisine', 'furniture_mattress_and_upholstery',\n",
       "       'small_appliances_home_oven_and_coffee', 'home_comfort_2',\n",
       "       'arts_and_craftmanship', 'party_supplies',\n",
       "       'fashion_childrens_clothes', 'fashio_female_clothing',\n",
       "       'security_and_services', 'diapers_and_hygiene'], dtype=object)"
      ]
     },
     "execution_count": 253,
     "metadata": {},
     "output_type": "execute_result"
    }
   ],
   "source": [
    "products['product_category_name'].unique()"
   ]
  },
  {
   "cell_type": "code",
   "execution_count": 261,
   "id": "91a92f82-bf46-4556-a1f6-ed53beb95894",
   "metadata": {},
   "outputs": [
    {
     "data": {
      "text/plain": [
       "308"
      ]
     },
     "execution_count": 261,
     "metadata": {},
     "output_type": "execute_result"
    }
   ],
   "source": [
    "products['product_category_name'].isna().sum()"
   ]
  },
  {
   "cell_type": "code",
   "execution_count": 254,
   "id": "78b03eec-da77-488a-9e76-7ae2f56e872b",
   "metadata": {},
   "outputs": [
    {
     "data": {
      "text/html": [
       "<div>\n",
       "<style scoped>\n",
       "    .dataframe tbody tr th:only-of-type {\n",
       "        vertical-align: middle;\n",
       "    }\n",
       "\n",
       "    .dataframe tbody tr th {\n",
       "        vertical-align: top;\n",
       "    }\n",
       "\n",
       "    .dataframe thead th {\n",
       "        text-align: right;\n",
       "    }\n",
       "</style>\n",
       "<table border=\"1\" class=\"dataframe\">\n",
       "  <thead>\n",
       "    <tr style=\"text-align: right;\">\n",
       "      <th></th>\n",
       "      <th>product_id</th>\n",
       "      <th>product_category_name</th>\n",
       "      <th>product_weight_g</th>\n",
       "      <th>product_length_cm</th>\n",
       "      <th>product_height_cm</th>\n",
       "      <th>product_width_cm</th>\n",
       "    </tr>\n",
       "  </thead>\n",
       "  <tbody>\n",
       "    <tr>\n",
       "      <th>329</th>\n",
       "      <td>6cDVtksZH7KU</td>\n",
       "      <td>NaN</td>\n",
       "      <td>200.0</td>\n",
       "      <td>16.0</td>\n",
       "      <td>2.0</td>\n",
       "      <td>11.0</td>\n",
       "    </tr>\n",
       "    <tr>\n",
       "      <th>1037</th>\n",
       "      <td>z6g5uM3fiCVO</td>\n",
       "      <td>NaN</td>\n",
       "      <td>300.0</td>\n",
       "      <td>30.0</td>\n",
       "      <td>6.0</td>\n",
       "      <td>12.0</td>\n",
       "    </tr>\n",
       "    <tr>\n",
       "      <th>1179</th>\n",
       "      <td>N6XMQZiwCJ3t</td>\n",
       "      <td>NaN</td>\n",
       "      <td>600.0</td>\n",
       "      <td>24.0</td>\n",
       "      <td>4.0</td>\n",
       "      <td>15.0</td>\n",
       "    </tr>\n",
       "    <tr>\n",
       "      <th>1589</th>\n",
       "      <td>W3IIy0dnIfkU</td>\n",
       "      <td>NaN</td>\n",
       "      <td>200.0</td>\n",
       "      <td>16.0</td>\n",
       "      <td>2.0</td>\n",
       "      <td>11.0</td>\n",
       "    </tr>\n",
       "    <tr>\n",
       "      <th>3061</th>\n",
       "      <td>Z2X9RgoeYqaj</td>\n",
       "      <td>NaN</td>\n",
       "      <td>6250.0</td>\n",
       "      <td>28.0</td>\n",
       "      <td>34.0</td>\n",
       "      <td>40.0</td>\n",
       "    </tr>\n",
       "    <tr>\n",
       "      <th>...</th>\n",
       "      <td>...</td>\n",
       "      <td>...</td>\n",
       "      <td>...</td>\n",
       "      <td>...</td>\n",
       "      <td>...</td>\n",
       "      <td>...</td>\n",
       "    </tr>\n",
       "    <tr>\n",
       "      <th>88099</th>\n",
       "      <td>5gjt2T2OSHe3</td>\n",
       "      <td>NaN</td>\n",
       "      <td>200.0</td>\n",
       "      <td>22.0</td>\n",
       "      <td>14.0</td>\n",
       "      <td>14.0</td>\n",
       "    </tr>\n",
       "    <tr>\n",
       "      <th>88282</th>\n",
       "      <td>RlHxglMXV69Y</td>\n",
       "      <td>NaN</td>\n",
       "      <td>200.0</td>\n",
       "      <td>16.0</td>\n",
       "      <td>10.0</td>\n",
       "      <td>13.0</td>\n",
       "    </tr>\n",
       "    <tr>\n",
       "      <th>88312</th>\n",
       "      <td>vLQWWPXCmqA7</td>\n",
       "      <td>NaN</td>\n",
       "      <td>300.0</td>\n",
       "      <td>35.0</td>\n",
       "      <td>7.0</td>\n",
       "      <td>12.0</td>\n",
       "    </tr>\n",
       "    <tr>\n",
       "      <th>88640</th>\n",
       "      <td>nAfiZ93td5vY</td>\n",
       "      <td>NaN</td>\n",
       "      <td>17100.0</td>\n",
       "      <td>42.0</td>\n",
       "      <td>80.0</td>\n",
       "      <td>30.0</td>\n",
       "    </tr>\n",
       "    <tr>\n",
       "      <th>89021</th>\n",
       "      <td>pWoCB3wduEGo</td>\n",
       "      <td>NaN</td>\n",
       "      <td>1000.0</td>\n",
       "      <td>20.0</td>\n",
       "      <td>15.0</td>\n",
       "      <td>20.0</td>\n",
       "    </tr>\n",
       "  </tbody>\n",
       "</table>\n",
       "<p>308 rows × 6 columns</p>\n",
       "</div>"
      ],
      "text/plain": [
       "         product_id product_category_name  product_weight_g  \\\n",
       "329    6cDVtksZH7KU                   NaN             200.0   \n",
       "1037   z6g5uM3fiCVO                   NaN             300.0   \n",
       "1179   N6XMQZiwCJ3t                   NaN             600.0   \n",
       "1589   W3IIy0dnIfkU                   NaN             200.0   \n",
       "3061   Z2X9RgoeYqaj                   NaN            6250.0   \n",
       "...             ...                   ...               ...   \n",
       "88099  5gjt2T2OSHe3                   NaN             200.0   \n",
       "88282  RlHxglMXV69Y                   NaN             200.0   \n",
       "88312  vLQWWPXCmqA7                   NaN             300.0   \n",
       "88640  nAfiZ93td5vY                   NaN           17100.0   \n",
       "89021  pWoCB3wduEGo                   NaN            1000.0   \n",
       "\n",
       "       product_length_cm  product_height_cm  product_width_cm  \n",
       "329                 16.0                2.0              11.0  \n",
       "1037                30.0                6.0              12.0  \n",
       "1179                24.0                4.0              15.0  \n",
       "1589                16.0                2.0              11.0  \n",
       "3061                28.0               34.0              40.0  \n",
       "...                  ...                ...               ...  \n",
       "88099               22.0               14.0              14.0  \n",
       "88282               16.0               10.0              13.0  \n",
       "88312               35.0                7.0              12.0  \n",
       "88640               42.0               80.0              30.0  \n",
       "89021               20.0               15.0              20.0  \n",
       "\n",
       "[308 rows x 6 columns]"
      ]
     },
     "execution_count": 254,
     "metadata": {},
     "output_type": "execute_result"
    }
   ],
   "source": [
    "products[products['product_category_name'].isna()]"
   ]
  },
  {
   "cell_type": "code",
   "execution_count": 257,
   "id": "4f438ff9-4ad0-4777-b6b4-79e3f0aced64",
   "metadata": {},
   "outputs": [
    {
     "data": {
      "text/plain": [
       "product_category_name\n",
       "toys                                 67027\n",
       "health_beauty                         2351\n",
       "bed_bath_table                        2146\n",
       "sports_leisure                        1837\n",
       "furniture_decor                       1760\n",
       "                                     ...  \n",
       "fashion_childrens_clothes                2\n",
       "security_and_services                    1\n",
       "furniture_mattress_and_upholstery        1\n",
       "home_comfort_2                           1\n",
       "diapers_and_hygiene                      1\n",
       "Name: count, Length: 70, dtype: int64"
      ]
     },
     "execution_count": 257,
     "metadata": {},
     "output_type": "execute_result"
    }
   ],
   "source": [
    "products['product_category_name'].value_counts()"
   ]
  },
  {
   "cell_type": "code",
   "execution_count": null,
   "id": "baf971a4-993c-42eb-bd5a-d4089d9cbf78",
   "metadata": {},
   "outputs": [],
   "source": []
  }
 ],
 "metadata": {
  "kernelspec": {
   "display_name": "Python 3 (ipykernel)",
   "language": "python",
   "name": "python3"
  },
  "language_info": {
   "codemirror_mode": {
    "name": "ipython",
    "version": 3
   },
   "file_extension": ".py",
   "mimetype": "text/x-python",
   "name": "python",
   "nbconvert_exporter": "python",
   "pygments_lexer": "ipython3",
   "version": "3.12.7"
  }
 },
 "nbformat": 4,
 "nbformat_minor": 5
}
