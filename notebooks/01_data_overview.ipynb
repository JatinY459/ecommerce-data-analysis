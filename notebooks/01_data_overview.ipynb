{
 "cells": [
  {
   "cell_type": "markdown",
   "id": "1c5ebbb2",
   "metadata": {},
   "source": [
    "# **Data Overview**"
   ]
  },
  {
   "cell_type": "markdown",
   "id": "afdb7303-23ef-49cf-9cc4-3545d167b091",
   "metadata": {},
   "source": [
    "## **0. Import Libraries**"
   ]
  },
  {
   "cell_type": "code",
   "execution_count": 23,
   "id": "d405ad55-c891-45cd-8da1-4a30d8f98580",
   "metadata": {},
   "outputs": [],
   "source": [
    "import pandas as pd\n",
    "import matplotlib.pyplot as plt\n",
    "import seaborn as sb\n",
    "%matplotlib inline"
   ]
  },
  {
   "cell_type": "markdown",
   "id": "2889a1de-df03-4bc6-bad1-1f6a6eb28920",
   "metadata": {},
   "source": [
    "---\n",
    "## **1. Import Data**"
   ]
  },
  {
   "cell_type": "code",
   "execution_count": 2,
   "id": "c1037c51-866f-46ee-ba3a-ac98d3b32607",
   "metadata": {},
   "outputs": [],
   "source": [
    "orders = pd.read_csv('../data/raw/train/df_Orders.csv')\n",
    "order_items = pd.read_csv('../data/raw/train/df_OrderItems.csv')\n",
    "coustomers = pd.read_csv('../data/raw/train/df_Customers.csv')\n",
    "payments = pd.read_csv('../data/raw/train/df_Payments.csv')\n",
    "products = pd.read_csv('../data/raw/train/df_Products.csv')"
   ]
  },
  {
   "cell_type": "markdown",
   "id": "65b2c4f4-0978-48ed-8e32-9e6b29791c4a",
   "metadata": {},
   "source": [
    "## **2. Data Preview**"
   ]
  },
  {
   "cell_type": "markdown",
   "id": "dd3d2bbc-5c4f-49f8-b170-a81dde727bee",
   "metadata": {},
   "source": [
    "### Orders Data\n",
    "\n",
    "- **Shape:** (89316,7)\n",
    "- **Nulls:** ...upcoming\n",
    "- **Unique Keys:** order_id\n",
    "- **Order statuses:** 'delivered', 'canceled', 'shipped', 'processing', 'invoiced', 'unavailable', 'approved'\n",
    "- **Data types:** all columns are objects\n",
    "- **Statistical summary:** ...maybe\n",
    "- **Notes:**\n",
    "    - data type needs to be fixed\n",
    "    - No repeat customers (no of customer_id = no of order_id)\n",
    "---"
   ]
  },
  {
   "cell_type": "code",
   "execution_count": 6,
   "id": "84cd77b2-b464-49fb-b2b3-3592d2fdf8ff",
   "metadata": {},
   "outputs": [
    {
     "data": {
      "text/html": [
       "<div>\n",
       "<style scoped>\n",
       "    .dataframe tbody tr th:only-of-type {\n",
       "        vertical-align: middle;\n",
       "    }\n",
       "\n",
       "    .dataframe tbody tr th {\n",
       "        vertical-align: top;\n",
       "    }\n",
       "\n",
       "    .dataframe thead th {\n",
       "        text-align: right;\n",
       "    }\n",
       "</style>\n",
       "<table border=\"1\" class=\"dataframe\">\n",
       "  <thead>\n",
       "    <tr style=\"text-align: right;\">\n",
       "      <th></th>\n",
       "      <th>order_id</th>\n",
       "      <th>customer_id</th>\n",
       "      <th>order_status</th>\n",
       "      <th>order_purchase_timestamp</th>\n",
       "      <th>order_approved_at</th>\n",
       "      <th>order_delivered_timestamp</th>\n",
       "      <th>order_estimated_delivery_date</th>\n",
       "    </tr>\n",
       "  </thead>\n",
       "  <tbody>\n",
       "    <tr>\n",
       "      <th>0</th>\n",
       "      <td>Axfy13Hk4PIk</td>\n",
       "      <td>hCT0x9JiGXBQ</td>\n",
       "      <td>delivered</td>\n",
       "      <td>2017-10-22 18:57:54</td>\n",
       "      <td>2017-10-22 19:14:13</td>\n",
       "      <td>2017-10-26 22:19:52</td>\n",
       "      <td>2017-11-09</td>\n",
       "    </tr>\n",
       "    <tr>\n",
       "      <th>1</th>\n",
       "      <td>v6px92oS8cLG</td>\n",
       "      <td>PxA7fv9spyhx</td>\n",
       "      <td>delivered</td>\n",
       "      <td>2018-06-20 21:40:31</td>\n",
       "      <td>2018-06-20 22:20:20</td>\n",
       "      <td>2018-07-03 22:51:22</td>\n",
       "      <td>2018-07-24</td>\n",
       "    </tr>\n",
       "    <tr>\n",
       "      <th>2</th>\n",
       "      <td>Ulpf9skrhjfm</td>\n",
       "      <td>g3nXeJkGI0Qw</td>\n",
       "      <td>delivered</td>\n",
       "      <td>2018-02-16 16:19:31</td>\n",
       "      <td>2018-02-17 16:15:35</td>\n",
       "      <td>2018-02-27 01:29:50</td>\n",
       "      <td>2018-03-08</td>\n",
       "    </tr>\n",
       "    <tr>\n",
       "      <th>3</th>\n",
       "      <td>bwJVWupf2keN</td>\n",
       "      <td>EOEsCQ6QlpIg</td>\n",
       "      <td>delivered</td>\n",
       "      <td>2018-08-18 18:04:29</td>\n",
       "      <td>2018-08-18 18:15:16</td>\n",
       "      <td>2018-08-27 20:03:51</td>\n",
       "      <td>2018-09-19</td>\n",
       "    </tr>\n",
       "    <tr>\n",
       "      <th>4</th>\n",
       "      <td>Dd0QnrMk9Cj5</td>\n",
       "      <td>mVz5LO2Vd6cL</td>\n",
       "      <td>delivered</td>\n",
       "      <td>2017-12-22 16:44:04</td>\n",
       "      <td>2017-12-22 17:31:31</td>\n",
       "      <td>2018-01-05 19:22:49</td>\n",
       "      <td>2018-01-18</td>\n",
       "    </tr>\n",
       "  </tbody>\n",
       "</table>\n",
       "</div>"
      ],
      "text/plain": [
       "       order_id   customer_id order_status order_purchase_timestamp  \\\n",
       "0  Axfy13Hk4PIk  hCT0x9JiGXBQ    delivered      2017-10-22 18:57:54   \n",
       "1  v6px92oS8cLG  PxA7fv9spyhx    delivered      2018-06-20 21:40:31   \n",
       "2  Ulpf9skrhjfm  g3nXeJkGI0Qw    delivered      2018-02-16 16:19:31   \n",
       "3  bwJVWupf2keN  EOEsCQ6QlpIg    delivered      2018-08-18 18:04:29   \n",
       "4  Dd0QnrMk9Cj5  mVz5LO2Vd6cL    delivered      2017-12-22 16:44:04   \n",
       "\n",
       "     order_approved_at order_delivered_timestamp order_estimated_delivery_date  \n",
       "0  2017-10-22 19:14:13       2017-10-26 22:19:52                    2017-11-09  \n",
       "1  2018-06-20 22:20:20       2018-07-03 22:51:22                    2018-07-24  \n",
       "2  2018-02-17 16:15:35       2018-02-27 01:29:50                    2018-03-08  \n",
       "3  2018-08-18 18:15:16       2018-08-27 20:03:51                    2018-09-19  \n",
       "4  2017-12-22 17:31:31       2018-01-05 19:22:49                    2018-01-18  "
      ]
     },
     "execution_count": 6,
     "metadata": {},
     "output_type": "execute_result"
    }
   ],
   "source": [
    "orders.head()"
   ]
  },
  {
   "cell_type": "code",
   "execution_count": 3,
   "id": "a7db01b6-3060-4738-809c-9b122a710b04",
   "metadata": {},
   "outputs": [
    {
     "name": "stdout",
     "output_type": "stream",
     "text": [
      "(89316, 7)\n"
     ]
    }
   ],
   "source": [
    "print(orders.shape)"
   ]
  },
  {
   "cell_type": "code",
   "execution_count": 4,
   "id": "eadd93db-c20f-4111-90d3-52be4ee7167b",
   "metadata": {},
   "outputs": [
    {
     "name": "stdout",
     "output_type": "stream",
     "text": [
      "<class 'pandas.core.frame.DataFrame'>\n",
      "RangeIndex: 89316 entries, 0 to 89315\n",
      "Data columns (total 7 columns):\n",
      " #   Column                         Non-Null Count  Dtype \n",
      "---  ------                         --------------  ----- \n",
      " 0   order_id                       89316 non-null  object\n",
      " 1   customer_id                    89316 non-null  object\n",
      " 2   order_status                   89316 non-null  object\n",
      " 3   order_purchase_timestamp       89316 non-null  object\n",
      " 4   order_approved_at              89307 non-null  object\n",
      " 5   order_delivered_timestamp      87427 non-null  object\n",
      " 6   order_estimated_delivery_date  89316 non-null  object\n",
      "dtypes: object(7)\n",
      "memory usage: 4.8+ MB\n"
     ]
    }
   ],
   "source": [
    "orders.info()"
   ]
  },
  {
   "cell_type": "code",
   "execution_count": 48,
   "id": "f14d8b30-e57d-4fcd-a495-698960e40880",
   "metadata": {},
   "outputs": [
    {
     "data": {
      "text/html": [
       "<div>\n",
       "<style scoped>\n",
       "    .dataframe tbody tr th:only-of-type {\n",
       "        vertical-align: middle;\n",
       "    }\n",
       "\n",
       "    .dataframe tbody tr th {\n",
       "        vertical-align: top;\n",
       "    }\n",
       "\n",
       "    .dataframe thead th {\n",
       "        text-align: right;\n",
       "    }\n",
       "</style>\n",
       "<table border=\"1\" class=\"dataframe\">\n",
       "  <thead>\n",
       "    <tr style=\"text-align: right;\">\n",
       "      <th></th>\n",
       "      <th>order_id</th>\n",
       "      <th>customer_id</th>\n",
       "      <th>order_status</th>\n",
       "      <th>order_purchase_timestamp</th>\n",
       "      <th>order_approved_at</th>\n",
       "      <th>order_delivered_timestamp</th>\n",
       "      <th>order_estimated_delivery_date</th>\n",
       "    </tr>\n",
       "  </thead>\n",
       "  <tbody>\n",
       "    <tr>\n",
       "      <th>count</th>\n",
       "      <td>89316</td>\n",
       "      <td>89316</td>\n",
       "      <td>89316</td>\n",
       "      <td>89316</td>\n",
       "      <td>89307</td>\n",
       "      <td>87427</td>\n",
       "      <td>89316</td>\n",
       "    </tr>\n",
       "    <tr>\n",
       "      <th>unique</th>\n",
       "      <td>89316</td>\n",
       "      <td>89316</td>\n",
       "      <td>7</td>\n",
       "      <td>72775</td>\n",
       "      <td>68215</td>\n",
       "      <td>71143</td>\n",
       "      <td>444</td>\n",
       "    </tr>\n",
       "    <tr>\n",
       "      <th>top</th>\n",
       "      <td>Axfy13Hk4PIk</td>\n",
       "      <td>hCT0x9JiGXBQ</td>\n",
       "      <td>delivered</td>\n",
       "      <td>2017-08-08 20:26:31</td>\n",
       "      <td>2017-08-08 20:43:31</td>\n",
       "      <td>2017-08-14 12:46:18</td>\n",
       "      <td>2017-12-20</td>\n",
       "    </tr>\n",
       "    <tr>\n",
       "      <th>freq</th>\n",
       "      <td>1</td>\n",
       "      <td>1</td>\n",
       "      <td>87428</td>\n",
       "      <td>87</td>\n",
       "      <td>87</td>\n",
       "      <td>87</td>\n",
       "      <td>500</td>\n",
       "    </tr>\n",
       "  </tbody>\n",
       "</table>\n",
       "</div>"
      ],
      "text/plain": [
       "            order_id   customer_id order_status order_purchase_timestamp  \\\n",
       "count          89316         89316        89316                    89316   \n",
       "unique         89316         89316            7                    72775   \n",
       "top     Axfy13Hk4PIk  hCT0x9JiGXBQ    delivered      2017-08-08 20:26:31   \n",
       "freq               1             1        87428                       87   \n",
       "\n",
       "          order_approved_at order_delivered_timestamp  \\\n",
       "count                 89307                     87427   \n",
       "unique                68215                     71143   \n",
       "top     2017-08-08 20:43:31       2017-08-14 12:46:18   \n",
       "freq                     87                        87   \n",
       "\n",
       "       order_estimated_delivery_date  \n",
       "count                          89316  \n",
       "unique                           444  \n",
       "top                       2017-12-20  \n",
       "freq                             500  "
      ]
     },
     "execution_count": 48,
     "metadata": {},
     "output_type": "execute_result"
    }
   ],
   "source": [
    "# 👇🏻 Here top refers to the most frequent value & freq is frequency of 'top' value\n",
    "orders.describe()"
   ]
  },
  {
   "cell_type": "code",
   "execution_count": 5,
   "id": "c0ccbf86-1d77-44af-8953-dde0e9a4c3d6",
   "metadata": {},
   "outputs": [
    {
     "data": {
      "text/plain": [
       "0"
      ]
     },
     "execution_count": 5,
     "metadata": {},
     "output_type": "execute_result"
    }
   ],
   "source": [
    "orders.duplicated().sum()"
   ]
  },
  {
   "cell_type": "code",
   "execution_count": 31,
   "id": "4ce7afae-9867-464f-9a69-b48442ed096a",
   "metadata": {},
   "outputs": [
    {
     "data": {
      "text/plain": [
       "array(['delivered', 'canceled', 'shipped', 'processing', 'invoiced',\n",
       "       'unavailable', 'approved'], dtype=object)"
      ]
     },
     "execution_count": 31,
     "metadata": {},
     "output_type": "execute_result"
    }
   ],
   "source": [
    "orders['order_status'].unique()"
   ]
  },
  {
   "cell_type": "code",
   "execution_count": 15,
   "id": "bd036d08-6420-4ca0-adb0-920b974bfcd1",
   "metadata": {},
   "outputs": [
    {
     "data": {
      "text/plain": [
       "order_id                         object\n",
       "customer_id                      object\n",
       "order_status                     object\n",
       "order_purchase_timestamp         object\n",
       "order_approved_at                object\n",
       "order_delivered_timestamp        object\n",
       "order_estimated_delivery_date    object\n",
       "dtype: object"
      ]
     },
     "execution_count": 15,
     "metadata": {},
     "output_type": "execute_result"
    }
   ],
   "source": [
    "orders.dtypes"
   ]
  },
  {
   "cell_type": "code",
   "execution_count": 22,
   "id": "79e9103c-b400-4a23-ba72-6b52a1de745a",
   "metadata": {},
   "outputs": [],
   "source": [
    "# for col in orders.columns:\n",
    "#     try:\n",
    "#         orders[col] = pd.to_numeric(orders[col])\n",
    "#     except ValueError:\n",
    "#         pass  # Skip columns that can't be converted"
   ]
  },
  {
   "cell_type": "code",
   "execution_count": 21,
   "id": "435b6539-6942-467a-b6e1-dba280bc7acc",
   "metadata": {},
   "outputs": [
    {
     "data": {
      "text/plain": [
       "order_id                         object\n",
       "customer_id                      object\n",
       "order_status                     object\n",
       "order_purchase_timestamp         object\n",
       "order_approved_at                object\n",
       "order_delivered_timestamp        object\n",
       "order_estimated_delivery_date    object\n",
       "dtype: object"
      ]
     },
     "execution_count": 21,
     "metadata": {},
     "output_type": "execute_result"
    }
   ],
   "source": [
    "orders.dtypes"
   ]
  },
  {
   "cell_type": "code",
   "execution_count": 49,
   "id": "5bdf89bc-0ccd-455e-a6ed-3c3164fb7974",
   "metadata": {},
   "outputs": [
    {
     "data": {
      "text/plain": [
       "order_id                            0\n",
       "customer_id                         0\n",
       "order_status                        0\n",
       "order_purchase_timestamp            0\n",
       "order_approved_at                   9\n",
       "order_delivered_timestamp        1889\n",
       "order_estimated_delivery_date       0\n",
       "dtype: int64"
      ]
     },
     "execution_count": 49,
     "metadata": {},
     "output_type": "execute_result"
    }
   ],
   "source": [
    "orders.isnull().sum()"
   ]
  },
  {
   "cell_type": "code",
   "execution_count": null,
   "id": "d1f3669c-2b12-4fcb-9bd4-724ab8dd9ebb",
   "metadata": {},
   "outputs": [],
   "source": []
  },
  {
   "cell_type": "code",
   "execution_count": null,
   "id": "e5d61f33-5ada-47f8-b8d2-246ae4d7fdbb",
   "metadata": {},
   "outputs": [],
   "source": []
  },
  {
   "cell_type": "code",
   "execution_count": null,
   "id": "1a45e761-95bf-4810-8434-7f43a7111d8d",
   "metadata": {},
   "outputs": [],
   "source": []
  }
 ],
 "metadata": {
  "kernelspec": {
   "display_name": "Python 3 (ipykernel)",
   "language": "python",
   "name": "python3"
  },
  "language_info": {
   "codemirror_mode": {
    "name": "ipython",
    "version": 3
   },
   "file_extension": ".py",
   "mimetype": "text/x-python",
   "name": "python",
   "nbconvert_exporter": "python",
   "pygments_lexer": "ipython3",
   "version": "3.12.7"
  }
 },
 "nbformat": 4,
 "nbformat_minor": 5
}
